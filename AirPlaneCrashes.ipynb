{
  "nbformat": 4,
  "nbformat_minor": 0,
  "metadata": {
    "colab": {
      "provenance": [],
      "collapsed_sections": [],
      "authorship_tag": "ABX9TyMKeYu9bLj4aOetVhnVG6g9"
    },
    "kernelspec": {
      "name": "python3",
      "display_name": "Python 3"
    },
    "language_info": {
      "name": "python"
    }
  },
  "cells": [
    {
      "cell_type": "markdown",
      "source": [
        "# Загрузка библиотек"
      ],
      "metadata": {
        "id": "zmZG0SjOABQJ"
      }
    },
    {
      "cell_type": "code",
      "execution_count": 1151,
      "metadata": {
        "id": "KVBglSBhzf_M"
      },
      "outputs": [],
      "source": [
        "import numpy as np              # Одномерные и многомерные массивы (array)\n",
        "import pandas as pd             # Таблицы и временные ряды (dataframe, series)\n",
        "import matplotlib.pyplot as plt # Научная графика\n",
        "import seaborn as sns           # Еще больше красивой графики для визуализации данных"
      ]
    },
    {
      "cell_type": "markdown",
      "source": [
        "# Загрузка данных"
      ],
      "metadata": {
        "id": "iQnQeSnUAk5M"
      }
    },
    {
      "cell_type": "code",
      "source": [
        "#data_raw = pd.read_csv('/kaggle/input/airplane-crashes-since-1908/Airplane_Crashes_and_Fatalities_Since_1908.csv')\n",
        "data_raw = pd.read_csv(\"https://raw.githubusercontent.com/ShaldonS/Machine-Learning-Course/main/Airplane_Crashes.csv\")\n",
        "#from google.colab import files\n",
        "#uploaded = files.upload()\n"
      ],
      "metadata": {
        "id": "nABar9k1zzLg"
      },
      "execution_count": 1152,
      "outputs": []
    },
    {
      "cell_type": "code",
      "source": [
        "#import io\n",
        "#data_raw = pd.read_csv(io.BytesIO(uploaded['Airplane_Crashes.csv']))"
      ],
      "metadata": {
        "id": "YVoDScnQf5Xy"
      },
      "execution_count": 1153,
      "outputs": []
    },
    {
      "cell_type": "code",
      "source": [
        "data_raw.shape"
      ],
      "metadata": {
        "colab": {
          "base_uri": "https://localhost:8080/"
        },
        "id": "fE3D5fWLz5n2",
        "outputId": "9f0f55e5-6585-4272-f0f2-2b5f5509bad9"
      },
      "execution_count": 1154,
      "outputs": [
        {
          "output_type": "execute_result",
          "data": {
            "text/plain": [
              "(5268, 13)"
            ]
          },
          "metadata": {},
          "execution_count": 1154
        }
      ]
    },
    {
      "cell_type": "code",
      "source": [
        "data_raw"
      ],
      "metadata": {
        "colab": {
          "base_uri": "https://localhost:8080/",
          "height": 659
        },
        "id": "iB0GPgh3z681",
        "outputId": "a4c949eb-97ff-4560-f038-69507b58ebd2"
      },
      "execution_count": 1155,
      "outputs": [
        {
          "output_type": "execute_result",
          "data": {
            "text/plain": [
              "            Date   Time                                           Location  \\\n",
              "0     09/17/1908  17:18                                Fort Myer, Virginia   \n",
              "1     07/12/1912  06:30                            AtlantiCity, New Jersey   \n",
              "2     08/06/1913    NaN                 Victoria, British Columbia, Canada   \n",
              "3     09/09/1913  18:30                                 Over the North Sea   \n",
              "4     10/17/1913  10:30                         Near Johannisthal, Germany   \n",
              "...          ...    ...                                                ...   \n",
              "5263  05/20/2009  06:30                             Near Madiun, Indonesia   \n",
              "5264  05/26/2009    NaN                  Near Isiro, DemocratiRepubliCongo   \n",
              "5265  06/01/2009  00:15  AtlantiOcean, 570 miles northeast of Natal, Br...   \n",
              "5266  06/07/2009  08:30       Near Port Hope Simpson, Newfoundland, Canada   \n",
              "5267  06/08/2009    NaN                  State of Arunachal Pradesh, India   \n",
              "\n",
              "                             Operator Flight #  \\\n",
              "0                Military - U.S. Army      NaN   \n",
              "1                Military - U.S. Navy      NaN   \n",
              "2                             Private        -   \n",
              "3              Military - German Navy      NaN   \n",
              "4              Military - German Navy      NaN   \n",
              "...                               ...      ...   \n",
              "5263  Military - Indonesian Air Force      NaN   \n",
              "5264                      Service Air      NaN   \n",
              "5265                       Air France      447   \n",
              "5266                       Strait Air      NaN   \n",
              "5267      Military - Indian Air Force      NaN   \n",
              "\n",
              "                                          Route  \\\n",
              "0                                 Demonstration   \n",
              "1                                   Test flight   \n",
              "2                                           NaN   \n",
              "3                                           NaN   \n",
              "4                                           NaN   \n",
              "...                                         ...   \n",
              "5263                           Jakarta - Maduin   \n",
              "5264                               Goma - Isiro   \n",
              "5265                     Rio de Janeiro - Paris   \n",
              "5266  Lourdes de BlanSablon - Port Hope Simpson   \n",
              "5267                         Mechuka for Jorhat   \n",
              "\n",
              "                                  Type Registration cn/In  Aboard  Fatalities  \\\n",
              "0                     Wright Flyer III          NaN     1     2.0         1.0   \n",
              "1                            Dirigible          NaN   NaN     5.0         5.0   \n",
              "2                     Curtiss seaplane          NaN   NaN     1.0         1.0   \n",
              "3               Zeppelin L-1 (airship)          NaN   NaN    20.0        14.0   \n",
              "4               Zeppelin L-2 (airship)          NaN   NaN    30.0        30.0   \n",
              "...                                ...          ...   ...     ...         ...   \n",
              "5263           Lockheed C-130 Hercules       A-1325  1982   112.0        98.0   \n",
              "5264                     Antonov An-26       9Q-CSA  5005     4.0         4.0   \n",
              "5265                   Airbus A330-203       F-GZCP   660   228.0       228.0   \n",
              "5266  Britten-Norman BN-2A-27 Islander      C-FJJR    424     1.0         1.0   \n",
              "5267                     Antonov An-32          NaN   NaN    13.0        13.0   \n",
              "\n",
              "      Ground                                            Summary  \n",
              "0        0.0  During a demonstration flight, a U.S. Army fly...  \n",
              "1        0.0  First U.S. dirigible Akron exploded just offsh...  \n",
              "2        0.0  The first fatal airplane accident in Canada oc...  \n",
              "3        0.0  The airship flew into a thunderstorm and encou...  \n",
              "4        0.0  Hydrogen gas which was being vented was sucked...  \n",
              "...      ...                                                ...  \n",
              "5263     2.0  While on approach, the military transport cras...  \n",
              "5264     NaN  The cargo plane crashed while on approach to I...  \n",
              "5265     0.0  The Airbus went missing over the AtlantiOcean ...  \n",
              "5266     0.0  The air ambulance crashed into hills while att...  \n",
              "5267     0.0  The military transport went missing while en r...  \n",
              "\n",
              "[5268 rows x 13 columns]"
            ],
            "text/html": [
              "\n",
              "  <div id=\"df-47955b9c-3efc-4a19-ac09-2de2ffdb6b2a\">\n",
              "    <div class=\"colab-df-container\">\n",
              "      <div>\n",
              "<style scoped>\n",
              "    .dataframe tbody tr th:only-of-type {\n",
              "        vertical-align: middle;\n",
              "    }\n",
              "\n",
              "    .dataframe tbody tr th {\n",
              "        vertical-align: top;\n",
              "    }\n",
              "\n",
              "    .dataframe thead th {\n",
              "        text-align: right;\n",
              "    }\n",
              "</style>\n",
              "<table border=\"1\" class=\"dataframe\">\n",
              "  <thead>\n",
              "    <tr style=\"text-align: right;\">\n",
              "      <th></th>\n",
              "      <th>Date</th>\n",
              "      <th>Time</th>\n",
              "      <th>Location</th>\n",
              "      <th>Operator</th>\n",
              "      <th>Flight #</th>\n",
              "      <th>Route</th>\n",
              "      <th>Type</th>\n",
              "      <th>Registration</th>\n",
              "      <th>cn/In</th>\n",
              "      <th>Aboard</th>\n",
              "      <th>Fatalities</th>\n",
              "      <th>Ground</th>\n",
              "      <th>Summary</th>\n",
              "    </tr>\n",
              "  </thead>\n",
              "  <tbody>\n",
              "    <tr>\n",
              "      <th>0</th>\n",
              "      <td>09/17/1908</td>\n",
              "      <td>17:18</td>\n",
              "      <td>Fort Myer, Virginia</td>\n",
              "      <td>Military - U.S. Army</td>\n",
              "      <td>NaN</td>\n",
              "      <td>Demonstration</td>\n",
              "      <td>Wright Flyer III</td>\n",
              "      <td>NaN</td>\n",
              "      <td>1</td>\n",
              "      <td>2.0</td>\n",
              "      <td>1.0</td>\n",
              "      <td>0.0</td>\n",
              "      <td>During a demonstration flight, a U.S. Army fly...</td>\n",
              "    </tr>\n",
              "    <tr>\n",
              "      <th>1</th>\n",
              "      <td>07/12/1912</td>\n",
              "      <td>06:30</td>\n",
              "      <td>AtlantiCity, New Jersey</td>\n",
              "      <td>Military - U.S. Navy</td>\n",
              "      <td>NaN</td>\n",
              "      <td>Test flight</td>\n",
              "      <td>Dirigible</td>\n",
              "      <td>NaN</td>\n",
              "      <td>NaN</td>\n",
              "      <td>5.0</td>\n",
              "      <td>5.0</td>\n",
              "      <td>0.0</td>\n",
              "      <td>First U.S. dirigible Akron exploded just offsh...</td>\n",
              "    </tr>\n",
              "    <tr>\n",
              "      <th>2</th>\n",
              "      <td>08/06/1913</td>\n",
              "      <td>NaN</td>\n",
              "      <td>Victoria, British Columbia, Canada</td>\n",
              "      <td>Private</td>\n",
              "      <td>-</td>\n",
              "      <td>NaN</td>\n",
              "      <td>Curtiss seaplane</td>\n",
              "      <td>NaN</td>\n",
              "      <td>NaN</td>\n",
              "      <td>1.0</td>\n",
              "      <td>1.0</td>\n",
              "      <td>0.0</td>\n",
              "      <td>The first fatal airplane accident in Canada oc...</td>\n",
              "    </tr>\n",
              "    <tr>\n",
              "      <th>3</th>\n",
              "      <td>09/09/1913</td>\n",
              "      <td>18:30</td>\n",
              "      <td>Over the North Sea</td>\n",
              "      <td>Military - German Navy</td>\n",
              "      <td>NaN</td>\n",
              "      <td>NaN</td>\n",
              "      <td>Zeppelin L-1 (airship)</td>\n",
              "      <td>NaN</td>\n",
              "      <td>NaN</td>\n",
              "      <td>20.0</td>\n",
              "      <td>14.0</td>\n",
              "      <td>0.0</td>\n",
              "      <td>The airship flew into a thunderstorm and encou...</td>\n",
              "    </tr>\n",
              "    <tr>\n",
              "      <th>4</th>\n",
              "      <td>10/17/1913</td>\n",
              "      <td>10:30</td>\n",
              "      <td>Near Johannisthal, Germany</td>\n",
              "      <td>Military - German Navy</td>\n",
              "      <td>NaN</td>\n",
              "      <td>NaN</td>\n",
              "      <td>Zeppelin L-2 (airship)</td>\n",
              "      <td>NaN</td>\n",
              "      <td>NaN</td>\n",
              "      <td>30.0</td>\n",
              "      <td>30.0</td>\n",
              "      <td>0.0</td>\n",
              "      <td>Hydrogen gas which was being vented was sucked...</td>\n",
              "    </tr>\n",
              "    <tr>\n",
              "      <th>...</th>\n",
              "      <td>...</td>\n",
              "      <td>...</td>\n",
              "      <td>...</td>\n",
              "      <td>...</td>\n",
              "      <td>...</td>\n",
              "      <td>...</td>\n",
              "      <td>...</td>\n",
              "      <td>...</td>\n",
              "      <td>...</td>\n",
              "      <td>...</td>\n",
              "      <td>...</td>\n",
              "      <td>...</td>\n",
              "      <td>...</td>\n",
              "    </tr>\n",
              "    <tr>\n",
              "      <th>5263</th>\n",
              "      <td>05/20/2009</td>\n",
              "      <td>06:30</td>\n",
              "      <td>Near Madiun, Indonesia</td>\n",
              "      <td>Military - Indonesian Air Force</td>\n",
              "      <td>NaN</td>\n",
              "      <td>Jakarta - Maduin</td>\n",
              "      <td>Lockheed C-130 Hercules</td>\n",
              "      <td>A-1325</td>\n",
              "      <td>1982</td>\n",
              "      <td>112.0</td>\n",
              "      <td>98.0</td>\n",
              "      <td>2.0</td>\n",
              "      <td>While on approach, the military transport cras...</td>\n",
              "    </tr>\n",
              "    <tr>\n",
              "      <th>5264</th>\n",
              "      <td>05/26/2009</td>\n",
              "      <td>NaN</td>\n",
              "      <td>Near Isiro, DemocratiRepubliCongo</td>\n",
              "      <td>Service Air</td>\n",
              "      <td>NaN</td>\n",
              "      <td>Goma - Isiro</td>\n",
              "      <td>Antonov An-26</td>\n",
              "      <td>9Q-CSA</td>\n",
              "      <td>5005</td>\n",
              "      <td>4.0</td>\n",
              "      <td>4.0</td>\n",
              "      <td>NaN</td>\n",
              "      <td>The cargo plane crashed while on approach to I...</td>\n",
              "    </tr>\n",
              "    <tr>\n",
              "      <th>5265</th>\n",
              "      <td>06/01/2009</td>\n",
              "      <td>00:15</td>\n",
              "      <td>AtlantiOcean, 570 miles northeast of Natal, Br...</td>\n",
              "      <td>Air France</td>\n",
              "      <td>447</td>\n",
              "      <td>Rio de Janeiro - Paris</td>\n",
              "      <td>Airbus A330-203</td>\n",
              "      <td>F-GZCP</td>\n",
              "      <td>660</td>\n",
              "      <td>228.0</td>\n",
              "      <td>228.0</td>\n",
              "      <td>0.0</td>\n",
              "      <td>The Airbus went missing over the AtlantiOcean ...</td>\n",
              "    </tr>\n",
              "    <tr>\n",
              "      <th>5266</th>\n",
              "      <td>06/07/2009</td>\n",
              "      <td>08:30</td>\n",
              "      <td>Near Port Hope Simpson, Newfoundland, Canada</td>\n",
              "      <td>Strait Air</td>\n",
              "      <td>NaN</td>\n",
              "      <td>Lourdes de BlanSablon - Port Hope Simpson</td>\n",
              "      <td>Britten-Norman BN-2A-27 Islander</td>\n",
              "      <td>C-FJJR</td>\n",
              "      <td>424</td>\n",
              "      <td>1.0</td>\n",
              "      <td>1.0</td>\n",
              "      <td>0.0</td>\n",
              "      <td>The air ambulance crashed into hills while att...</td>\n",
              "    </tr>\n",
              "    <tr>\n",
              "      <th>5267</th>\n",
              "      <td>06/08/2009</td>\n",
              "      <td>NaN</td>\n",
              "      <td>State of Arunachal Pradesh, India</td>\n",
              "      <td>Military - Indian Air Force</td>\n",
              "      <td>NaN</td>\n",
              "      <td>Mechuka for Jorhat</td>\n",
              "      <td>Antonov An-32</td>\n",
              "      <td>NaN</td>\n",
              "      <td>NaN</td>\n",
              "      <td>13.0</td>\n",
              "      <td>13.0</td>\n",
              "      <td>0.0</td>\n",
              "      <td>The military transport went missing while en r...</td>\n",
              "    </tr>\n",
              "  </tbody>\n",
              "</table>\n",
              "<p>5268 rows × 13 columns</p>\n",
              "</div>\n",
              "      <button class=\"colab-df-convert\" onclick=\"convertToInteractive('df-47955b9c-3efc-4a19-ac09-2de2ffdb6b2a')\"\n",
              "              title=\"Convert this dataframe to an interactive table.\"\n",
              "              style=\"display:none;\">\n",
              "        \n",
              "  <svg xmlns=\"http://www.w3.org/2000/svg\" height=\"24px\"viewBox=\"0 0 24 24\"\n",
              "       width=\"24px\">\n",
              "    <path d=\"M0 0h24v24H0V0z\" fill=\"none\"/>\n",
              "    <path d=\"M18.56 5.44l.94 2.06.94-2.06 2.06-.94-2.06-.94-.94-2.06-.94 2.06-2.06.94zm-11 1L8.5 8.5l.94-2.06 2.06-.94-2.06-.94L8.5 2.5l-.94 2.06-2.06.94zm10 10l.94 2.06.94-2.06 2.06-.94-2.06-.94-.94-2.06-.94 2.06-2.06.94z\"/><path d=\"M17.41 7.96l-1.37-1.37c-.4-.4-.92-.59-1.43-.59-.52 0-1.04.2-1.43.59L10.3 9.45l-7.72 7.72c-.78.78-.78 2.05 0 2.83L4 21.41c.39.39.9.59 1.41.59.51 0 1.02-.2 1.41-.59l7.78-7.78 2.81-2.81c.8-.78.8-2.07 0-2.86zM5.41 20L4 18.59l7.72-7.72 1.47 1.35L5.41 20z\"/>\n",
              "  </svg>\n",
              "      </button>\n",
              "      \n",
              "  <style>\n",
              "    .colab-df-container {\n",
              "      display:flex;\n",
              "      flex-wrap:wrap;\n",
              "      gap: 12px;\n",
              "    }\n",
              "\n",
              "    .colab-df-convert {\n",
              "      background-color: #E8F0FE;\n",
              "      border: none;\n",
              "      border-radius: 50%;\n",
              "      cursor: pointer;\n",
              "      display: none;\n",
              "      fill: #1967D2;\n",
              "      height: 32px;\n",
              "      padding: 0 0 0 0;\n",
              "      width: 32px;\n",
              "    }\n",
              "\n",
              "    .colab-df-convert:hover {\n",
              "      background-color: #E2EBFA;\n",
              "      box-shadow: 0px 1px 2px rgba(60, 64, 67, 0.3), 0px 1px 3px 1px rgba(60, 64, 67, 0.15);\n",
              "      fill: #174EA6;\n",
              "    }\n",
              "\n",
              "    [theme=dark] .colab-df-convert {\n",
              "      background-color: #3B4455;\n",
              "      fill: #D2E3FC;\n",
              "    }\n",
              "\n",
              "    [theme=dark] .colab-df-convert:hover {\n",
              "      background-color: #434B5C;\n",
              "      box-shadow: 0px 1px 3px 1px rgba(0, 0, 0, 0.15);\n",
              "      filter: drop-shadow(0px 1px 2px rgba(0, 0, 0, 0.3));\n",
              "      fill: #FFFFFF;\n",
              "    }\n",
              "  </style>\n",
              "\n",
              "      <script>\n",
              "        const buttonEl =\n",
              "          document.querySelector('#df-47955b9c-3efc-4a19-ac09-2de2ffdb6b2a button.colab-df-convert');\n",
              "        buttonEl.style.display =\n",
              "          google.colab.kernel.accessAllowed ? 'block' : 'none';\n",
              "\n",
              "        async function convertToInteractive(key) {\n",
              "          const element = document.querySelector('#df-47955b9c-3efc-4a19-ac09-2de2ffdb6b2a');\n",
              "          const dataTable =\n",
              "            await google.colab.kernel.invokeFunction('convertToInteractive',\n",
              "                                                     [key], {});\n",
              "          if (!dataTable) return;\n",
              "\n",
              "          const docLinkHtml = 'Like what you see? Visit the ' +\n",
              "            '<a target=\"_blank\" href=https://colab.research.google.com/notebooks/data_table.ipynb>data table notebook</a>'\n",
              "            + ' to learn more about interactive tables.';\n",
              "          element.innerHTML = '';\n",
              "          dataTable['output_type'] = 'display_data';\n",
              "          await google.colab.output.renderOutput(dataTable, element);\n",
              "          const docLink = document.createElement('div');\n",
              "          docLink.innerHTML = docLinkHtml;\n",
              "          element.appendChild(docLink);\n",
              "        }\n",
              "      </script>\n",
              "    </div>\n",
              "  </div>\n",
              "  "
            ]
          },
          "metadata": {},
          "execution_count": 1155
        }
      ]
    },
    {
      "cell_type": "code",
      "source": [
        "data_raw.info()"
      ],
      "metadata": {
        "colab": {
          "base_uri": "https://localhost:8080/"
        },
        "id": "Xmrvaz2_z7F-",
        "outputId": "917b0435-c83b-4179-9242-1a8c8e8e994e"
      },
      "execution_count": 1156,
      "outputs": [
        {
          "output_type": "stream",
          "name": "stdout",
          "text": [
            "<class 'pandas.core.frame.DataFrame'>\n",
            "RangeIndex: 5268 entries, 0 to 5267\n",
            "Data columns (total 13 columns):\n",
            " #   Column        Non-Null Count  Dtype  \n",
            "---  ------        --------------  -----  \n",
            " 0   Date          5268 non-null   object \n",
            " 1   Time          3049 non-null   object \n",
            " 2   Location      5248 non-null   object \n",
            " 3   Operator      5250 non-null   object \n",
            " 4   Flight #      1069 non-null   object \n",
            " 5   Route         3562 non-null   object \n",
            " 6   Type          5241 non-null   object \n",
            " 7   Registration  4933 non-null   object \n",
            " 8   cn/In         4040 non-null   object \n",
            " 9   Aboard        5246 non-null   float64\n",
            " 10  Fatalities    5256 non-null   float64\n",
            " 11  Ground        5246 non-null   float64\n",
            " 12  Summary       4878 non-null   object \n",
            "dtypes: float64(3), object(10)\n",
            "memory usage: 535.2+ KB\n"
          ]
        }
      ]
    },
    {
      "cell_type": "markdown",
      "source": [
        "#О датасете\n",
        "\n",
        "**Описание:** Полная история авиакатастроф по всему миру, с 1908 года по 2009 год.\n",
        "\n",
        "**Колонки:**\n",
        "- `Date` - дата крушения\n",
        "- `Time` - время\n",
        "- `Location` - место крушения\n",
        "- `Operator` - оператор\n",
        "- `Flight` - номер рейса\n",
        "- `Route` - маршрут\t(до аварии)\n",
        "- `Type`- \tтип самолета\n",
        "- `Registration`- номер регистрации\t\n",
        "- `cn/In` - строительный или серийный номер \n",
        "- `Aboard` - число людей на борту\t\n",
        "- `Fatalities` - смертельные случаи\n",
        "- `Ground` - \tпогибло во время приземления\n",
        "- `Summary` - общее описание"
      ],
      "metadata": {
        "id": "Ypr18e8uFtYy"
      }
    },
    {
      "cell_type": "code",
      "source": [
        "data_raw.columns"
      ],
      "metadata": {
        "colab": {
          "base_uri": "https://localhost:8080/"
        },
        "id": "8CfWMVF70LhU",
        "outputId": "d5c266a1-439c-4d63-913c-a2ff1caebb80"
      },
      "execution_count": 1157,
      "outputs": [
        {
          "output_type": "execute_result",
          "data": {
            "text/plain": [
              "Index(['Date', 'Time', 'Location', 'Operator', 'Flight #', 'Route', 'Type',\n",
              "       'Registration', 'cn/In', 'Aboard', 'Fatalities', 'Ground', 'Summary'],\n",
              "      dtype='object')"
            ]
          },
          "metadata": {},
          "execution_count": 1157
        }
      ]
    },
    {
      "cell_type": "code",
      "source": [
        "percent_missing = data_raw.isnull().sum() * 100 / len(data_raw)\n",
        "missing_value_df = pd.DataFrame({'column_name': data_raw.columns,\n",
        "                                 'percent_missing': percent_missing})\n",
        "missing_value_df.mean() "
      ],
      "metadata": {
        "colab": {
          "base_uri": "https://localhost:8080/"
        },
        "id": "I9iJ1Wp7haLF",
        "outputId": "529f30b9-919d-4b2e-8339-91c7f482a296"
      },
      "execution_count": 1158,
      "outputs": [
        {
          "output_type": "stream",
          "name": "stderr",
          "text": [
            "/usr/local/lib/python3.7/dist-packages/ipykernel_launcher.py:4: FutureWarning: Dropping of nuisance columns in DataFrame reductions (with 'numeric_only=None') is deprecated; in a future version this will raise TypeError.  Select only valid columns before calling the reduction.\n",
            "  after removing the cwd from sys.path.\n"
          ]
        },
        {
          "output_type": "execute_result",
          "data": {
            "text/plain": [
              "percent_missing    14.891069\n",
              "dtype: float64"
            ]
          },
          "metadata": {},
          "execution_count": 1158
        }
      ]
    },
    {
      "cell_type": "code",
      "source": [
        "data_raw.corr()"
      ],
      "metadata": {
        "colab": {
          "base_uri": "https://localhost:8080/",
          "height": 143
        },
        "id": "l26iVW9TfSR5",
        "outputId": "1af0daca-3c29-474f-f2f7-bd027045b370"
      },
      "execution_count": 1159,
      "outputs": [
        {
          "output_type": "execute_result",
          "data": {
            "text/plain": [
              "              Aboard  Fatalities    Ground\n",
              "Aboard      1.000000    0.757172  0.023241\n",
              "Fatalities  0.757172    1.000000  0.035170\n",
              "Ground      0.023241    0.035170  1.000000"
            ],
            "text/html": [
              "\n",
              "  <div id=\"df-2836a409-ecdb-45bc-a5e2-d6fda3e4e200\">\n",
              "    <div class=\"colab-df-container\">\n",
              "      <div>\n",
              "<style scoped>\n",
              "    .dataframe tbody tr th:only-of-type {\n",
              "        vertical-align: middle;\n",
              "    }\n",
              "\n",
              "    .dataframe tbody tr th {\n",
              "        vertical-align: top;\n",
              "    }\n",
              "\n",
              "    .dataframe thead th {\n",
              "        text-align: right;\n",
              "    }\n",
              "</style>\n",
              "<table border=\"1\" class=\"dataframe\">\n",
              "  <thead>\n",
              "    <tr style=\"text-align: right;\">\n",
              "      <th></th>\n",
              "      <th>Aboard</th>\n",
              "      <th>Fatalities</th>\n",
              "      <th>Ground</th>\n",
              "    </tr>\n",
              "  </thead>\n",
              "  <tbody>\n",
              "    <tr>\n",
              "      <th>Aboard</th>\n",
              "      <td>1.000000</td>\n",
              "      <td>0.757172</td>\n",
              "      <td>0.023241</td>\n",
              "    </tr>\n",
              "    <tr>\n",
              "      <th>Fatalities</th>\n",
              "      <td>0.757172</td>\n",
              "      <td>1.000000</td>\n",
              "      <td>0.035170</td>\n",
              "    </tr>\n",
              "    <tr>\n",
              "      <th>Ground</th>\n",
              "      <td>0.023241</td>\n",
              "      <td>0.035170</td>\n",
              "      <td>1.000000</td>\n",
              "    </tr>\n",
              "  </tbody>\n",
              "</table>\n",
              "</div>\n",
              "      <button class=\"colab-df-convert\" onclick=\"convertToInteractive('df-2836a409-ecdb-45bc-a5e2-d6fda3e4e200')\"\n",
              "              title=\"Convert this dataframe to an interactive table.\"\n",
              "              style=\"display:none;\">\n",
              "        \n",
              "  <svg xmlns=\"http://www.w3.org/2000/svg\" height=\"24px\"viewBox=\"0 0 24 24\"\n",
              "       width=\"24px\">\n",
              "    <path d=\"M0 0h24v24H0V0z\" fill=\"none\"/>\n",
              "    <path d=\"M18.56 5.44l.94 2.06.94-2.06 2.06-.94-2.06-.94-.94-2.06-.94 2.06-2.06.94zm-11 1L8.5 8.5l.94-2.06 2.06-.94-2.06-.94L8.5 2.5l-.94 2.06-2.06.94zm10 10l.94 2.06.94-2.06 2.06-.94-2.06-.94-.94-2.06-.94 2.06-2.06.94z\"/><path d=\"M17.41 7.96l-1.37-1.37c-.4-.4-.92-.59-1.43-.59-.52 0-1.04.2-1.43.59L10.3 9.45l-7.72 7.72c-.78.78-.78 2.05 0 2.83L4 21.41c.39.39.9.59 1.41.59.51 0 1.02-.2 1.41-.59l7.78-7.78 2.81-2.81c.8-.78.8-2.07 0-2.86zM5.41 20L4 18.59l7.72-7.72 1.47 1.35L5.41 20z\"/>\n",
              "  </svg>\n",
              "      </button>\n",
              "      \n",
              "  <style>\n",
              "    .colab-df-container {\n",
              "      display:flex;\n",
              "      flex-wrap:wrap;\n",
              "      gap: 12px;\n",
              "    }\n",
              "\n",
              "    .colab-df-convert {\n",
              "      background-color: #E8F0FE;\n",
              "      border: none;\n",
              "      border-radius: 50%;\n",
              "      cursor: pointer;\n",
              "      display: none;\n",
              "      fill: #1967D2;\n",
              "      height: 32px;\n",
              "      padding: 0 0 0 0;\n",
              "      width: 32px;\n",
              "    }\n",
              "\n",
              "    .colab-df-convert:hover {\n",
              "      background-color: #E2EBFA;\n",
              "      box-shadow: 0px 1px 2px rgba(60, 64, 67, 0.3), 0px 1px 3px 1px rgba(60, 64, 67, 0.15);\n",
              "      fill: #174EA6;\n",
              "    }\n",
              "\n",
              "    [theme=dark] .colab-df-convert {\n",
              "      background-color: #3B4455;\n",
              "      fill: #D2E3FC;\n",
              "    }\n",
              "\n",
              "    [theme=dark] .colab-df-convert:hover {\n",
              "      background-color: #434B5C;\n",
              "      box-shadow: 0px 1px 3px 1px rgba(0, 0, 0, 0.15);\n",
              "      filter: drop-shadow(0px 1px 2px rgba(0, 0, 0, 0.3));\n",
              "      fill: #FFFFFF;\n",
              "    }\n",
              "  </style>\n",
              "\n",
              "      <script>\n",
              "        const buttonEl =\n",
              "          document.querySelector('#df-2836a409-ecdb-45bc-a5e2-d6fda3e4e200 button.colab-df-convert');\n",
              "        buttonEl.style.display =\n",
              "          google.colab.kernel.accessAllowed ? 'block' : 'none';\n",
              "\n",
              "        async function convertToInteractive(key) {\n",
              "          const element = document.querySelector('#df-2836a409-ecdb-45bc-a5e2-d6fda3e4e200');\n",
              "          const dataTable =\n",
              "            await google.colab.kernel.invokeFunction('convertToInteractive',\n",
              "                                                     [key], {});\n",
              "          if (!dataTable) return;\n",
              "\n",
              "          const docLinkHtml = 'Like what you see? Visit the ' +\n",
              "            '<a target=\"_blank\" href=https://colab.research.google.com/notebooks/data_table.ipynb>data table notebook</a>'\n",
              "            + ' to learn more about interactive tables.';\n",
              "          element.innerHTML = '';\n",
              "          dataTable['output_type'] = 'display_data';\n",
              "          await google.colab.output.renderOutput(dataTable, element);\n",
              "          const docLink = document.createElement('div');\n",
              "          docLink.innerHTML = docLinkHtml;\n",
              "          element.appendChild(docLink);\n",
              "        }\n",
              "      </script>\n",
              "    </div>\n",
              "  </div>\n",
              "  "
            ]
          },
          "metadata": {},
          "execution_count": 1159
        }
      ]
    },
    {
      "cell_type": "markdown",
      "source": [
        "# Выбросы"
      ],
      "metadata": {
        "id": "oypjeZL91KoI"
      }
    },
    {
      "cell_type": "code",
      "source": [
        "data_raw.describe().T"
      ],
      "metadata": {
        "colab": {
          "base_uri": "https://localhost:8080/",
          "height": 143
        },
        "id": "hjFJZPfN1KYF",
        "outputId": "7de55284-74e4-4c25-ebfd-cf8de79d0424"
      },
      "execution_count": 1160,
      "outputs": [
        {
          "output_type": "execute_result",
          "data": {
            "text/plain": [
              "             count       mean        std  min  25%   50%   75%     max\n",
              "Aboard      5246.0  27.554518  43.076711  0.0  5.0  13.0  30.0   644.0\n",
              "Fatalities  5256.0  20.068303  33.199952  0.0  3.0   9.0  23.0   583.0\n",
              "Ground      5246.0   1.608845  53.987827  0.0  0.0   0.0   0.0  2750.0"
            ],
            "text/html": [
              "\n",
              "  <div id=\"df-d63c3808-7f2a-4a24-b5fb-edb9c6280e66\">\n",
              "    <div class=\"colab-df-container\">\n",
              "      <div>\n",
              "<style scoped>\n",
              "    .dataframe tbody tr th:only-of-type {\n",
              "        vertical-align: middle;\n",
              "    }\n",
              "\n",
              "    .dataframe tbody tr th {\n",
              "        vertical-align: top;\n",
              "    }\n",
              "\n",
              "    .dataframe thead th {\n",
              "        text-align: right;\n",
              "    }\n",
              "</style>\n",
              "<table border=\"1\" class=\"dataframe\">\n",
              "  <thead>\n",
              "    <tr style=\"text-align: right;\">\n",
              "      <th></th>\n",
              "      <th>count</th>\n",
              "      <th>mean</th>\n",
              "      <th>std</th>\n",
              "      <th>min</th>\n",
              "      <th>25%</th>\n",
              "      <th>50%</th>\n",
              "      <th>75%</th>\n",
              "      <th>max</th>\n",
              "    </tr>\n",
              "  </thead>\n",
              "  <tbody>\n",
              "    <tr>\n",
              "      <th>Aboard</th>\n",
              "      <td>5246.0</td>\n",
              "      <td>27.554518</td>\n",
              "      <td>43.076711</td>\n",
              "      <td>0.0</td>\n",
              "      <td>5.0</td>\n",
              "      <td>13.0</td>\n",
              "      <td>30.0</td>\n",
              "      <td>644.0</td>\n",
              "    </tr>\n",
              "    <tr>\n",
              "      <th>Fatalities</th>\n",
              "      <td>5256.0</td>\n",
              "      <td>20.068303</td>\n",
              "      <td>33.199952</td>\n",
              "      <td>0.0</td>\n",
              "      <td>3.0</td>\n",
              "      <td>9.0</td>\n",
              "      <td>23.0</td>\n",
              "      <td>583.0</td>\n",
              "    </tr>\n",
              "    <tr>\n",
              "      <th>Ground</th>\n",
              "      <td>5246.0</td>\n",
              "      <td>1.608845</td>\n",
              "      <td>53.987827</td>\n",
              "      <td>0.0</td>\n",
              "      <td>0.0</td>\n",
              "      <td>0.0</td>\n",
              "      <td>0.0</td>\n",
              "      <td>2750.0</td>\n",
              "    </tr>\n",
              "  </tbody>\n",
              "</table>\n",
              "</div>\n",
              "      <button class=\"colab-df-convert\" onclick=\"convertToInteractive('df-d63c3808-7f2a-4a24-b5fb-edb9c6280e66')\"\n",
              "              title=\"Convert this dataframe to an interactive table.\"\n",
              "              style=\"display:none;\">\n",
              "        \n",
              "  <svg xmlns=\"http://www.w3.org/2000/svg\" height=\"24px\"viewBox=\"0 0 24 24\"\n",
              "       width=\"24px\">\n",
              "    <path d=\"M0 0h24v24H0V0z\" fill=\"none\"/>\n",
              "    <path d=\"M18.56 5.44l.94 2.06.94-2.06 2.06-.94-2.06-.94-.94-2.06-.94 2.06-2.06.94zm-11 1L8.5 8.5l.94-2.06 2.06-.94-2.06-.94L8.5 2.5l-.94 2.06-2.06.94zm10 10l.94 2.06.94-2.06 2.06-.94-2.06-.94-.94-2.06-.94 2.06-2.06.94z\"/><path d=\"M17.41 7.96l-1.37-1.37c-.4-.4-.92-.59-1.43-.59-.52 0-1.04.2-1.43.59L10.3 9.45l-7.72 7.72c-.78.78-.78 2.05 0 2.83L4 21.41c.39.39.9.59 1.41.59.51 0 1.02-.2 1.41-.59l7.78-7.78 2.81-2.81c.8-.78.8-2.07 0-2.86zM5.41 20L4 18.59l7.72-7.72 1.47 1.35L5.41 20z\"/>\n",
              "  </svg>\n",
              "      </button>\n",
              "      \n",
              "  <style>\n",
              "    .colab-df-container {\n",
              "      display:flex;\n",
              "      flex-wrap:wrap;\n",
              "      gap: 12px;\n",
              "    }\n",
              "\n",
              "    .colab-df-convert {\n",
              "      background-color: #E8F0FE;\n",
              "      border: none;\n",
              "      border-radius: 50%;\n",
              "      cursor: pointer;\n",
              "      display: none;\n",
              "      fill: #1967D2;\n",
              "      height: 32px;\n",
              "      padding: 0 0 0 0;\n",
              "      width: 32px;\n",
              "    }\n",
              "\n",
              "    .colab-df-convert:hover {\n",
              "      background-color: #E2EBFA;\n",
              "      box-shadow: 0px 1px 2px rgba(60, 64, 67, 0.3), 0px 1px 3px 1px rgba(60, 64, 67, 0.15);\n",
              "      fill: #174EA6;\n",
              "    }\n",
              "\n",
              "    [theme=dark] .colab-df-convert {\n",
              "      background-color: #3B4455;\n",
              "      fill: #D2E3FC;\n",
              "    }\n",
              "\n",
              "    [theme=dark] .colab-df-convert:hover {\n",
              "      background-color: #434B5C;\n",
              "      box-shadow: 0px 1px 3px 1px rgba(0, 0, 0, 0.15);\n",
              "      filter: drop-shadow(0px 1px 2px rgba(0, 0, 0, 0.3));\n",
              "      fill: #FFFFFF;\n",
              "    }\n",
              "  </style>\n",
              "\n",
              "      <script>\n",
              "        const buttonEl =\n",
              "          document.querySelector('#df-d63c3808-7f2a-4a24-b5fb-edb9c6280e66 button.colab-df-convert');\n",
              "        buttonEl.style.display =\n",
              "          google.colab.kernel.accessAllowed ? 'block' : 'none';\n",
              "\n",
              "        async function convertToInteractive(key) {\n",
              "          const element = document.querySelector('#df-d63c3808-7f2a-4a24-b5fb-edb9c6280e66');\n",
              "          const dataTable =\n",
              "            await google.colab.kernel.invokeFunction('convertToInteractive',\n",
              "                                                     [key], {});\n",
              "          if (!dataTable) return;\n",
              "\n",
              "          const docLinkHtml = 'Like what you see? Visit the ' +\n",
              "            '<a target=\"_blank\" href=https://colab.research.google.com/notebooks/data_table.ipynb>data table notebook</a>'\n",
              "            + ' to learn more about interactive tables.';\n",
              "          element.innerHTML = '';\n",
              "          dataTable['output_type'] = 'display_data';\n",
              "          await google.colab.output.renderOutput(dataTable, element);\n",
              "          const docLink = document.createElement('div');\n",
              "          docLink.innerHTML = docLinkHtml;\n",
              "          element.appendChild(docLink);\n",
              "        }\n",
              "      </script>\n",
              "    </div>\n",
              "  </div>\n",
              "  "
            ]
          },
          "metadata": {},
          "execution_count": 1160
        }
      ]
    },
    {
      "cell_type": "code",
      "source": [
        "data_raw.quantile(0.99)"
      ],
      "metadata": {
        "colab": {
          "base_uri": "https://localhost:8080/"
        },
        "id": "oVLS6E9y1gY-",
        "outputId": "81204f43-183d-4c7f-aea2-b5b9c64f7fd6"
      },
      "execution_count": 1161,
      "outputs": [
        {
          "output_type": "execute_result",
          "data": {
            "text/plain": [
              "Aboard        215.65\n",
              "Fatalities    158.45\n",
              "Ground         13.55\n",
              "Name: 0.99, dtype: float64"
            ]
          },
          "metadata": {},
          "execution_count": 1161
        }
      ]
    },
    {
      "cell_type": "code",
      "source": [
        "sns.boxplot(y = \"Fatalities\", data=data_raw)"
      ],
      "metadata": {
        "colab": {
          "base_uri": "https://localhost:8080/",
          "height": 269
        },
        "id": "o7KEum0P2vKe",
        "outputId": "5be9ab39-b439-4632-fa81-89cfb4abadf3"
      },
      "execution_count": 1162,
      "outputs": [
        {
          "output_type": "execute_result",
          "data": {
            "text/plain": [
              "<matplotlib.axes._subplots.AxesSubplot at 0x7f0415687ad0>"
            ]
          },
          "metadata": {},
          "execution_count": 1162
        },
        {
          "output_type": "display_data",
          "data": {
            "text/plain": [
              "<Figure size 432x288 with 1 Axes>"
            ],
            "image/png": "[encoded data removed]"
          },
          "metadata": {
            "needs_background": "light"
          }
        }
      ]
    },
    {
      "cell_type": "code",
      "source": [
        "data = data_raw.copy()\n",
        "rows_to_drop = data[(data['Fatalities'] > data['Fatalities'].quantile(0.99))].index\n",
        "data = data.drop(rows_to_drop)\n",
        "\n",
        "sns.boxplot(y = \"Fatalities\", data=data)"
      ],
      "metadata": {
        "colab": {
          "base_uri": "https://localhost:8080/",
          "height": 269
        },
        "id": "xxomcfk43FCQ",
        "outputId": "99070eca-eea9-4b34-8034-6842ffce2c4a"
      },
      "execution_count": 1163,
      "outputs": [
        {
          "output_type": "execute_result",
          "data": {
            "text/plain": [
              "<matplotlib.axes._subplots.AxesSubplot at 0x7f041bd15250>"
            ]
          },
          "metadata": {},
          "execution_count": 1163
        },
        {
          "output_type": "display_data",
          "data": {
            "text/plain": [
              "<Figure size 432x288 with 1 Axes>"
            ],
            "image/png": "[encoded data removed]"
          },
          "metadata": {
            "needs_background": "light"
          }
        }
      ]
    },
    {
      "cell_type": "code",
      "source": [
        "sns.boxplot(y = \"Aboard\", data=data_raw)"
      ],
      "metadata": {
        "colab": {
          "base_uri": "https://localhost:8080/",
          "height": 269
        },
        "id": "8UYHvVld4R7S",
        "outputId": "6e0b86e2-4cf3-4bda-d127-31eba0ad4f23"
      },
      "execution_count": 1164,
      "outputs": [
        {
          "output_type": "execute_result",
          "data": {
            "text/plain": [
              "<matplotlib.axes._subplots.AxesSubplot at 0x7f041628fb10>"
            ]
          },
          "metadata": {},
          "execution_count": 1164
        },
        {
          "output_type": "display_data",
          "data": {
            "text/plain": [
              "<Figure size 432x288 with 1 Axes>"
            ],
            "image/png": "[encoded data removed]"
          },
          "metadata": {
            "needs_background": "light"
          }
        }
      ]
    },
    {
      "cell_type": "code",
      "source": [
        "data = data_raw.copy()\n",
        "rows_to_drop = data[(data['Aboard'] > data['Aboard'].quantile(0.99))].index\n",
        "data = data.drop(rows_to_drop)\n",
        "\n",
        "sns.boxplot(y = \"Aboard\", data=data)"
      ],
      "metadata": {
        "colab": {
          "base_uri": "https://localhost:8080/",
          "height": 269
        },
        "id": "8wuXU4u94Rxj",
        "outputId": "42f00174-b6ff-4e58-f268-f0972e3c6e28"
      },
      "execution_count": 1165,
      "outputs": [
        {
          "output_type": "execute_result",
          "data": {
            "text/plain": [
              "<matplotlib.axes._subplots.AxesSubplot at 0x7f0434d75910>"
            ]
          },
          "metadata": {},
          "execution_count": 1165
        },
        {
          "output_type": "display_data",
          "data": {
            "text/plain": [
              "<Figure size 432x288 with 1 Axes>"
            ],
            "image/png": "[encoded data removed]"
          },
          "metadata": {
            "needs_background": "light"
          }
        }
      ]
    },
    {
      "cell_type": "markdown",
      "source": [
        "# Графики"
      ],
      "metadata": {
        "id": "pxJoWLpl4eMt"
      }
    },
    {
      "cell_type": "code",
      "source": [
        "sns_plot = sns.displot(data[\"Aboard\"])"
      ],
      "metadata": {
        "colab": {
          "base_uri": "https://localhost:8080/",
          "height": 369
        },
        "id": "M_19lvje1gPz",
        "outputId": "7ee4a604-3d33-4a2b-848c-5727085f7265"
      },
      "execution_count": 1166,
      "outputs": [
        {
          "output_type": "display_data",
          "data": {
            "text/plain": [
              "<Figure size 360x360 with 1 Axes>"
            ],
            "image/png": "[encoded data removed]"
          },
          "metadata": {
            "needs_background": "light"
          }
        }
      ]
    },
    {
      "cell_type": "code",
      "source": [
        "data.plot(x=\"Ground\", y=\"Fatalities\", kind=\"scatter\", alpha = 0.1)\n",
        "plt.show() "
      ],
      "metadata": {
        "colab": {
          "base_uri": "https://localhost:8080/",
          "height": 279
        },
        "id": "soCs3wa7fu1f",
        "outputId": "2f0dbbe3-a826-44ef-c8cd-b72a0f8a6d56"
      },
      "execution_count": 1167,
      "outputs": [
        {
          "output_type": "display_data",
          "data": {
            "text/plain": [
              "<Figure size 432x288 with 1 Axes>"
            ],
            "image/png": "[encoded data removed]"
          },
          "metadata": {
            "needs_background": "light"
          }
        }
      ]
    },
    {
      "cell_type": "code",
      "source": [
        "data.plot(x=\"Aboard\", y=\"Fatalities\", kind=\"scatter\", alpha = 0.1)\n",
        "plt.show() "
      ],
      "metadata": {
        "colab": {
          "base_uri": "https://localhost:8080/",
          "height": 279
        },
        "id": "w8tlTADCgo8U",
        "outputId": "3854c8bf-888e-49d4-9d62-d738bc2d1491"
      },
      "execution_count": 1168,
      "outputs": [
        {
          "output_type": "display_data",
          "data": {
            "text/plain": [
              "<Figure size 432x288 with 1 Axes>"
            ],
            "image/png": "[encoded data removed]"
          },
          "metadata": {
            "needs_background": "light"
          }
        }
      ]
    },
    {
      "cell_type": "code",
      "source": [
        "data['Date']=pd.DatetimeIndex(data['Date'])\n",
        "df_date_index=data.set_index('Date')\n",
        "\n",
        "crashed_by_year=df_date_index.resample('1y').size().rolling(3).mean().fillna(0)\n",
        "crashed_by_year.plot(figsize=[12, 6], title='Crashes by Year', ylabel='Crashes', marker=\".\")"
      ],
      "metadata": {
        "colab": {
          "base_uri": "https://localhost:8080/",
          "height": 421
        },
        "id": "yn2MMBd4hIVv",
        "outputId": "194d27c1-b886-4642-e9b7-6a0b36a8e9be"
      },
      "execution_count": 1169,
      "outputs": [
        {
          "output_type": "execute_result",
          "data": {
            "text/plain": [
              "<matplotlib.axes._subplots.AxesSubplot at 0x7f0418c8b4d0>"
            ]
          },
          "metadata": {},
          "execution_count": 1169
        },
        {
          "output_type": "display_data",
          "data": {
            "text/plain": [
              "<Figure size 864x432 with 1 Axes>"
            ],
            "image/png": "[encoded data removed]"
          },
          "metadata": {
            "needs_background": "light"
          }
        }
      ]
    },
    {
      "cell_type": "code",
      "source": [
        "data['Location Country']  = data['Location'].str.split(',').str[-1].str.strip().str.upper()\n",
        "\n",
        "data['Location Country'].value_counts().head(20).sort_values().plot( kind='barh',figsize=[12, 6], title='Crashes by Country' )\n",
        "\n",
        "data = data.drop(columns='Location Country')"
      ],
      "metadata": {
        "colab": {
          "base_uri": "https://localhost:8080/",
          "height": 390
        },
        "id": "i8hqGwBfD9eJ",
        "outputId": "d97130bf-0fb4-424d-e621-1063cc272ce2"
      },
      "execution_count": 1170,
      "outputs": [
        {
          "output_type": "display_data",
          "data": {
            "text/plain": [
              "<Figure size 864x432 with 1 Axes>"
            ],
            "image/png": "[encoded data removed]"
          },
          "metadata": {
            "needs_background": "light"
          }
        }
      ]
    },
    {
      "cell_type": "markdown",
      "source": [
        "# Работа с датасетом"
      ],
      "metadata": {
        "id": "CBJpNKqNFzM_"
      }
    },
    {
      "cell_type": "code",
      "source": [
        "data.isnull().sum()"
      ],
      "metadata": {
        "id": "l214yc160uZ2",
        "outputId": "17084e14-3472-4c36-f9b9-329608c17738",
        "colab": {
          "base_uri": "https://localhost:8080/"
        }
      },
      "execution_count": 1171,
      "outputs": [
        {
          "output_type": "execute_result",
          "data": {
            "text/plain": [
              "Date               0\n",
              "Time            2215\n",
              "Location          20\n",
              "Operator          18\n",
              "Flight #        4192\n",
              "Route           1705\n",
              "Type              27\n",
              "Registration     334\n",
              "cn/In           1226\n",
              "Aboard            22\n",
              "Fatalities        12\n",
              "Ground            22\n",
              "Summary          389\n",
              "dtype: int64"
            ]
          },
          "metadata": {},
          "execution_count": 1171
        }
      ]
    },
    {
      "cell_type": "markdown",
      "source": [
        "Видим, что колонка Flight содержит много пустых значений - избавимся от нее."
      ],
      "metadata": {
        "id": "9kAIA4h4IL26"
      }
    },
    {
      "cell_type": "code",
      "source": [
        "data = data.drop(columns='Flight #')"
      ],
      "metadata": {
        "id": "GCSFgK_D0udS"
      },
      "execution_count": 1172,
      "outputs": []
    },
    {
      "cell_type": "markdown",
      "source": [
        "Избавимся также от колонок, не несущих большого смысла"
      ],
      "metadata": {
        "id": "n2qgaQw5Wz_v"
      }
    },
    {
      "cell_type": "code",
      "source": [
        "data = data.drop(columns='Summary')\n",
        "data = data.drop(columns='cn/In')"
      ],
      "metadata": {
        "id": "xFhEBjiHJEqP"
      },
      "execution_count": 1173,
      "outputs": []
    },
    {
      "cell_type": "code",
      "source": [
        "data['Ground'].value_counts()"
      ],
      "metadata": {
        "id": "lDy1yZHT0uiS",
        "colab": {
          "base_uri": "https://localhost:8080/"
        },
        "outputId": "70e7e953-8925-4809-f59a-b4f1fb7a7c8f"
      },
      "execution_count": 1174,
      "outputs": [
        {
          "output_type": "execute_result",
          "data": {
            "text/plain": [
              "0.0       4979\n",
              "1.0         52\n",
              "2.0         25\n",
              "3.0         21\n",
              "4.0         15\n",
              "8.0         10\n",
              "5.0          9\n",
              "7.0          8\n",
              "6.0          6\n",
              "11.0         5\n",
              "22.0         5\n",
              "13.0         4\n",
              "24.0         3\n",
              "10.0         3\n",
              "44.0         3\n",
              "20.0         3\n",
              "14.0         2\n",
              "2750.0       2\n",
              "30.0         2\n",
              "12.0         2\n",
              "19.0         2\n",
              "47.0         2\n",
              "52.0         2\n",
              "70.0         2\n",
              "54.0         1\n",
              "18.0         1\n",
              "45.0         1\n",
              "16.0         1\n",
              "35.0         1\n",
              "50.0         1\n",
              "23.0         1\n",
              "225.0        1\n",
              "125.0        1\n",
              "75.0         1\n",
              "15.0         1\n",
              "32.0         1\n",
              "49.0         1\n",
              "9.0          1\n",
              "40.0         1\n",
              "36.0         1\n",
              "113.0        1\n",
              "107.0        1\n",
              "33.0         1\n",
              "87.0         1\n",
              "31.0         1\n",
              "63.0         1\n",
              "17.0         1\n",
              "37.0         1\n",
              "58.0         1\n",
              "85.0         1\n",
              "Name: Ground, dtype: int64"
            ]
          },
          "metadata": {},
          "execution_count": 1174
        }
      ]
    },
    {
      "cell_type": "code",
      "source": [
        "data.loc[(data.Ground > 0), 'Ground'] = 1\n",
        "data['Ground'].value_counts()"
      ],
      "metadata": {
        "colab": {
          "base_uri": "https://localhost:8080/"
        },
        "id": "8kpkg8rJS6XZ",
        "outputId": "669c9d67-9a39-4800-84fe-d5e8efbfb6a2"
      },
      "execution_count": 1175,
      "outputs": [
        {
          "output_type": "execute_result",
          "data": {
            "text/plain": [
              "0.0    4979\n",
              "1.0     214\n",
              "Name: Ground, dtype: int64"
            ]
          },
          "metadata": {},
          "execution_count": 1175
        }
      ]
    },
    {
      "cell_type": "markdown",
      "source": [
        "Будем считать, что если число погибших на земле больше 0 (то есть, погибшие есть), то значение равно 1. Если погибших нет, значение равно 0."
      ],
      "metadata": {
        "id": "UxOfiCDSTU3p"
      }
    },
    {
      "cell_type": "code",
      "source": [
        "categorical_columns = [c for c in data.columns if data[c].dtype.name == 'object']\n",
        "numerical_columns   = [c for c in data.columns if data[c].dtype.name != 'object']\n",
        "print(categorical_columns)\n",
        "print(numerical_columns)"
      ],
      "metadata": {
        "colab": {
          "base_uri": "https://localhost:8080/"
        },
        "id": "DeqBSXfHT80o",
        "outputId": "d5ade4b5-7622-4b68-9301-d0656ec6cf5b"
      },
      "execution_count": 1176,
      "outputs": [
        {
          "output_type": "stream",
          "name": "stdout",
          "text": [
            "['Time', 'Location', 'Operator', 'Route', 'Type', 'Registration']\n",
            "['Date', 'Aboard', 'Fatalities', 'Ground']\n"
          ]
        }
      ]
    },
    {
      "cell_type": "code",
      "source": [
        "data.median(axis = 0)"
      ],
      "metadata": {
        "id": "iFn_EUDqT8v6",
        "colab": {
          "base_uri": "https://localhost:8080/"
        },
        "outputId": "265e33de-4edc-44e4-8b21-9d83214ebd5f"
      },
      "execution_count": 1177,
      "outputs": [
        {
          "output_type": "stream",
          "name": "stderr",
          "text": [
            "/usr/local/lib/python3.7/dist-packages/ipykernel_launcher.py:1: FutureWarning: DataFrame.mean and DataFrame.median with numeric_only=None will include datetime64 and datetime64tz columns in a future version.\n",
            "  \"\"\"Entry point for launching an IPython kernel.\n",
            "/usr/local/lib/python3.7/dist-packages/ipykernel_launcher.py:1: FutureWarning: Dropping of nuisance columns in DataFrame reductions (with 'numeric_only=None') is deprecated; in a future version this will raise TypeError.  Select only valid columns before calling the reduction.\n",
            "  \"\"\"Entry point for launching an IPython kernel.\n"
          ]
        },
        {
          "output_type": "execute_result",
          "data": {
            "text/plain": [
              "Aboard        13.0\n",
              "Fatalities     9.0\n",
              "Ground         0.0\n",
              "dtype: float64"
            ]
          },
          "metadata": {},
          "execution_count": 1177
        }
      ]
    },
    {
      "cell_type": "markdown",
      "source": [
        "Заполним пропущенные значения числовых признаков медианными значениями"
      ],
      "metadata": {
        "id": "0beG9f6rWi3Y"
      }
    },
    {
      "cell_type": "code",
      "source": [
        "data = data.fillna(data.median(axis = 0), axis = 0)"
      ],
      "metadata": {
        "colab": {
          "base_uri": "https://localhost:8080/"
        },
        "id": "SccYe5AvUjmY",
        "outputId": "0d1cccfe-e1b4-40bd-b55f-0a295e7019ad"
      },
      "execution_count": 1178,
      "outputs": [
        {
          "output_type": "stream",
          "name": "stderr",
          "text": [
            "/usr/local/lib/python3.7/dist-packages/ipykernel_launcher.py:1: FutureWarning: DataFrame.mean and DataFrame.median with numeric_only=None will include datetime64 and datetime64tz columns in a future version.\n",
            "  \"\"\"Entry point for launching an IPython kernel.\n",
            "/usr/local/lib/python3.7/dist-packages/ipykernel_launcher.py:1: FutureWarning: Dropping of nuisance columns in DataFrame reductions (with 'numeric_only=None') is deprecated; in a future version this will raise TypeError.  Select only valid columns before calling the reduction.\n",
            "  \"\"\"Entry point for launching an IPython kernel.\n"
          ]
        }
      ]
    },
    {
      "cell_type": "code",
      "source": [
        "data[numerical_columns].count(axis = 0)"
      ],
      "metadata": {
        "colab": {
          "base_uri": "https://localhost:8080/"
        },
        "id": "GJlSTtjNUjo0",
        "outputId": "f6efa080-8232-4cc2-c216-d03f52b58180"
      },
      "execution_count": 1179,
      "outputs": [
        {
          "output_type": "execute_result",
          "data": {
            "text/plain": [
              "Date          5215\n",
              "Aboard        5215\n",
              "Fatalities    5215\n",
              "Ground        5215\n",
              "dtype: int64"
            ]
          },
          "metadata": {},
          "execution_count": 1179
        }
      ]
    },
    {
      "cell_type": "code",
      "source": [
        "data[categorical_columns].count(axis = 0)"
      ],
      "metadata": {
        "colab": {
          "base_uri": "https://localhost:8080/"
        },
        "id": "An2YN6KjUjsz",
        "outputId": "123fd41f-b767-40ec-b31a-f23a3eab8ba5"
      },
      "execution_count": 1180,
      "outputs": [
        {
          "output_type": "execute_result",
          "data": {
            "text/plain": [
              "Time            3000\n",
              "Location        5195\n",
              "Operator        5197\n",
              "Route           3510\n",
              "Type            5188\n",
              "Registration    4881\n",
              "dtype: int64"
            ]
          },
          "metadata": {},
          "execution_count": 1180
        }
      ]
    },
    {
      "cell_type": "code",
      "source": [
        "data.describe(include = [object])"
      ],
      "metadata": {
        "colab": {
          "base_uri": "https://localhost:8080/",
          "height": 175
        },
        "id": "9epLBQ0lUjuW",
        "outputId": "0fec565c-8f2b-41ab-b070-bfbad71819af"
      },
      "execution_count": 1181,
      "outputs": [
        {
          "output_type": "execute_result",
          "data": {
            "text/plain": [
              "         Time        Location  Operator     Route          Type Registration\n",
              "count    3000            5195      5197      3510          5188         4881\n",
              "unique    995            4270      2468      3202          2416         4853\n",
              "top     15:00  Moscow, Russia  Aeroflot  Training  Douglas DC-3           49\n",
              "freq       32              15       179        81           334            3"
            ],
            "text/html": [
              "\n",
              "  <div id=\"df-66e679ab-fe73-4e07-8b89-2c6f1a648946\">\n",
              "    <div class=\"colab-df-container\">\n",
              "      <div>\n",
              "<style scoped>\n",
              "    .dataframe tbody tr th:only-of-type {\n",
              "        vertical-align: middle;\n",
              "    }\n",
              "\n",
              "    .dataframe tbody tr th {\n",
              "        vertical-align: top;\n",
              "    }\n",
              "\n",
              "    .dataframe thead th {\n",
              "        text-align: right;\n",
              "    }\n",
              "</style>\n",
              "<table border=\"1\" class=\"dataframe\">\n",
              "  <thead>\n",
              "    <tr style=\"text-align: right;\">\n",
              "      <th></th>\n",
              "      <th>Time</th>\n",
              "      <th>Location</th>\n",
              "      <th>Operator</th>\n",
              "      <th>Route</th>\n",
              "      <th>Type</th>\n",
              "      <th>Registration</th>\n",
              "    </tr>\n",
              "  </thead>\n",
              "  <tbody>\n",
              "    <tr>\n",
              "      <th>count</th>\n",
              "      <td>3000</td>\n",
              "      <td>5195</td>\n",
              "      <td>5197</td>\n",
              "      <td>3510</td>\n",
              "      <td>5188</td>\n",
              "      <td>4881</td>\n",
              "    </tr>\n",
              "    <tr>\n",
              "      <th>unique</th>\n",
              "      <td>995</td>\n",
              "      <td>4270</td>\n",
              "      <td>2468</td>\n",
              "      <td>3202</td>\n",
              "      <td>2416</td>\n",
              "      <td>4853</td>\n",
              "    </tr>\n",
              "    <tr>\n",
              "      <th>top</th>\n",
              "      <td>15:00</td>\n",
              "      <td>Moscow, Russia</td>\n",
              "      <td>Aeroflot</td>\n",
              "      <td>Training</td>\n",
              "      <td>Douglas DC-3</td>\n",
              "      <td>49</td>\n",
              "    </tr>\n",
              "    <tr>\n",
              "      <th>freq</th>\n",
              "      <td>32</td>\n",
              "      <td>15</td>\n",
              "      <td>179</td>\n",
              "      <td>81</td>\n",
              "      <td>334</td>\n",
              "      <td>3</td>\n",
              "    </tr>\n",
              "  </tbody>\n",
              "</table>\n",
              "</div>\n",
              "      <button class=\"colab-df-convert\" onclick=\"convertToInteractive('df-66e679ab-fe73-4e07-8b89-2c6f1a648946')\"\n",
              "              title=\"Convert this dataframe to an interactive table.\"\n",
              "              style=\"display:none;\">\n",
              "        \n",
              "  <svg xmlns=\"http://www.w3.org/2000/svg\" height=\"24px\"viewBox=\"0 0 24 24\"\n",
              "       width=\"24px\">\n",
              "    <path d=\"M0 0h24v24H0V0z\" fill=\"none\"/>\n",
              "    <path d=\"M18.56 5.44l.94 2.06.94-2.06 2.06-.94-2.06-.94-.94-2.06-.94 2.06-2.06.94zm-11 1L8.5 8.5l.94-2.06 2.06-.94-2.06-.94L8.5 2.5l-.94 2.06-2.06.94zm10 10l.94 2.06.94-2.06 2.06-.94-2.06-.94-.94-2.06-.94 2.06-2.06.94z\"/><path d=\"M17.41 7.96l-1.37-1.37c-.4-.4-.92-.59-1.43-.59-.52 0-1.04.2-1.43.59L10.3 9.45l-7.72 7.72c-.78.78-.78 2.05 0 2.83L4 21.41c.39.39.9.59 1.41.59.51 0 1.02-.2 1.41-.59l7.78-7.78 2.81-2.81c.8-.78.8-2.07 0-2.86zM5.41 20L4 18.59l7.72-7.72 1.47 1.35L5.41 20z\"/>\n",
              "  </svg>\n",
              "      </button>\n",
              "      \n",
              "  <style>\n",
              "    .colab-df-container {\n",
              "      display:flex;\n",
              "      flex-wrap:wrap;\n",
              "      gap: 12px;\n",
              "    }\n",
              "\n",
              "    .colab-df-convert {\n",
              "      background-color: #E8F0FE;\n",
              "      border: none;\n",
              "      border-radius: 50%;\n",
              "      cursor: pointer;\n",
              "      display: none;\n",
              "      fill: #1967D2;\n",
              "      height: 32px;\n",
              "      padding: 0 0 0 0;\n",
              "      width: 32px;\n",
              "    }\n",
              "\n",
              "    .colab-df-convert:hover {\n",
              "      background-color: #E2EBFA;\n",
              "      box-shadow: 0px 1px 2px rgba(60, 64, 67, 0.3), 0px 1px 3px 1px rgba(60, 64, 67, 0.15);\n",
              "      fill: #174EA6;\n",
              "    }\n",
              "\n",
              "    [theme=dark] .colab-df-convert {\n",
              "      background-color: #3B4455;\n",
              "      fill: #D2E3FC;\n",
              "    }\n",
              "\n",
              "    [theme=dark] .colab-df-convert:hover {\n",
              "      background-color: #434B5C;\n",
              "      box-shadow: 0px 1px 3px 1px rgba(0, 0, 0, 0.15);\n",
              "      filter: drop-shadow(0px 1px 2px rgba(0, 0, 0, 0.3));\n",
              "      fill: #FFFFFF;\n",
              "    }\n",
              "  </style>\n",
              "\n",
              "      <script>\n",
              "        const buttonEl =\n",
              "          document.querySelector('#df-66e679ab-fe73-4e07-8b89-2c6f1a648946 button.colab-df-convert');\n",
              "        buttonEl.style.display =\n",
              "          google.colab.kernel.accessAllowed ? 'block' : 'none';\n",
              "\n",
              "        async function convertToInteractive(key) {\n",
              "          const element = document.querySelector('#df-66e679ab-fe73-4e07-8b89-2c6f1a648946');\n",
              "          const dataTable =\n",
              "            await google.colab.kernel.invokeFunction('convertToInteractive',\n",
              "                                                     [key], {});\n",
              "          if (!dataTable) return;\n",
              "\n",
              "          const docLinkHtml = 'Like what you see? Visit the ' +\n",
              "            '<a target=\"_blank\" href=https://colab.research.google.com/notebooks/data_table.ipynb>data table notebook</a>'\n",
              "            + ' to learn more about interactive tables.';\n",
              "          element.innerHTML = '';\n",
              "          dataTable['output_type'] = 'display_data';\n",
              "          await google.colab.output.renderOutput(dataTable, element);\n",
              "          const docLink = document.createElement('div');\n",
              "          docLink.innerHTML = docLinkHtml;\n",
              "          element.appendChild(docLink);\n",
              "        }\n",
              "      </script>\n",
              "    </div>\n",
              "  </div>\n",
              "  "
            ]
          },
          "metadata": {},
          "execution_count": 1181
        }
      ]
    },
    {
      "cell_type": "code",
      "source": [
        "data.isnull().sum()"
      ],
      "metadata": {
        "colab": {
          "base_uri": "https://localhost:8080/"
        },
        "id": "JxcOvw14UjxZ",
        "outputId": "d4b46c97-5ff8-4c9c-cb27-c3c973c8456c"
      },
      "execution_count": 1182,
      "outputs": [
        {
          "output_type": "execute_result",
          "data": {
            "text/plain": [
              "Date               0\n",
              "Time            2215\n",
              "Location          20\n",
              "Operator          18\n",
              "Route           1705\n",
              "Type              27\n",
              "Registration     334\n",
              "Aboard             0\n",
              "Fatalities         0\n",
              "Ground             0\n",
              "dtype: int64"
            ]
          },
          "metadata": {},
          "execution_count": 1182
        }
      ]
    },
    {
      "cell_type": "markdown",
      "source": [
        "Заменим пропущенные значения категориальных признаков на значения моды"
      ],
      "metadata": {
        "id": "GiiYQVFaX9nL"
      }
    },
    {
      "cell_type": "code",
      "source": [
        "data[\"Location\"] = data[\"Location\"].fillna(data[\"Location\"].mode()[0], axis=0)\n",
        "data[\"Time\"] = data[\"Time\"].fillna(data[\"Time\"].mode()[0], axis=0)\n",
        "data[\"Operator\"] = data[\"Operator\"].fillna(data[\"Operator\"].mode()[0], axis=0)\n",
        "data[\"Route\"] = data[\"Route\"].fillna(data[\"Route\"].mode()[0], axis=0)\n",
        "data[\"Type\"] = data[\"Type\"].fillna(data[\"Type\"].mode()[0], axis=0) "
      ],
      "metadata": {
        "id": "maQhQvmFT8so"
      },
      "execution_count": 1183,
      "outputs": []
    },
    {
      "cell_type": "code",
      "source": [
        "data[categorical_columns].count(axis = 0)"
      ],
      "metadata": {
        "colab": {
          "base_uri": "https://localhost:8080/"
        },
        "id": "x944L47RXfyJ",
        "outputId": "5ac176f5-0977-4e8e-df01-6c775e03c94f"
      },
      "execution_count": 1184,
      "outputs": [
        {
          "output_type": "execute_result",
          "data": {
            "text/plain": [
              "Time            5215\n",
              "Location        5215\n",
              "Operator        5215\n",
              "Route           5215\n",
              "Type            5215\n",
              "Registration    4881\n",
              "dtype: int64"
            ]
          },
          "metadata": {},
          "execution_count": 1184
        }
      ]
    },
    {
      "cell_type": "code",
      "source": [
        "data[numerical_columns].count(axis = 0)"
      ],
      "metadata": {
        "colab": {
          "base_uri": "https://localhost:8080/"
        },
        "id": "aMTskEZHXf0y",
        "outputId": "592e1774-2eb3-4741-caf5-94b4cd17eefb"
      },
      "execution_count": 1185,
      "outputs": [
        {
          "output_type": "execute_result",
          "data": {
            "text/plain": [
              "Date          5215\n",
              "Aboard        5215\n",
              "Fatalities    5215\n",
              "Ground        5215\n",
              "dtype: int64"
            ]
          },
          "metadata": {},
          "execution_count": 1185
        }
      ]
    },
    {
      "cell_type": "markdown",
      "source": [
        "# Векторизация"
      ],
      "metadata": {
        "id": "Xb60h-CuGxOZ"
      }
    },
    {
      "cell_type": "code",
      "source": [
        "text_columns = categorical_columns.copy()\n",
        "print(text_columns)"
      ],
      "metadata": {
        "colab": {
          "base_uri": "https://localhost:8080/"
        },
        "id": "h9z2GL1pGzNy",
        "outputId": "811ca0ac-51c8-4f6d-ebd1-04477724e645"
      },
      "execution_count": 1186,
      "outputs": [
        {
          "output_type": "stream",
          "name": "stdout",
          "text": [
            "['Time', 'Location', 'Operator', 'Route', 'Type', 'Registration']\n"
          ]
        }
      ]
    },
    {
      "cell_type": "markdown",
      "source": [],
      "metadata": {
        "id": "KMhABsXJYHCC"
      }
    },
    {
      "cell_type": "markdown",
      "source": [
        "Сделаем колонки Time и Date числовыми"
      ],
      "metadata": {
        "id": "79CCjQMgYKrB"
      }
    },
    {
      "cell_type": "code",
      "source": [
        "for i in range(len(data['Time'])) :\n",
        "  if data['Time'].iloc[i][0] == 'c':\n",
        "    data['Time'].iloc[i] = data['Time'].iloc[i][2:]\n",
        "  try:\n",
        "    data['Time'].iloc[i] = float(data['Time'].iloc[i].replace(\":\",\"\"))\n",
        "  except:\n",
        "    data['Time'].iloc[i] = float(data['Time'].iloc[i].replace(\"'\",\"\"))\n",
        "\n",
        "data['Time'] = data['Time'].astype('float64')\n",
        "data['Date'] = data['Date'].astype('int64')\n",
        "\n",
        "data['Time'].describe()"
      ],
      "metadata": {
        "colab": {
          "base_uri": "https://localhost:8080/"
        },
        "id": "_--3Vrc1HiZL",
        "outputId": "f4942890-ad35-4ecc-82be-cbb3ba0e32b2"
      },
      "execution_count": 1187,
      "outputs": [
        {
          "output_type": "stream",
          "name": "stderr",
          "text": [
            "/usr/local/lib/python3.7/dist-packages/pandas/core/indexing.py:1732: SettingWithCopyWarning: \n",
            "A value is trying to be set on a copy of a slice from a DataFrame\n",
            "\n",
            "See the caveats in the documentation: https://pandas.pydata.org/pandas-docs/stable/user_guide/indexing.html#returning-a-view-versus-a-copy\n",
            "  self._setitem_single_block(indexer, value, name)\n",
            "/usr/local/lib/python3.7/dist-packages/ipykernel_launcher.py:10: FutureWarning: casting datetime64[ns] values to int64 with .astype(...) is deprecated and will raise in a future version. Use .view(...) instead.\n",
            "  # Remove the CWD from sys.path while we load stuff.\n"
          ]
        },
        {
          "output_type": "execute_result",
          "data": {
            "text/plain": [
              "count     5215.000000\n",
              "mean      1391.117047\n",
              "std        487.707630\n",
              "min          0.000000\n",
              "25%       1210.000000\n",
              "50%       1500.000000\n",
              "75%       1500.000000\n",
              "max      11420.000000\n",
              "Name: Time, dtype: float64"
            ]
          },
          "metadata": {},
          "execution_count": 1187
        }
      ]
    },
    {
      "cell_type": "markdown",
      "source": [
        "Избавимся от выбросов"
      ],
      "metadata": {
        "id": "x8NmkrXqYT9N"
      }
    },
    {
      "cell_type": "code",
      "source": [
        "rows_to_drop = data[(data['Time'] > data['Time'].quantile(0.99))].index\n",
        "data = data.drop(rows_to_drop)\n",
        "\n",
        "sns.boxplot(y = \"Time\", data=data)"
      ],
      "metadata": {
        "colab": {
          "base_uri": "https://localhost:8080/",
          "height": 269
        },
        "id": "5jvcC2M4FMOh",
        "outputId": "af6fae45-83b1-4835-b7eb-7380ef5a2555"
      },
      "execution_count": 1188,
      "outputs": [
        {
          "output_type": "execute_result",
          "data": {
            "text/plain": [
              "<matplotlib.axes._subplots.AxesSubplot at 0x7f041b055550>"
            ]
          },
          "metadata": {},
          "execution_count": 1188
        },
        {
          "output_type": "display_data",
          "data": {
            "text/plain": [
              "<Figure size 432x288 with 1 Axes>"
            ],
            "image/png": "[encoded data removed]"
          },
          "metadata": {
            "needs_background": "light"
          }
        }
      ]
    },
    {
      "cell_type": "markdown",
      "source": [
        "Приведем текстовые признаки к числовым"
      ],
      "metadata": {
        "id": "gQtDUYeWYZHA"
      }
    },
    {
      "cell_type": "code",
      "source": [
        "from sklearn.preprocessing import LabelEncoder\n",
        "labelencoder = LabelEncoder()\n",
        "\n",
        "data_new = labelencoder.fit_transform(data['Location'].values)\n",
        "data_new[:10]\n",
        "data['Location'] = data_new.copy()\n",
        "\n",
        "data_new = labelencoder.fit_transform(data['Operator'].values)\n",
        "data_new[:10]\n",
        "data['Operator'] = data_new.copy()\n",
        "\n",
        "data_new = labelencoder.fit_transform(data['Route'].values)\n",
        "data_new[:10]\n",
        "data['Route'] = data_new.copy()\n",
        "\n",
        "data_new = labelencoder.fit_transform(data['Type'].values)\n",
        "data_new[:10]\n",
        "data['Type'] = data_new.copy()\n",
        "\n",
        "data_new = labelencoder.fit_transform(data['Registration'].values)\n",
        "data_new[:10]\n",
        "data['Registration'] = data_new.copy()\n",
        "\n",
        "data"
      ],
      "metadata": {
        "colab": {
          "base_uri": "https://localhost:8080/",
          "height": 424
        },
        "id": "zxB7IU2lIKTG",
        "outputId": "b5b0a699-7524-4b25-ea5b-0aa877836f2a"
      },
      "execution_count": 1189,
      "outputs": [
        {
          "output_type": "execute_result",
          "data": {
            "text/plain": [
              "                     Date    Time  Location  Operator  Route  Type  \\\n",
              "0    -1934150400000000000  1718.0       828      1550    814  2287   \n",
              "1    -1813708800000000000   630.0       116      1561   2908  1029   \n",
              "2    -1780012800000000000  1500.0      4103      1802   2956   991   \n",
              "3    -1777075200000000000  1830.0      3325      1450   2956  2301   \n",
              "4    -1773792000000000000  1030.0      2251      1450   2956  2303   \n",
              "...                   ...     ...       ...       ...    ...   ...   \n",
              "5262  1241308800000000000  1200.0      2110      1576   2253  1863   \n",
              "5263  1242777600000000000   630.0      2394      1461   1264  1696   \n",
              "5264  1243296000000000000  1500.0      2230      1976   1043   144   \n",
              "5266  1244332800000000000   830.0      2608      2096   1631   683   \n",
              "5267  1244419200000000000  1500.0      3859      1459   1766   148   \n",
              "\n",
              "      Registration  Aboard  Fatalities  Ground  \n",
              "0             4808     2.0         1.0     0.0  \n",
              "1             4808     5.0         5.0     0.0  \n",
              "2             4808     1.0         1.0     0.0  \n",
              "3             4808    20.0        14.0     0.0  \n",
              "4             4808    30.0        30.0     0.0  \n",
              "...            ...     ...         ...     ...  \n",
              "5262          1378    18.0        18.0     0.0  \n",
              "5263           607   112.0        98.0     1.0  \n",
              "5264           583     4.0         4.0     0.0  \n",
              "5266           765     1.0         1.0     0.0  \n",
              "5267          4808    13.0        13.0     0.0  \n",
              "\n",
              "[5166 rows x 10 columns]"
            ],
            "text/html": [
              "\n",
              "  <div id=\"df-619b843c-353a-4d30-b148-7fa7ad944426\">\n",
              "    <div class=\"colab-df-container\">\n",
              "      <div>\n",
              "<style scoped>\n",
              "    .dataframe tbody tr th:only-of-type {\n",
              "        vertical-align: middle;\n",
              "    }\n",
              "\n",
              "    .dataframe tbody tr th {\n",
              "        vertical-align: top;\n",
              "    }\n",
              "\n",
              "    .dataframe thead th {\n",
              "        text-align: right;\n",
              "    }\n",
              "</style>\n",
              "<table border=\"1\" class=\"dataframe\">\n",
              "  <thead>\n",
              "    <tr style=\"text-align: right;\">\n",
              "      <th></th>\n",
              "      <th>Date</th>\n",
              "      <th>Time</th>\n",
              "      <th>Location</th>\n",
              "      <th>Operator</th>\n",
              "      <th>Route</th>\n",
              "      <th>Type</th>\n",
              "      <th>Registration</th>\n",
              "      <th>Aboard</th>\n",
              "      <th>Fatalities</th>\n",
              "      <th>Ground</th>\n",
              "    </tr>\n",
              "  </thead>\n",
              "  <tbody>\n",
              "    <tr>\n",
              "      <th>0</th>\n",
              "      <td>-1934150400000000000</td>\n",
              "      <td>1718.0</td>\n",
              "      <td>828</td>\n",
              "      <td>1550</td>\n",
              "      <td>814</td>\n",
              "      <td>2287</td>\n",
              "      <td>4808</td>\n",
              "      <td>2.0</td>\n",
              "      <td>1.0</td>\n",
              "      <td>0.0</td>\n",
              "    </tr>\n",
              "    <tr>\n",
              "      <th>1</th>\n",
              "      <td>-1813708800000000000</td>\n",
              "      <td>630.0</td>\n",
              "      <td>116</td>\n",
              "      <td>1561</td>\n",
              "      <td>2908</td>\n",
              "      <td>1029</td>\n",
              "      <td>4808</td>\n",
              "      <td>5.0</td>\n",
              "      <td>5.0</td>\n",
              "      <td>0.0</td>\n",
              "    </tr>\n",
              "    <tr>\n",
              "      <th>2</th>\n",
              "      <td>-1780012800000000000</td>\n",
              "      <td>1500.0</td>\n",
              "      <td>4103</td>\n",
              "      <td>1802</td>\n",
              "      <td>2956</td>\n",
              "      <td>991</td>\n",
              "      <td>4808</td>\n",
              "      <td>1.0</td>\n",
              "      <td>1.0</td>\n",
              "      <td>0.0</td>\n",
              "    </tr>\n",
              "    <tr>\n",
              "      <th>3</th>\n",
              "      <td>-1777075200000000000</td>\n",
              "      <td>1830.0</td>\n",
              "      <td>3325</td>\n",
              "      <td>1450</td>\n",
              "      <td>2956</td>\n",
              "      <td>2301</td>\n",
              "      <td>4808</td>\n",
              "      <td>20.0</td>\n",
              "      <td>14.0</td>\n",
              "      <td>0.0</td>\n",
              "    </tr>\n",
              "    <tr>\n",
              "      <th>4</th>\n",
              "      <td>-1773792000000000000</td>\n",
              "      <td>1030.0</td>\n",
              "      <td>2251</td>\n",
              "      <td>1450</td>\n",
              "      <td>2956</td>\n",
              "      <td>2303</td>\n",
              "      <td>4808</td>\n",
              "      <td>30.0</td>\n",
              "      <td>30.0</td>\n",
              "      <td>0.0</td>\n",
              "    </tr>\n",
              "    <tr>\n",
              "      <th>...</th>\n",
              "      <td>...</td>\n",
              "      <td>...</td>\n",
              "      <td>...</td>\n",
              "      <td>...</td>\n",
              "      <td>...</td>\n",
              "      <td>...</td>\n",
              "      <td>...</td>\n",
              "      <td>...</td>\n",
              "      <td>...</td>\n",
              "      <td>...</td>\n",
              "    </tr>\n",
              "    <tr>\n",
              "      <th>5262</th>\n",
              "      <td>1241308800000000000</td>\n",
              "      <td>1200.0</td>\n",
              "      <td>2110</td>\n",
              "      <td>1576</td>\n",
              "      <td>2253</td>\n",
              "      <td>1863</td>\n",
              "      <td>1378</td>\n",
              "      <td>18.0</td>\n",
              "      <td>18.0</td>\n",
              "      <td>0.0</td>\n",
              "    </tr>\n",
              "    <tr>\n",
              "      <th>5263</th>\n",
              "      <td>1242777600000000000</td>\n",
              "      <td>630.0</td>\n",
              "      <td>2394</td>\n",
              "      <td>1461</td>\n",
              "      <td>1264</td>\n",
              "      <td>1696</td>\n",
              "      <td>607</td>\n",
              "      <td>112.0</td>\n",
              "      <td>98.0</td>\n",
              "      <td>1.0</td>\n",
              "    </tr>\n",
              "    <tr>\n",
              "      <th>5264</th>\n",
              "      <td>1243296000000000000</td>\n",
              "      <td>1500.0</td>\n",
              "      <td>2230</td>\n",
              "      <td>1976</td>\n",
              "      <td>1043</td>\n",
              "      <td>144</td>\n",
              "      <td>583</td>\n",
              "      <td>4.0</td>\n",
              "      <td>4.0</td>\n",
              "      <td>0.0</td>\n",
              "    </tr>\n",
              "    <tr>\n",
              "      <th>5266</th>\n",
              "      <td>1244332800000000000</td>\n",
              "      <td>830.0</td>\n",
              "      <td>2608</td>\n",
              "      <td>2096</td>\n",
              "      <td>1631</td>\n",
              "      <td>683</td>\n",
              "      <td>765</td>\n",
              "      <td>1.0</td>\n",
              "      <td>1.0</td>\n",
              "      <td>0.0</td>\n",
              "    </tr>\n",
              "    <tr>\n",
              "      <th>5267</th>\n",
              "      <td>1244419200000000000</td>\n",
              "      <td>1500.0</td>\n",
              "      <td>3859</td>\n",
              "      <td>1459</td>\n",
              "      <td>1766</td>\n",
              "      <td>148</td>\n",
              "      <td>4808</td>\n",
              "      <td>13.0</td>\n",
              "      <td>13.0</td>\n",
              "      <td>0.0</td>\n",
              "    </tr>\n",
              "  </tbody>\n",
              "</table>\n",
              "<p>5166 rows × 10 columns</p>\n",
              "</div>\n",
              "      <button class=\"colab-df-convert\" onclick=\"convertToInteractive('df-619b843c-353a-4d30-b148-7fa7ad944426')\"\n",
              "              title=\"Convert this dataframe to an interactive table.\"\n",
              "              style=\"display:none;\">\n",
              "        \n",
              "  <svg xmlns=\"http://www.w3.org/2000/svg\" height=\"24px\"viewBox=\"0 0 24 24\"\n",
              "       width=\"24px\">\n",
              "    <path d=\"M0 0h24v24H0V0z\" fill=\"none\"/>\n",
              "    <path d=\"M18.56 5.44l.94 2.06.94-2.06 2.06-.94-2.06-.94-.94-2.06-.94 2.06-2.06.94zm-11 1L8.5 8.5l.94-2.06 2.06-.94-2.06-.94L8.5 2.5l-.94 2.06-2.06.94zm10 10l.94 2.06.94-2.06 2.06-.94-2.06-.94-.94-2.06-.94 2.06-2.06.94z\"/><path d=\"M17.41 7.96l-1.37-1.37c-.4-.4-.92-.59-1.43-.59-.52 0-1.04.2-1.43.59L10.3 9.45l-7.72 7.72c-.78.78-.78 2.05 0 2.83L4 21.41c.39.39.9.59 1.41.59.51 0 1.02-.2 1.41-.59l7.78-7.78 2.81-2.81c.8-.78.8-2.07 0-2.86zM5.41 20L4 18.59l7.72-7.72 1.47 1.35L5.41 20z\"/>\n",
              "  </svg>\n",
              "      </button>\n",
              "      \n",
              "  <style>\n",
              "    .colab-df-container {\n",
              "      display:flex;\n",
              "      flex-wrap:wrap;\n",
              "      gap: 12px;\n",
              "    }\n",
              "\n",
              "    .colab-df-convert {\n",
              "      background-color: #E8F0FE;\n",
              "      border: none;\n",
              "      border-radius: 50%;\n",
              "      cursor: pointer;\n",
              "      display: none;\n",
              "      fill: #1967D2;\n",
              "      height: 32px;\n",
              "      padding: 0 0 0 0;\n",
              "      width: 32px;\n",
              "    }\n",
              "\n",
              "    .colab-df-convert:hover {\n",
              "      background-color: #E2EBFA;\n",
              "      box-shadow: 0px 1px 2px rgba(60, 64, 67, 0.3), 0px 1px 3px 1px rgba(60, 64, 67, 0.15);\n",
              "      fill: #174EA6;\n",
              "    }\n",
              "\n",
              "    [theme=dark] .colab-df-convert {\n",
              "      background-color: #3B4455;\n",
              "      fill: #D2E3FC;\n",
              "    }\n",
              "\n",
              "    [theme=dark] .colab-df-convert:hover {\n",
              "      background-color: #434B5C;\n",
              "      box-shadow: 0px 1px 3px 1px rgba(0, 0, 0, 0.15);\n",
              "      filter: drop-shadow(0px 1px 2px rgba(0, 0, 0, 0.3));\n",
              "      fill: #FFFFFF;\n",
              "    }\n",
              "  </style>\n",
              "\n",
              "      <script>\n",
              "        const buttonEl =\n",
              "          document.querySelector('#df-619b843c-353a-4d30-b148-7fa7ad944426 button.colab-df-convert');\n",
              "        buttonEl.style.display =\n",
              "          google.colab.kernel.accessAllowed ? 'block' : 'none';\n",
              "\n",
              "        async function convertToInteractive(key) {\n",
              "          const element = document.querySelector('#df-619b843c-353a-4d30-b148-7fa7ad944426');\n",
              "          const dataTable =\n",
              "            await google.colab.kernel.invokeFunction('convertToInteractive',\n",
              "                                                     [key], {});\n",
              "          if (!dataTable) return;\n",
              "\n",
              "          const docLinkHtml = 'Like what you see? Visit the ' +\n",
              "            '<a target=\"_blank\" href=https://colab.research.google.com/notebooks/data_table.ipynb>data table notebook</a>'\n",
              "            + ' to learn more about interactive tables.';\n",
              "          element.innerHTML = '';\n",
              "          dataTable['output_type'] = 'display_data';\n",
              "          await google.colab.output.renderOutput(dataTable, element);\n",
              "          const docLink = document.createElement('div');\n",
              "          docLink.innerHTML = docLinkHtml;\n",
              "          element.appendChild(docLink);\n",
              "        }\n",
              "      </script>\n",
              "    </div>\n",
              "  </div>\n",
              "  "
            ]
          },
          "metadata": {},
          "execution_count": 1189
        }
      ]
    },
    {
      "cell_type": "markdown",
      "source": [
        "# Нормировка"
      ],
      "metadata": {
        "id": "QJf0KCn8IuBp"
      }
    },
    {
      "cell_type": "markdown",
      "source": [
        "Стандартизация"
      ],
      "metadata": {
        "id": "gipmCYHNMi7q"
      }
    },
    {
      "cell_type": "code",
      "source": [
        "columns_for_stand = [\"Date\", \"Time\", \"Aboard\", \"Fatalities\"]\n",
        "data[columns_for_stand] = (data[columns_for_stand] - data[columns_for_stand].mean(axis=0))/data[columns_for_stand].std(axis=0)\n",
        "data.describe()"
      ],
      "metadata": {
        "colab": {
          "base_uri": "https://localhost:8080/",
          "height": 300
        },
        "id": "Fz9PGCTdIMpE",
        "outputId": "1cbaff6f-ac74-4074-b09e-8a766dc06c51"
      },
      "execution_count": 1190,
      "outputs": [
        {
          "output_type": "execute_result",
          "data": {
            "text/plain": [
              "              Date          Time     Location     Operator        Route  \\\n",
              "count  5166.000000  5.166000e+03  5166.000000  5166.000000  5166.000000   \n",
              "mean      0.000000 -1.650506e-16  2077.602981  1195.262679  2067.643631   \n",
              "std       1.000000  1.000000e+00  1236.366053   705.686570   983.006601   \n",
              "min      -2.809028 -2.997532e+00     0.000000     0.000000     0.000000   \n",
              "25%      -0.785192 -3.796006e-01   997.250000   593.000000  1226.250000   \n",
              "50%       0.060222  2.599520e-01  2054.500000  1248.500000  2457.500000   \n",
              "75%       0.832837  2.599520e-01  3156.750000  1739.000000  2956.000000   \n",
              "max       1.688398  2.062426e+00  4228.000000  2448.000000  3167.000000   \n",
              "\n",
              "              Type  Registration        Aboard    Fatalities       Ground  \n",
              "count  5166.000000   5166.000000  5.166000e+03  5.166000e+03  5166.000000  \n",
              "mean   1225.367209   2555.057685  1.650506e-17 -1.650506e-17     0.041425  \n",
              "std     647.131909   1468.789444  1.000000e+00  1.000000e+00     0.199290  \n",
              "min       0.000000      0.000000 -7.617353e-01 -7.001438e-01     0.000000  \n",
              "25%     779.000000   1277.250000 -6.070527e-01 -5.873516e-01     0.000000  \n",
              "50%    1146.000000   2566.500000 -3.595606e-01 -3.617674e-01     0.000000  \n",
              "75%    1722.750000   3853.750000  1.354236e-01  1.269985e-01     0.000000  \n",
              "max    2395.000000   4808.000000  5.858678e+00  7.308097e+00     1.000000  "
            ],
            "text/html": [
              "\n",
              "  <div id=\"df-df122442-8f37-416a-9398-8cc85390ae6b\">\n",
              "    <div class=\"colab-df-container\">\n",
              "      <div>\n",
              "<style scoped>\n",
              "    .dataframe tbody tr th:only-of-type {\n",
              "        vertical-align: middle;\n",
              "    }\n",
              "\n",
              "    .dataframe tbody tr th {\n",
              "        vertical-align: top;\n",
              "    }\n",
              "\n",
              "    .dataframe thead th {\n",
              "        text-align: right;\n",
              "    }\n",
              "</style>\n",
              "<table border=\"1\" class=\"dataframe\">\n",
              "  <thead>\n",
              "    <tr style=\"text-align: right;\">\n",
              "      <th></th>\n",
              "      <th>Date</th>\n",
              "      <th>Time</th>\n",
              "      <th>Location</th>\n",
              "      <th>Operator</th>\n",
              "      <th>Route</th>\n",
              "      <th>Type</th>\n",
              "      <th>Registration</th>\n",
              "      <th>Aboard</th>\n",
              "      <th>Fatalities</th>\n",
              "      <th>Ground</th>\n",
              "    </tr>\n",
              "  </thead>\n",
              "  <tbody>\n",
              "    <tr>\n",
              "      <th>count</th>\n",
              "      <td>5166.000000</td>\n",
              "      <td>5.166000e+03</td>\n",
              "      <td>5166.000000</td>\n",
              "      <td>5166.000000</td>\n",
              "      <td>5166.000000</td>\n",
              "      <td>5166.000000</td>\n",
              "      <td>5166.000000</td>\n",
              "      <td>5.166000e+03</td>\n",
              "      <td>5.166000e+03</td>\n",
              "      <td>5166.000000</td>\n",
              "    </tr>\n",
              "    <tr>\n",
              "      <th>mean</th>\n",
              "      <td>0.000000</td>\n",
              "      <td>-1.650506e-16</td>\n",
              "      <td>2077.602981</td>\n",
              "      <td>1195.262679</td>\n",
              "      <td>2067.643631</td>\n",
              "      <td>1225.367209</td>\n",
              "      <td>2555.057685</td>\n",
              "      <td>1.650506e-17</td>\n",
              "      <td>-1.650506e-17</td>\n",
              "      <td>0.041425</td>\n",
              "    </tr>\n",
              "    <tr>\n",
              "      <th>std</th>\n",
              "      <td>1.000000</td>\n",
              "      <td>1.000000e+00</td>\n",
              "      <td>1236.366053</td>\n",
              "      <td>705.686570</td>\n",
              "      <td>983.006601</td>\n",
              "      <td>647.131909</td>\n",
              "      <td>1468.789444</td>\n",
              "      <td>1.000000e+00</td>\n",
              "      <td>1.000000e+00</td>\n",
              "      <td>0.199290</td>\n",
              "    </tr>\n",
              "    <tr>\n",
              "      <th>min</th>\n",
              "      <td>-2.809028</td>\n",
              "      <td>-2.997532e+00</td>\n",
              "      <td>0.000000</td>\n",
              "      <td>0.000000</td>\n",
              "      <td>0.000000</td>\n",
              "      <td>0.000000</td>\n",
              "      <td>0.000000</td>\n",
              "      <td>-7.617353e-01</td>\n",
              "      <td>-7.001438e-01</td>\n",
              "      <td>0.000000</td>\n",
              "    </tr>\n",
              "    <tr>\n",
              "      <th>25%</th>\n",
              "      <td>-0.785192</td>\n",
              "      <td>-3.796006e-01</td>\n",
              "      <td>997.250000</td>\n",
              "      <td>593.000000</td>\n",
              "      <td>1226.250000</td>\n",
              "      <td>779.000000</td>\n",
              "      <td>1277.250000</td>\n",
              "      <td>-6.070527e-01</td>\n",
              "      <td>-5.873516e-01</td>\n",
              "      <td>0.000000</td>\n",
              "    </tr>\n",
              "    <tr>\n",
              "      <th>50%</th>\n",
              "      <td>0.060222</td>\n",
              "      <td>2.599520e-01</td>\n",
              "      <td>2054.500000</td>\n",
              "      <td>1248.500000</td>\n",
              "      <td>2457.500000</td>\n",
              "      <td>1146.000000</td>\n",
              "      <td>2566.500000</td>\n",
              "      <td>-3.595606e-01</td>\n",
              "      <td>-3.617674e-01</td>\n",
              "      <td>0.000000</td>\n",
              "    </tr>\n",
              "    <tr>\n",
              "      <th>75%</th>\n",
              "      <td>0.832837</td>\n",
              "      <td>2.599520e-01</td>\n",
              "      <td>3156.750000</td>\n",
              "      <td>1739.000000</td>\n",
              "      <td>2956.000000</td>\n",
              "      <td>1722.750000</td>\n",
              "      <td>3853.750000</td>\n",
              "      <td>1.354236e-01</td>\n",
              "      <td>1.269985e-01</td>\n",
              "      <td>0.000000</td>\n",
              "    </tr>\n",
              "    <tr>\n",
              "      <th>max</th>\n",
              "      <td>1.688398</td>\n",
              "      <td>2.062426e+00</td>\n",
              "      <td>4228.000000</td>\n",
              "      <td>2448.000000</td>\n",
              "      <td>3167.000000</td>\n",
              "      <td>2395.000000</td>\n",
              "      <td>4808.000000</td>\n",
              "      <td>5.858678e+00</td>\n",
              "      <td>7.308097e+00</td>\n",
              "      <td>1.000000</td>\n",
              "    </tr>\n",
              "  </tbody>\n",
              "</table>\n",
              "</div>\n",
              "      <button class=\"colab-df-convert\" onclick=\"convertToInteractive('df-df122442-8f37-416a-9398-8cc85390ae6b')\"\n",
              "              title=\"Convert this dataframe to an interactive table.\"\n",
              "              style=\"display:none;\">\n",
              "        \n",
              "  <svg xmlns=\"http://www.w3.org/2000/svg\" height=\"24px\"viewBox=\"0 0 24 24\"\n",
              "       width=\"24px\">\n",
              "    <path d=\"M0 0h24v24H0V0z\" fill=\"none\"/>\n",
              "    <path d=\"M18.56 5.44l.94 2.06.94-2.06 2.06-.94-2.06-.94-.94-2.06-.94 2.06-2.06.94zm-11 1L8.5 8.5l.94-2.06 2.06-.94-2.06-.94L8.5 2.5l-.94 2.06-2.06.94zm10 10l.94 2.06.94-2.06 2.06-.94-2.06-.94-.94-2.06-.94 2.06-2.06.94z\"/><path d=\"M17.41 7.96l-1.37-1.37c-.4-.4-.92-.59-1.43-.59-.52 0-1.04.2-1.43.59L10.3 9.45l-7.72 7.72c-.78.78-.78 2.05 0 2.83L4 21.41c.39.39.9.59 1.41.59.51 0 1.02-.2 1.41-.59l7.78-7.78 2.81-2.81c.8-.78.8-2.07 0-2.86zM5.41 20L4 18.59l7.72-7.72 1.47 1.35L5.41 20z\"/>\n",
              "  </svg>\n",
              "      </button>\n",
              "      \n",
              "  <style>\n",
              "    .colab-df-container {\n",
              "      display:flex;\n",
              "      flex-wrap:wrap;\n",
              "      gap: 12px;\n",
              "    }\n",
              "\n",
              "    .colab-df-convert {\n",
              "      background-color: #E8F0FE;\n",
              "      border: none;\n",
              "      border-radius: 50%;\n",
              "      cursor: pointer;\n",
              "      display: none;\n",
              "      fill: #1967D2;\n",
              "      height: 32px;\n",
              "      padding: 0 0 0 0;\n",
              "      width: 32px;\n",
              "    }\n",
              "\n",
              "    .colab-df-convert:hover {\n",
              "      background-color: #E2EBFA;\n",
              "      box-shadow: 0px 1px 2px rgba(60, 64, 67, 0.3), 0px 1px 3px 1px rgba(60, 64, 67, 0.15);\n",
              "      fill: #174EA6;\n",
              "    }\n",
              "\n",
              "    [theme=dark] .colab-df-convert {\n",
              "      background-color: #3B4455;\n",
              "      fill: #D2E3FC;\n",
              "    }\n",
              "\n",
              "    [theme=dark] .colab-df-convert:hover {\n",
              "      background-color: #434B5C;\n",
              "      box-shadow: 0px 1px 3px 1px rgba(0, 0, 0, 0.15);\n",
              "      filter: drop-shadow(0px 1px 2px rgba(0, 0, 0, 0.3));\n",
              "      fill: #FFFFFF;\n",
              "    }\n",
              "  </style>\n",
              "\n",
              "      <script>\n",
              "        const buttonEl =\n",
              "          document.querySelector('#df-df122442-8f37-416a-9398-8cc85390ae6b button.colab-df-convert');\n",
              "        buttonEl.style.display =\n",
              "          google.colab.kernel.accessAllowed ? 'block' : 'none';\n",
              "\n",
              "        async function convertToInteractive(key) {\n",
              "          const element = document.querySelector('#df-df122442-8f37-416a-9398-8cc85390ae6b');\n",
              "          const dataTable =\n",
              "            await google.colab.kernel.invokeFunction('convertToInteractive',\n",
              "                                                     [key], {});\n",
              "          if (!dataTable) return;\n",
              "\n",
              "          const docLinkHtml = 'Like what you see? Visit the ' +\n",
              "            '<a target=\"_blank\" href=https://colab.research.google.com/notebooks/data_table.ipynb>data table notebook</a>'\n",
              "            + ' to learn more about interactive tables.';\n",
              "          element.innerHTML = '';\n",
              "          dataTable['output_type'] = 'display_data';\n",
              "          await google.colab.output.renderOutput(dataTable, element);\n",
              "          const docLink = document.createElement('div');\n",
              "          docLink.innerHTML = docLinkHtml;\n",
              "          element.appendChild(docLink);\n",
              "        }\n",
              "      </script>\n",
              "    </div>\n",
              "  </div>\n",
              "  "
            ]
          },
          "metadata": {},
          "execution_count": 1190
        }
      ]
    },
    {
      "cell_type": "markdown",
      "source": [
        "Нормировка к отрезку от 0 до 1 (label incoder) - кодировка текста\n",
        "\n"
      ],
      "metadata": {
        "id": "6RXZUCGAMZVh"
      }
    },
    {
      "cell_type": "code",
      "source": [
        "OldMax = data['Location'].max()\n",
        "OldMin = data['Location'].min()\n",
        "NewMax = 1\n",
        "NewMin = 0\n",
        "OldRange = (OldMax - OldMin)\n",
        "NewRange = (NewMax - NewMin)\n",
        "for i in range(len( data['Location']) ):\n",
        "  OldValue = data['Location'].iloc[i]\n",
        "  NewValue = (((OldValue - OldMin) * NewRange) / OldRange) + NewMin\n",
        "  data['Location'].iloc[i] = NewValue\n",
        "\n",
        "data['Location'].describe()"
      ],
      "metadata": {
        "colab": {
          "base_uri": "https://localhost:8080/"
        },
        "id": "g9ElwkHsKqsp",
        "outputId": "422eb182-3899-4c1b-b9a3-600a6ec9e603"
      },
      "execution_count": 1191,
      "outputs": [
        {
          "output_type": "stream",
          "name": "stderr",
          "text": [
            "/usr/local/lib/python3.7/dist-packages/pandas/core/indexing.py:1732: SettingWithCopyWarning: \n",
            "A value is trying to be set on a copy of a slice from a DataFrame\n",
            "\n",
            "See the caveats in the documentation: https://pandas.pydata.org/pandas-docs/stable/user_guide/indexing.html#returning-a-view-versus-a-copy\n",
            "  self._setitem_single_block(indexer, value, name)\n"
          ]
        },
        {
          "output_type": "execute_result",
          "data": {
            "text/plain": [
              "count    5166.000000\n",
              "mean        0.491391\n",
              "std         0.292423\n",
              "min         0.000000\n",
              "25%         0.235868\n",
              "50%         0.485927\n",
              "75%         0.746630\n",
              "max         1.000000\n",
              "Name: Location, dtype: float64"
            ]
          },
          "metadata": {},
          "execution_count": 1191
        }
      ]
    },
    {
      "cell_type": "code",
      "source": [
        "OldMax = data['Operator'].max()\n",
        "OldMin = data['Operator'].min()\n",
        "NewMax = 1\n",
        "NewMin = 0\n",
        "OldRange = (OldMax - OldMin)\n",
        "NewRange = (NewMax - NewMin)\n",
        "for i in range(len( data['Operator']) ):\n",
        "  OldValue = data['Operator'].iloc[i]\n",
        "  NewValue = (((OldValue - OldMin) * NewRange) / OldRange) + NewMin\n",
        "  data['Operator'].iloc[i] = NewValue\n",
        "\n",
        "data['Operator'].describe()"
      ],
      "metadata": {
        "colab": {
          "base_uri": "https://localhost:8080/"
        },
        "id": "YLjCYfWJORXa",
        "outputId": "a7101906-2141-438b-d451-e8ed8cf4af99"
      },
      "execution_count": 1192,
      "outputs": [
        {
          "output_type": "execute_result",
          "data": {
            "text/plain": [
              "count    5166.000000\n",
              "mean        0.488261\n",
              "std         0.288271\n",
              "min         0.000000\n",
              "25%         0.242239\n",
              "50%         0.510008\n",
              "75%         0.710376\n",
              "max         1.000000\n",
              "Name: Operator, dtype: float64"
            ]
          },
          "metadata": {},
          "execution_count": 1192
        }
      ]
    },
    {
      "cell_type": "code",
      "source": [
        "OldMax = data['Route'].max()\n",
        "OldMin = data['Route'].min()\n",
        "NewMax = 1\n",
        "NewMin = 0\n",
        "OldRange = (OldMax - OldMin)\n",
        "NewRange = (NewMax - NewMin)\n",
        "for i in range(len( data['Route']) ):\n",
        "  OldValue = data['Route'].iloc[i]\n",
        "  NewValue = (((OldValue - OldMin) * NewRange) / OldRange) + NewMin\n",
        "  data['Route'].iloc[i] = NewValue\n",
        "\n",
        "data['Route'].describe()"
      ],
      "metadata": {
        "colab": {
          "base_uri": "https://localhost:8080/"
        },
        "id": "fFl5zAowORPW",
        "outputId": "64347359-8484-41bb-8f40-1b8f8ed6df0a"
      },
      "execution_count": 1193,
      "outputs": [
        {
          "output_type": "execute_result",
          "data": {
            "text/plain": [
              "count    5166.000000\n",
              "mean        0.652871\n",
              "std         0.310390\n",
              "min         0.000000\n",
              "25%         0.387196\n",
              "50%         0.775971\n",
              "75%         0.933375\n",
              "max         1.000000\n",
              "Name: Route, dtype: float64"
            ]
          },
          "metadata": {},
          "execution_count": 1193
        }
      ]
    },
    {
      "cell_type": "code",
      "source": [
        "OldMax = data['Type'].max()\n",
        "OldMin = data['Type'].min()\n",
        "NewMax = 1\n",
        "NewMin = 0\n",
        "OldRange = (OldMax - OldMin)\n",
        "NewRange = (NewMax - NewMin)\n",
        "for i in range(len( data['Type']) ):\n",
        "  OldValue = data['Type'].iloc[i]\n",
        "  NewValue = (((OldValue - OldMin) * NewRange) / OldRange) + NewMin\n",
        "  data['Type'].iloc[i] = NewValue\n",
        "\n",
        "data['Type'].describe()"
      ],
      "metadata": {
        "colab": {
          "base_uri": "https://localhost:8080/"
        },
        "id": "HO0WT-EJORJg",
        "outputId": "ba5ccb05-c4e1-4df5-e254-0384016b400b"
      },
      "execution_count": 1194,
      "outputs": [
        {
          "output_type": "execute_result",
          "data": {
            "text/plain": [
              "count    5166.000000\n",
              "mean        0.511636\n",
              "std         0.270201\n",
              "min         0.000000\n",
              "25%         0.325261\n",
              "50%         0.478497\n",
              "75%         0.719311\n",
              "max         1.000000\n",
              "Name: Type, dtype: float64"
            ]
          },
          "metadata": {},
          "execution_count": 1194
        }
      ]
    },
    {
      "cell_type": "code",
      "source": [
        "OldMax = data['Registration'].max()\n",
        "OldMin = data['Registration'].min()\n",
        "NewMax = 1\n",
        "NewMin = 0\n",
        "OldRange = (OldMax - OldMin)\n",
        "NewRange = (NewMax - NewMin)\n",
        "for i in range(len( data['Registration']) ):\n",
        "  OldValue = data['Registration'].iloc[i]\n",
        "  NewValue = (((OldValue - OldMin) * NewRange) / OldRange) + NewMin\n",
        "  data['Registration'].iloc[i] = NewValue\n",
        "\n",
        "data['Registration'].describe()"
      ],
      "metadata": {
        "colab": {
          "base_uri": "https://localhost:8080/"
        },
        "id": "xbrm_gqkORE6",
        "outputId": "0e835bc5-704f-4b91-b506-1685fa29df02"
      },
      "execution_count": 1195,
      "outputs": [
        {
          "output_type": "execute_result",
          "data": {
            "text/plain": [
              "count    5166.000000\n",
              "mean        0.531418\n",
              "std         0.305489\n",
              "min         0.000000\n",
              "25%         0.265651\n",
              "50%         0.533798\n",
              "75%         0.801529\n",
              "max         1.000000\n",
              "Name: Registration, dtype: float64"
            ]
          },
          "metadata": {},
          "execution_count": 1195
        }
      ]
    },
    {
      "cell_type": "code",
      "source": [
        "data"
      ],
      "metadata": {
        "colab": {
          "base_uri": "https://localhost:8080/",
          "height": 424
        },
        "id": "ZgPvIzU3Kqdx",
        "outputId": "0a0cf0de-05ad-466c-d96f-4e3a0476ac32"
      },
      "execution_count": 1196,
      "outputs": [
        {
          "output_type": "execute_result",
          "data": {
            "text/plain": [
              "          Date      Time  Location  Operator     Route      Type  \\\n",
              "0    -2.809028  0.733373  0.195837  0.633170  0.257026  0.954906   \n",
              "1    -2.638613 -1.629388  0.027436  0.637663  0.918219  0.429645   \n",
              "2    -2.590935  0.259952  0.970435  0.736111  0.933375  0.413779   \n",
              "3    -2.586779  0.976598  0.786424  0.592320  0.933375  0.960752   \n",
              "4    -2.582133 -0.760726  0.532403  0.592320  0.933375  0.961587   \n",
              "...        ...       ...       ...       ...       ...       ...   \n",
              "5262  1.683997 -0.391545  0.499054  0.643791  0.711399  0.777871   \n",
              "5263  1.686075 -1.629388  0.566225  0.596814  0.399116  0.708142   \n",
              "5264  1.686809  0.259952  0.527436  0.807190  0.329334  0.060125   \n",
              "5266  1.688276 -1.195057  0.616840  0.856209  0.514998  0.285177   \n",
              "5267  1.688398  0.259952  0.912725  0.595997  0.557626  0.061795   \n",
              "\n",
              "      Registration    Aboard  Fatalities  Ground  \n",
              "0         1.000000 -0.699862   -0.662546     0.0  \n",
              "1         1.000000 -0.607053   -0.512157     0.0  \n",
              "2         1.000000 -0.730799   -0.662546     0.0  \n",
              "3         1.000000 -0.143005   -0.173781     0.0  \n",
              "4         1.000000  0.166360    0.427777     0.0  \n",
              "...            ...       ...         ...     ...  \n",
              "5262      0.286606 -0.204878   -0.023391     0.0  \n",
              "5263      0.126248  2.703154    2.984399     1.0  \n",
              "5264      0.121256 -0.637989   -0.549754     0.0  \n",
              "5266      0.159110 -0.730799   -0.662546     0.0  \n",
              "5267      1.000000 -0.359561   -0.211378     0.0  \n",
              "\n",
              "[5166 rows x 10 columns]"
            ],
            "text/html": [
              "\n",
              "  <div id=\"df-1c1f46ed-c51e-4ad1-8bf6-38acad8f9b0c\">\n",
              "    <div class=\"colab-df-container\">\n",
              "      <div>\n",
              "<style scoped>\n",
              "    .dataframe tbody tr th:only-of-type {\n",
              "        vertical-align: middle;\n",
              "    }\n",
              "\n",
              "    .dataframe tbody tr th {\n",
              "        vertical-align: top;\n",
              "    }\n",
              "\n",
              "    .dataframe thead th {\n",
              "        text-align: right;\n",
              "    }\n",
              "</style>\n",
              "<table border=\"1\" class=\"dataframe\">\n",
              "  <thead>\n",
              "    <tr style=\"text-align: right;\">\n",
              "      <th></th>\n",
              "      <th>Date</th>\n",
              "      <th>Time</th>\n",
              "      <th>Location</th>\n",
              "      <th>Operator</th>\n",
              "      <th>Route</th>\n",
              "      <th>Type</th>\n",
              "      <th>Registration</th>\n",
              "      <th>Aboard</th>\n",
              "      <th>Fatalities</th>\n",
              "      <th>Ground</th>\n",
              "    </tr>\n",
              "  </thead>\n",
              "  <tbody>\n",
              "    <tr>\n",
              "      <th>0</th>\n",
              "      <td>-2.809028</td>\n",
              "      <td>0.733373</td>\n",
              "      <td>0.195837</td>\n",
              "      <td>0.633170</td>\n",
              "      <td>0.257026</td>\n",
              "      <td>0.954906</td>\n",
              "      <td>1.000000</td>\n",
              "      <td>-0.699862</td>\n",
              "      <td>-0.662546</td>\n",
              "      <td>0.0</td>\n",
              "    </tr>\n",
              "    <tr>\n",
              "      <th>1</th>\n",
              "      <td>-2.638613</td>\n",
              "      <td>-1.629388</td>\n",
              "      <td>0.027436</td>\n",
              "      <td>0.637663</td>\n",
              "      <td>0.918219</td>\n",
              "      <td>0.429645</td>\n",
              "      <td>1.000000</td>\n",
              "      <td>-0.607053</td>\n",
              "      <td>-0.512157</td>\n",
              "      <td>0.0</td>\n",
              "    </tr>\n",
              "    <tr>\n",
              "      <th>2</th>\n",
              "      <td>-2.590935</td>\n",
              "      <td>0.259952</td>\n",
              "      <td>0.970435</td>\n",
              "      <td>0.736111</td>\n",
              "      <td>0.933375</td>\n",
              "      <td>0.413779</td>\n",
              "      <td>1.000000</td>\n",
              "      <td>-0.730799</td>\n",
              "      <td>-0.662546</td>\n",
              "      <td>0.0</td>\n",
              "    </tr>\n",
              "    <tr>\n",
              "      <th>3</th>\n",
              "      <td>-2.586779</td>\n",
              "      <td>0.976598</td>\n",
              "      <td>0.786424</td>\n",
              "      <td>0.592320</td>\n",
              "      <td>0.933375</td>\n",
              "      <td>0.960752</td>\n",
              "      <td>1.000000</td>\n",
              "      <td>-0.143005</td>\n",
              "      <td>-0.173781</td>\n",
              "      <td>0.0</td>\n",
              "    </tr>\n",
              "    <tr>\n",
              "      <th>4</th>\n",
              "      <td>-2.582133</td>\n",
              "      <td>-0.760726</td>\n",
              "      <td>0.532403</td>\n",
              "      <td>0.592320</td>\n",
              "      <td>0.933375</td>\n",
              "      <td>0.961587</td>\n",
              "      <td>1.000000</td>\n",
              "      <td>0.166360</td>\n",
              "      <td>0.427777</td>\n",
              "      <td>0.0</td>\n",
              "    </tr>\n",
              "    <tr>\n",
              "      <th>...</th>\n",
              "      <td>...</td>\n",
              "      <td>...</td>\n",
              "      <td>...</td>\n",
              "      <td>...</td>\n",
              "      <td>...</td>\n",
              "      <td>...</td>\n",
              "      <td>...</td>\n",
              "      <td>...</td>\n",
              "      <td>...</td>\n",
              "      <td>...</td>\n",
              "    </tr>\n",
              "    <tr>\n",
              "      <th>5262</th>\n",
              "      <td>1.683997</td>\n",
              "      <td>-0.391545</td>\n",
              "      <td>0.499054</td>\n",
              "      <td>0.643791</td>\n",
              "      <td>0.711399</td>\n",
              "      <td>0.777871</td>\n",
              "      <td>0.286606</td>\n",
              "      <td>-0.204878</td>\n",
              "      <td>-0.023391</td>\n",
              "      <td>0.0</td>\n",
              "    </tr>\n",
              "    <tr>\n",
              "      <th>5263</th>\n",
              "      <td>1.686075</td>\n",
              "      <td>-1.629388</td>\n",
              "      <td>0.566225</td>\n",
              "      <td>0.596814</td>\n",
              "      <td>0.399116</td>\n",
              "      <td>0.708142</td>\n",
              "      <td>0.126248</td>\n",
              "      <td>2.703154</td>\n",
              "      <td>2.984399</td>\n",
              "      <td>1.0</td>\n",
              "    </tr>\n",
              "    <tr>\n",
              "      <th>5264</th>\n",
              "      <td>1.686809</td>\n",
              "      <td>0.259952</td>\n",
              "      <td>0.527436</td>\n",
              "      <td>0.807190</td>\n",
              "      <td>0.329334</td>\n",
              "      <td>0.060125</td>\n",
              "      <td>0.121256</td>\n",
              "      <td>-0.637989</td>\n",
              "      <td>-0.549754</td>\n",
              "      <td>0.0</td>\n",
              "    </tr>\n",
              "    <tr>\n",
              "      <th>5266</th>\n",
              "      <td>1.688276</td>\n",
              "      <td>-1.195057</td>\n",
              "      <td>0.616840</td>\n",
              "      <td>0.856209</td>\n",
              "      <td>0.514998</td>\n",
              "      <td>0.285177</td>\n",
              "      <td>0.159110</td>\n",
              "      <td>-0.730799</td>\n",
              "      <td>-0.662546</td>\n",
              "      <td>0.0</td>\n",
              "    </tr>\n",
              "    <tr>\n",
              "      <th>5267</th>\n",
              "      <td>1.688398</td>\n",
              "      <td>0.259952</td>\n",
              "      <td>0.912725</td>\n",
              "      <td>0.595997</td>\n",
              "      <td>0.557626</td>\n",
              "      <td>0.061795</td>\n",
              "      <td>1.000000</td>\n",
              "      <td>-0.359561</td>\n",
              "      <td>-0.211378</td>\n",
              "      <td>0.0</td>\n",
              "    </tr>\n",
              "  </tbody>\n",
              "</table>\n",
              "<p>5166 rows × 10 columns</p>\n",
              "</div>\n",
              "      <button class=\"colab-df-convert\" onclick=\"convertToInteractive('df-1c1f46ed-c51e-4ad1-8bf6-38acad8f9b0c')\"\n",
              "              title=\"Convert this dataframe to an interactive table.\"\n",
              "              style=\"display:none;\">\n",
              "        \n",
              "  <svg xmlns=\"http://www.w3.org/2000/svg\" height=\"24px\"viewBox=\"0 0 24 24\"\n",
              "       width=\"24px\">\n",
              "    <path d=\"M0 0h24v24H0V0z\" fill=\"none\"/>\n",
              "    <path d=\"M18.56 5.44l.94 2.06.94-2.06 2.06-.94-2.06-.94-.94-2.06-.94 2.06-2.06.94zm-11 1L8.5 8.5l.94-2.06 2.06-.94-2.06-.94L8.5 2.5l-.94 2.06-2.06.94zm10 10l.94 2.06.94-2.06 2.06-.94-2.06-.94-.94-2.06-.94 2.06-2.06.94z\"/><path d=\"M17.41 7.96l-1.37-1.37c-.4-.4-.92-.59-1.43-.59-.52 0-1.04.2-1.43.59L10.3 9.45l-7.72 7.72c-.78.78-.78 2.05 0 2.83L4 21.41c.39.39.9.59 1.41.59.51 0 1.02-.2 1.41-.59l7.78-7.78 2.81-2.81c.8-.78.8-2.07 0-2.86zM5.41 20L4 18.59l7.72-7.72 1.47 1.35L5.41 20z\"/>\n",
              "  </svg>\n",
              "      </button>\n",
              "      \n",
              "  <style>\n",
              "    .colab-df-container {\n",
              "      display:flex;\n",
              "      flex-wrap:wrap;\n",
              "      gap: 12px;\n",
              "    }\n",
              "\n",
              "    .colab-df-convert {\n",
              "      background-color: #E8F0FE;\n",
              "      border: none;\n",
              "      border-radius: 50%;\n",
              "      cursor: pointer;\n",
              "      display: none;\n",
              "      fill: #1967D2;\n",
              "      height: 32px;\n",
              "      padding: 0 0 0 0;\n",
              "      width: 32px;\n",
              "    }\n",
              "\n",
              "    .colab-df-convert:hover {\n",
              "      background-color: #E2EBFA;\n",
              "      box-shadow: 0px 1px 2px rgba(60, 64, 67, 0.3), 0px 1px 3px 1px rgba(60, 64, 67, 0.15);\n",
              "      fill: #174EA6;\n",
              "    }\n",
              "\n",
              "    [theme=dark] .colab-df-convert {\n",
              "      background-color: #3B4455;\n",
              "      fill: #D2E3FC;\n",
              "    }\n",
              "\n",
              "    [theme=dark] .colab-df-convert:hover {\n",
              "      background-color: #434B5C;\n",
              "      box-shadow: 0px 1px 3px 1px rgba(0, 0, 0, 0.15);\n",
              "      filter: drop-shadow(0px 1px 2px rgba(0, 0, 0, 0.3));\n",
              "      fill: #FFFFFF;\n",
              "    }\n",
              "  </style>\n",
              "\n",
              "      <script>\n",
              "        const buttonEl =\n",
              "          document.querySelector('#df-1c1f46ed-c51e-4ad1-8bf6-38acad8f9b0c button.colab-df-convert');\n",
              "        buttonEl.style.display =\n",
              "          google.colab.kernel.accessAllowed ? 'block' : 'none';\n",
              "\n",
              "        async function convertToInteractive(key) {\n",
              "          const element = document.querySelector('#df-1c1f46ed-c51e-4ad1-8bf6-38acad8f9b0c');\n",
              "          const dataTable =\n",
              "            await google.colab.kernel.invokeFunction('convertToInteractive',\n",
              "                                                     [key], {});\n",
              "          if (!dataTable) return;\n",
              "\n",
              "          const docLinkHtml = 'Like what you see? Visit the ' +\n",
              "            '<a target=\"_blank\" href=https://colab.research.google.com/notebooks/data_table.ipynb>data table notebook</a>'\n",
              "            + ' to learn more about interactive tables.';\n",
              "          element.innerHTML = '';\n",
              "          dataTable['output_type'] = 'display_data';\n",
              "          await google.colab.output.renderOutput(dataTable, element);\n",
              "          const docLink = document.createElement('div');\n",
              "          docLink.innerHTML = docLinkHtml;\n",
              "          element.appendChild(docLink);\n",
              "        }\n",
              "      </script>\n",
              "    </div>\n",
              "  </div>\n",
              "  "
            ]
          },
          "metadata": {},
          "execution_count": 1196
        }
      ]
    },
    {
      "cell_type": "markdown",
      "source": [
        "# Разделение на тестовую и обучающую выборки"
      ],
      "metadata": {
        "id": "k4nykfhKFiqF"
      }
    },
    {
      "cell_type": "code",
      "source": [
        "from sklearn.model_selection import train_test_split\n",
        "\n",
        "X = data.drop(\"Ground\", axis=1)\n",
        "y = data[\"Ground\"]\n",
        "X.shape, y.shape\n",
        "\n",
        "X = X.to_numpy()\n"
      ],
      "metadata": {
        "id": "loLNjg9FXf4j"
      },
      "execution_count": 1197,
      "outputs": []
    },
    {
      "cell_type": "code",
      "source": [
        "X_train, X_test, y_train, y_test = train_test_split(X, y, test_size = 0.3, random_state = 7)\n",
        "\n",
        "N_train, _ = X_train.shape \n",
        "N_test,  _ = X_test.shape \n",
        "\n",
        "N2_train = y_train.shape \n",
        "N2_test = y_test.shape \n",
        "\n",
        "print(N_train, N_test, N2_train, N2_test)"
      ],
      "metadata": {
        "id": "ZF_qK6nYXf6y",
        "colab": {
          "base_uri": "https://localhost:8080/"
        },
        "outputId": "3b96cf4a-dd93-4b96-8b2d-e4ee8ed0fd29"
      },
      "execution_count": 1198,
      "outputs": [
        {
          "output_type": "stream",
          "name": "stdout",
          "text": [
            "3616 1550 (3616,) (1550,)\n"
          ]
        }
      ]
    },
    {
      "cell_type": "markdown",
      "source": [
        "Метод К-ближайших соседей"
      ],
      "metadata": {
        "id": "yBrq-Z4pYrGg"
      }
    },
    {
      "cell_type": "code",
      "source": [
        "from sklearn.neighbors import KNeighborsClassifier\n",
        "\n",
        "knn = KNeighborsClassifier(n_neighbors = 10)\n",
        "knn.fit(X_train, y_train)"
      ],
      "metadata": {
        "id": "B-VILsMqXf8e",
        "colab": {
          "base_uri": "https://localhost:8080/"
        },
        "outputId": "029fdfd8-8516-4a71-8d4c-8b485457b76b"
      },
      "execution_count": 1199,
      "outputs": [
        {
          "output_type": "execute_result",
          "data": {
            "text/plain": [
              "KNeighborsClassifier(n_neighbors=10)"
            ]
          },
          "metadata": {},
          "execution_count": 1199
        }
      ]
    },
    {
      "cell_type": "code",
      "source": [
        "y_test_predict = knn.predict(X_test)\n",
        "err_test = np.mean(y_test  != y_test_predict)\n",
        "err_test"
      ],
      "metadata": {
        "colab": {
          "base_uri": "https://localhost:8080/"
        },
        "id": "GmyFE02JG8u9",
        "outputId": "6e44f960-2fdc-40da-c8c7-8fdf86fd0d96"
      },
      "execution_count": 1200,
      "outputs": [
        {
          "output_type": "execute_result",
          "data": {
            "text/plain": [
              "0.03806451612903226"
            ]
          },
          "metadata": {},
          "execution_count": 1200
        }
      ]
    },
    {
      "cell_type": "code",
      "source": [
        "from sklearn.metrics import plot_confusion_matrix\n",
        "plot_confusion_matrix(knn, X_test, y_test, cmap=plt.cm.Blues)"
      ],
      "metadata": {
        "colab": {
          "base_uri": "https://localhost:8080/",
          "height": 351
        },
        "id": "SndZTr9aG8xw",
        "outputId": "db63b307-5c09-45d7-b48f-02c39a3a41b3"
      },
      "execution_count": 1201,
      "outputs": [
        {
          "output_type": "stream",
          "name": "stderr",
          "text": [
            "/usr/local/lib/python3.7/dist-packages/sklearn/utils/deprecation.py:87: FutureWarning: Function plot_confusion_matrix is deprecated; Function `plot_confusion_matrix` is deprecated in 1.0 and will be removed in 1.2. Use one of the class methods: ConfusionMatrixDisplay.from_predictions or ConfusionMatrixDisplay.from_estimator.\n",
            "  warnings.warn(msg, category=FutureWarning)\n"
          ]
        },
        {
          "output_type": "execute_result",
          "data": {
            "text/plain": [
              "<sklearn.metrics._plot.confusion_matrix.ConfusionMatrixDisplay at 0x7f04215977d0>"
            ]
          },
          "metadata": {},
          "execution_count": 1201
        },
        {
          "output_type": "display_data",
          "data": {
            "text/plain": [
              "<Figure size 432x288 with 2 Axes>"
            ],
            "image/png": "[encoded data removed]"
          },
          "metadata": {
            "needs_background": "light"
          }
        }
      ]
    },
    {
      "cell_type": "code",
      "source": [
        "from sklearn.model_selection import GridSearchCV\n",
        "nnb = [1, 3, 5, 10, 15, 20, 25, 35, 45, 55]\n",
        "knn = KNeighborsClassifier()\n",
        "grid = GridSearchCV(knn, param_grid = {'n_neighbors': nnb}, cv=10)\n",
        "grid.fit(X_train, y_train)\n",
        "\n",
        "best_cv_err = 1 - grid.best_score_\n",
        "best_n_neighbors = grid.best_estimator_.n_neighbors\n",
        "print(best_cv_err, best_n_neighbors)"
      ],
      "metadata": {
        "colab": {
          "base_uri": "https://localhost:8080/"
        },
        "id": "u6mOyloRG80M",
        "outputId": "05152d4a-ceb1-4b47-f276-0cafc0e74b63"
      },
      "execution_count": 1202,
      "outputs": [
        {
          "output_type": "stream",
          "name": "stdout",
          "text": [
            "0.04286359253761041 10\n"
          ]
        }
      ]
    },
    {
      "cell_type": "code",
      "source": [
        "knn = KNeighborsClassifier(n_neighbors = best_n_neighbors).fit(X_train, y_train)\n",
        "\n",
        "err_train = np.mean(y_train != knn.predict(X_train))\n",
        "err_test  = np.mean(y_test  != knn.predict(X_test))\n",
        "\n",
        "print(err_train, err_test)"
      ],
      "metadata": {
        "colab": {
          "base_uri": "https://localhost:8080/"
        },
        "id": "mtjmXrVXG86A",
        "outputId": "d1d4625a-5c54-422f-9a49-ed604c378004"
      },
      "execution_count": 1203,
      "outputs": [
        {
          "output_type": "stream",
          "name": "stdout",
          "text": [
            "0.04286504424778761 0.03806451612903226\n"
          ]
        }
      ]
    },
    {
      "cell_type": "code",
      "source": [
        "from sklearn.metrics import plot_confusion_matrix\n",
        "plot_confusion_matrix(knn, X_test, y_test, cmap=plt.cm.Blues)"
      ],
      "metadata": {
        "colab": {
          "base_uri": "https://localhost:8080/",
          "height": 351
        },
        "id": "cGr6J-yQJIi5",
        "outputId": "ddf6b052-809a-4662-9847-315af3f2b401"
      },
      "execution_count": 1204,
      "outputs": [
        {
          "output_type": "stream",
          "name": "stderr",
          "text": [
            "/usr/local/lib/python3.7/dist-packages/sklearn/utils/deprecation.py:87: FutureWarning: Function plot_confusion_matrix is deprecated; Function `plot_confusion_matrix` is deprecated in 1.0 and will be removed in 1.2. Use one of the class methods: ConfusionMatrixDisplay.from_predictions or ConfusionMatrixDisplay.from_estimator.\n",
            "  warnings.warn(msg, category=FutureWarning)\n"
          ]
        },
        {
          "output_type": "execute_result",
          "data": {
            "text/plain": [
              "<sklearn.metrics._plot.confusion_matrix.ConfusionMatrixDisplay at 0x7f0415ede750>"
            ]
          },
          "metadata": {},
          "execution_count": 1204
        },
        {
          "output_type": "display_data",
          "data": {
            "text/plain": [
              "<Figure size 432x288 with 2 Axes>"
            ],
            "image/png": "[encoded data removed]"
          },
          "metadata": {
            "needs_background": "light"
          }
        }
      ]
    },
    {
      "cell_type": "markdown",
      "source": [],
      "metadata": {
        "id": "J2Ye4L16Y1lP"
      }
    },
    {
      "cell_type": "markdown",
      "source": [
        "SVC"
      ],
      "metadata": {
        "id": "lZ23j4NFY3OX"
      }
    },
    {
      "cell_type": "code",
      "source": [
        "from sklearn.svm import SVC\n",
        "svc = SVC(gamma='auto')\n",
        "svc.fit(X_train, y_train)\n",
        "\n",
        "err_train = np.mean(y_train != svc.predict(X_train))\n",
        "err_test  = np.mean(y_test  != svc.predict(X_test))\n",
        "\n",
        "print(err_train, err_test)"
      ],
      "metadata": {
        "colab": {
          "base_uri": "https://localhost:8080/"
        },
        "id": "ABpmhSnLJIll",
        "outputId": "1d19c880-e0d8-4a16-befd-2ec36227aecd"
      },
      "execution_count": 1205,
      "outputs": [
        {
          "output_type": "stream",
          "name": "stdout",
          "text": [
            "0.04286504424778761 0.03806451612903226\n"
          ]
        }
      ]
    },
    {
      "cell_type": "code",
      "source": [
        "plot_confusion_matrix(svc, X_test, y_test, cmap=plt.cm.Blues)"
      ],
      "metadata": {
        "colab": {
          "base_uri": "https://localhost:8080/",
          "height": 351
        },
        "id": "iY1omv7EaGSd",
        "outputId": "4eac0360-a0ae-46f0-e6bb-41a648b19fd6"
      },
      "execution_count": 1206,
      "outputs": [
        {
          "output_type": "stream",
          "name": "stderr",
          "text": [
            "/usr/local/lib/python3.7/dist-packages/sklearn/utils/deprecation.py:87: FutureWarning: Function plot_confusion_matrix is deprecated; Function `plot_confusion_matrix` is deprecated in 1.0 and will be removed in 1.2. Use one of the class methods: ConfusionMatrixDisplay.from_predictions or ConfusionMatrixDisplay.from_estimator.\n",
            "  warnings.warn(msg, category=FutureWarning)\n"
          ]
        },
        {
          "output_type": "execute_result",
          "data": {
            "text/plain": [
              "<sklearn.metrics._plot.confusion_matrix.ConfusionMatrixDisplay at 0x7f0415ebced0>"
            ]
          },
          "metadata": {},
          "execution_count": 1206
        },
        {
          "output_type": "display_data",
          "data": {
            "text/plain": [
              "<Figure size 432x288 with 2 Axes>"
            ],
            "image/png": "[encoded data removed]"
          },
          "metadata": {
            "needs_background": "light"
          }
        }
      ]
    },
    {
      "cell_type": "markdown",
      "source": [
        "Random Forest"
      ],
      "metadata": {
        "id": "46-t6k9lY-wX"
      }
    },
    {
      "cell_type": "code",
      "source": [
        "from sklearn import ensemble\n",
        "rf = ensemble.RandomForestClassifier(n_estimators = 1000)\n",
        "rf.fit(X_train, y_train)\n",
        "\n",
        "err_train = np.mean(y_train != rf.predict(X_train))\n",
        "err_test  = np.mean(y_test  != rf.predict(X_test))\n",
        "\n",
        "print(err_train, err_test)"
      ],
      "metadata": {
        "colab": {
          "base_uri": "https://localhost:8080/"
        },
        "id": "TRXFpSE3PQVl",
        "outputId": "238b3afa-b7a0-4ffa-faf5-73c7b32f4442"
      },
      "execution_count": 1207,
      "outputs": [
        {
          "output_type": "stream",
          "name": "stdout",
          "text": [
            "0.0 0.03806451612903226\n"
          ]
        }
      ]
    },
    {
      "cell_type": "code",
      "source": [
        "plot_confusion_matrix(rf, X_test, y_test, cmap=plt.cm.Blues)"
      ],
      "metadata": {
        "colab": {
          "base_uri": "https://localhost:8080/",
          "height": 351
        },
        "id": "PpXpsATIaHg2",
        "outputId": "f76796d3-618c-435c-aef7-d920b28969df"
      },
      "execution_count": 1208,
      "outputs": [
        {
          "output_type": "stream",
          "name": "stderr",
          "text": [
            "/usr/local/lib/python3.7/dist-packages/sklearn/utils/deprecation.py:87: FutureWarning: Function plot_confusion_matrix is deprecated; Function `plot_confusion_matrix` is deprecated in 1.0 and will be removed in 1.2. Use one of the class methods: ConfusionMatrixDisplay.from_predictions or ConfusionMatrixDisplay.from_estimator.\n",
            "  warnings.warn(msg, category=FutureWarning)\n"
          ]
        },
        {
          "output_type": "execute_result",
          "data": {
            "text/plain": [
              "<sklearn.metrics._plot.confusion_matrix.ConfusionMatrixDisplay at 0x7f041a7dddd0>"
            ]
          },
          "metadata": {},
          "execution_count": 1208
        },
        {
          "output_type": "display_data",
          "data": {
            "text/plain": [
              "<Figure size 432x288 with 2 Axes>"
            ],
            "image/png": "[encoded data removed]"
          },
          "metadata": {
            "needs_background": "light"
          }
        }
      ]
    },
    {
      "cell_type": "markdown",
      "source": [
        "Extremely Randomized Trees"
      ],
      "metadata": {
        "id": "MqSgWflfaI_Y"
      }
    },
    {
      "cell_type": "code",
      "source": [
        "ert = ensemble.ExtraTreesClassifier(n_estimators = 100).fit(X_train, y_train)\n",
        "\n",
        "err_train = np.mean(y_train != ert.predict(X_train))\n",
        "err_test  = np.mean(y_test  != ert.predict(X_test))\n",
        "\n",
        "print(err_train, err_test)"
      ],
      "metadata": {
        "colab": {
          "base_uri": "https://localhost:8080/"
        },
        "id": "AlWZkHm9PQdK",
        "outputId": "1fb4acc7-2d3d-4a23-f3e9-d3f77a9d3ec9"
      },
      "execution_count": 1209,
      "outputs": [
        {
          "output_type": "stream",
          "name": "stdout",
          "text": [
            "0.0 0.03741935483870968\n"
          ]
        }
      ]
    },
    {
      "cell_type": "code",
      "source": [
        "plot_confusion_matrix(ert, X_test, y_test, cmap=plt.cm.Blues)"
      ],
      "metadata": {
        "colab": {
          "base_uri": "https://localhost:8080/",
          "height": 351
        },
        "id": "6GJmNC62aOlw",
        "outputId": "02c253d8-2745-48ed-b51c-d8713cf65f25"
      },
      "execution_count": 1210,
      "outputs": [
        {
          "output_type": "stream",
          "name": "stderr",
          "text": [
            "/usr/local/lib/python3.7/dist-packages/sklearn/utils/deprecation.py:87: FutureWarning: Function plot_confusion_matrix is deprecated; Function `plot_confusion_matrix` is deprecated in 1.0 and will be removed in 1.2. Use one of the class methods: ConfusionMatrixDisplay.from_predictions or ConfusionMatrixDisplay.from_estimator.\n",
            "  warnings.warn(msg, category=FutureWarning)\n"
          ]
        },
        {
          "output_type": "execute_result",
          "data": {
            "text/plain": [
              "<sklearn.metrics._plot.confusion_matrix.ConfusionMatrixDisplay at 0x7f04227b03d0>"
            ]
          },
          "metadata": {},
          "execution_count": 1210
        },
        {
          "output_type": "display_data",
          "data": {
            "text/plain": [
              "<Figure size 432x288 with 2 Axes>"
            ],
            "image/png": "[encoded data removed]"
          },
          "metadata": {
            "needs_background": "light"
          }
        }
      ]
    },
    {
      "cell_type": "markdown",
      "source": [
        "AdaBoost"
      ],
      "metadata": {
        "id": "LxIeILBgaJ1J"
      }
    },
    {
      "cell_type": "code",
      "source": [
        "ada = ensemble.AdaBoostClassifier(n_estimators = 1000)\n",
        "ada.fit(X_train, y_train)\n",
        "\n",
        "err_train = np.mean(y_train != ada.predict(X_train))\n",
        "err_test = np.mean(y_test != ada.predict(X_test))\n",
        "\n",
        "print(err_train, err_test)"
      ],
      "metadata": {
        "colab": {
          "base_uri": "https://localhost:8080/"
        },
        "id": "vBCX62XGPQjL",
        "outputId": "7551f94d-2b89-4415-ab48-8c0cf1aab3dc"
      },
      "execution_count": 1211,
      "outputs": [
        {
          "output_type": "stream",
          "name": "stdout",
          "text": [
            "0.02461283185840708 0.05032258064516129\n"
          ]
        }
      ]
    },
    {
      "cell_type": "code",
      "source": [
        "plot_confusion_matrix(ada, X_test, y_test, cmap=plt.cm.Blues)"
      ],
      "metadata": {
        "colab": {
          "base_uri": "https://localhost:8080/",
          "height": 351
        },
        "id": "91Gaec0taNAa",
        "outputId": "ef9b7c1c-e25d-4622-f5c4-cb317a41bb31"
      },
      "execution_count": 1212,
      "outputs": [
        {
          "output_type": "stream",
          "name": "stderr",
          "text": [
            "/usr/local/lib/python3.7/dist-packages/sklearn/utils/deprecation.py:87: FutureWarning: Function plot_confusion_matrix is deprecated; Function `plot_confusion_matrix` is deprecated in 1.0 and will be removed in 1.2. Use one of the class methods: ConfusionMatrixDisplay.from_predictions or ConfusionMatrixDisplay.from_estimator.\n",
            "  warnings.warn(msg, category=FutureWarning)\n"
          ]
        },
        {
          "output_type": "execute_result",
          "data": {
            "text/plain": [
              "<sklearn.metrics._plot.confusion_matrix.ConfusionMatrixDisplay at 0x7f041b95db10>"
            ]
          },
          "metadata": {},
          "execution_count": 1212
        },
        {
          "output_type": "display_data",
          "data": {
            "text/plain": [
              "<Figure size 432x288 with 2 Axes>"
            ],
            "image/png": "[encoded data removed]"
          },
          "metadata": {
            "needs_background": "light"
          }
        }
      ]
    },
    {
      "cell_type": "markdown",
      "source": [
        "GBT"
      ],
      "metadata": {
        "id": "jIotDAE4aKdP"
      }
    },
    {
      "cell_type": "code",
      "source": [
        "gbt = ensemble.GradientBoostingClassifier(n_estimators = 1000)\n",
        "gbt.fit(X_train, y_train)\n",
        "\n",
        "err_train = np.mean(y_train != gbt.predict(X_train))\n",
        "err_test = np.mean(y_test != gbt.predict(X_test))\n",
        "\n",
        "print(err_train, err_test)"
      ],
      "metadata": {
        "colab": {
          "base_uri": "https://localhost:8080/"
        },
        "id": "pO1JaK08ZqY6",
        "outputId": "6fb7c124-0c0a-4211-bcb6-4431fd3907ca"
      },
      "execution_count": 1213,
      "outputs": [
        {
          "output_type": "stream",
          "name": "stdout",
          "text": [
            "0.0 0.04967741935483871\n"
          ]
        }
      ]
    },
    {
      "cell_type": "code",
      "source": [
        "plot_confusion_matrix(gbt, X_test, y_test, cmap=plt.cm.Blues)"
      ],
      "metadata": {
        "colab": {
          "base_uri": "https://localhost:8080/",
          "height": 351
        },
        "id": "i_FvAwjjZ0gF",
        "outputId": "76960739-05b3-4c56-abfc-1d570967d955"
      },
      "execution_count": 1214,
      "outputs": [
        {
          "output_type": "stream",
          "name": "stderr",
          "text": [
            "/usr/local/lib/python3.7/dist-packages/sklearn/utils/deprecation.py:87: FutureWarning: Function plot_confusion_matrix is deprecated; Function `plot_confusion_matrix` is deprecated in 1.0 and will be removed in 1.2. Use one of the class methods: ConfusionMatrixDisplay.from_predictions or ConfusionMatrixDisplay.from_estimator.\n",
            "  warnings.warn(msg, category=FutureWarning)\n"
          ]
        },
        {
          "output_type": "execute_result",
          "data": {
            "text/plain": [
              "<sklearn.metrics._plot.confusion_matrix.ConfusionMatrixDisplay at 0x7f04172c33d0>"
            ]
          },
          "metadata": {},
          "execution_count": 1214
        },
        {
          "output_type": "display_data",
          "data": {
            "text/plain": [
              "<Figure size 432x288 with 2 Axes>"
            ],
            "image/png": "[encoded data removed]"
          },
          "metadata": {
            "needs_background": "light"
          }
        }
      ]
    },
    {
      "cell_type": "markdown",
      "source": [
        "# Вывод"
      ],
      "metadata": {
        "id": "9Mt0uMhqa2qn"
      }
    },
    {
      "cell_type": "code",
      "source": [
        "data['Ground'].value_counts()"
      ],
      "metadata": {
        "colab": {
          "base_uri": "https://localhost:8080/"
        },
        "id": "g4MTSk9dapYd",
        "outputId": "f64d1d76-6988-4de6-cfca-a675d6e91acf"
      },
      "execution_count": 1217,
      "outputs": [
        {
          "output_type": "execute_result",
          "data": {
            "text/plain": [
              "0.0    4952\n",
              "1.0     214\n",
              "Name: Ground, dtype: int64"
            ]
          },
          "metadata": {},
          "execution_count": 1217
        }
      ]
    },
    {
      "cell_type": "markdown",
      "source": [
        "Как мы видим, число нулей гораздо больше единиц. Это не могло не повлиять на обучение - практически каждый метод отдает предпочтение выбору нуля."
      ],
      "metadata": {
        "id": "wXTpyB2bapLu"
      }
    },
    {
      "cell_type": "markdown",
      "source": [],
      "metadata": {
        "id": "-4kx8LBwapDs"
      }
    }
  ]
}