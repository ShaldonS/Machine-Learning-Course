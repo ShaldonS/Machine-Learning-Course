{
  "nbformat": 4,
  "nbformat_minor": 0,
  "metadata": {
    "colab": {
      "provenance": [],
      "collapsed_sections": [
        "zmZG0SjOABQJ",
        "iQnQeSnUAk5M",
        "Ypr18e8uFtYy",
        "oypjeZL91KoI",
        "pxJoWLpl4eMt",
        "CBJpNKqNFzM_",
        "Xb60h-CuGxOZ",
        "QJf0KCn8IuBp"
      ],
      "authorship_tag": "ABX9TyPjqMoNBPEAXDY4rUaaMTow",
      "include_colab_link": true
    },
    "kernelspec": {
      "name": "python3",
      "display_name": "Python 3"
    },
    "language_info": {
      "name": "python"
    }
  },
  "cells": [
    {
      "cell_type": "markdown",
      "metadata": {
        "id": "view-in-github",
        "colab_type": "text"
      },
      "source": [
        "<a href=\"https://colab.research.google.com/github/ShaldonS/Machine-Learning-Course/blob/main/LastMod.ipynb\" target=\"_parent\"><img src=\"https://colab.research.google.com/assets/colab-badge.svg\" alt=\"Open In Colab\"/></a>"
      ]
    },
    {
      "cell_type": "markdown",
      "source": [
        "# Загрузка библиотек"
      ],
      "metadata": {
        "id": "zmZG0SjOABQJ"
      }
    },
    {
      "cell_type": "code",
      "execution_count": 2,
      "metadata": {
        "id": "KVBglSBhzf_M"
      },
      "outputs": [],
      "source": [
        "import numpy as np              # Одномерные и многомерные массивы (array)\n",
        "import pandas as pd             # Таблицы и временные ряды (dataframe, series)\n",
        "import matplotlib.pyplot as plt # Научная графика\n",
        "import seaborn as sns           # Еще больше красивой графики для визуализации данных"
      ]
    },
    {
      "cell_type": "markdown",
      "source": [
        "# Загрузка данных"
      ],
      "metadata": {
        "id": "iQnQeSnUAk5M"
      }
    },
    {
      "cell_type": "code",
      "source": [
        "#data_raw = pd.read_csv('/kaggle/input/airplane-crashes-since-1908/Airplane_Crashes_and_Fatalities_Since_1908.csv')\n",
        "data_raw = pd.read_csv(\"https://raw.githubusercontent.com/ShaldonS/Machine-Learning-Course/main/Airplane_Crashes.csv\")\n",
        "#from google.colab import files\n",
        "#uploaded = files.upload()\n"
      ],
      "metadata": {
        "id": "nABar9k1zzLg"
      },
      "execution_count": 3,
      "outputs": []
    },
    {
      "cell_type": "code",
      "source": [
        "#import io\n",
        "#data_raw = pd.read_csv(io.BytesIO(uploaded['Airplane_Crashes.csv']))"
      ],
      "metadata": {
        "id": "YVoDScnQf5Xy"
      },
      "execution_count": 4,
      "outputs": []
    },
    {
      "cell_type": "code",
      "source": [
        "data_raw.shape"
      ],
      "metadata": {
        "colab": {
          "base_uri": "https://localhost:8080/"
        },
        "id": "fE3D5fWLz5n2",
        "outputId": "0302e63f-3051-44b0-b6d7-d1526f4efbeb"
      },
      "execution_count": 5,
      "outputs": [
        {
          "output_type": "execute_result",
          "data": {
            "text/plain": [
              "(5268, 13)"
            ]
          },
          "metadata": {},
          "execution_count": 5
        }
      ]
    },
    {
      "cell_type": "code",
      "source": [
        "data_raw"
      ],
      "metadata": {
        "colab": {
          "base_uri": "https://localhost:8080/",
          "height": 659
        },
        "id": "iB0GPgh3z681",
        "outputId": "2ba80b29-5c67-4a1a-af00-519cb2a79ce4"
      },
      "execution_count": 6,
      "outputs": [
        {
          "output_type": "execute_result",
          "data": {
            "text/plain": [
              "            Date   Time                                           Location  \\\n",
              "0     09/17/1908  17:18                                Fort Myer, Virginia   \n",
              "1     07/12/1912  06:30                            AtlantiCity, New Jersey   \n",
              "2     08/06/1913    NaN                 Victoria, British Columbia, Canada   \n",
              "3     09/09/1913  18:30                                 Over the North Sea   \n",
              "4     10/17/1913  10:30                         Near Johannisthal, Germany   \n",
              "...          ...    ...                                                ...   \n",
              "5263  05/20/2009  06:30                             Near Madiun, Indonesia   \n",
              "5264  05/26/2009    NaN                  Near Isiro, DemocratiRepubliCongo   \n",
              "5265  06/01/2009  00:15  AtlantiOcean, 570 miles northeast of Natal, Br...   \n",
              "5266  06/07/2009  08:30       Near Port Hope Simpson, Newfoundland, Canada   \n",
              "5267  06/08/2009    NaN                  State of Arunachal Pradesh, India   \n",
              "\n",
              "                             Operator Flight #  \\\n",
              "0                Military - U.S. Army      NaN   \n",
              "1                Military - U.S. Navy      NaN   \n",
              "2                             Private        -   \n",
              "3              Military - German Navy      NaN   \n",
              "4              Military - German Navy      NaN   \n",
              "...                               ...      ...   \n",
              "5263  Military - Indonesian Air Force      NaN   \n",
              "5264                      Service Air      NaN   \n",
              "5265                       Air France      447   \n",
              "5266                       Strait Air      NaN   \n",
              "5267      Military - Indian Air Force      NaN   \n",
              "\n",
              "                                          Route  \\\n",
              "0                                 Demonstration   \n",
              "1                                   Test flight   \n",
              "2                                           NaN   \n",
              "3                                           NaN   \n",
              "4                                           NaN   \n",
              "...                                         ...   \n",
              "5263                           Jakarta - Maduin   \n",
              "5264                               Goma - Isiro   \n",
              "5265                     Rio de Janeiro - Paris   \n",
              "5266  Lourdes de BlanSablon - Port Hope Simpson   \n",
              "5267                         Mechuka for Jorhat   \n",
              "\n",
              "                                  Type Registration cn/In  Aboard  Fatalities  \\\n",
              "0                     Wright Flyer III          NaN     1     2.0         1.0   \n",
              "1                            Dirigible          NaN   NaN     5.0         5.0   \n",
              "2                     Curtiss seaplane          NaN   NaN     1.0         1.0   \n",
              "3               Zeppelin L-1 (airship)          NaN   NaN    20.0        14.0   \n",
              "4               Zeppelin L-2 (airship)          NaN   NaN    30.0        30.0   \n",
              "...                                ...          ...   ...     ...         ...   \n",
              "5263           Lockheed C-130 Hercules       A-1325  1982   112.0        98.0   \n",
              "5264                     Antonov An-26       9Q-CSA  5005     4.0         4.0   \n",
              "5265                   Airbus A330-203       F-GZCP   660   228.0       228.0   \n",
              "5266  Britten-Norman BN-2A-27 Islander      C-FJJR    424     1.0         1.0   \n",
              "5267                     Antonov An-32          NaN   NaN    13.0        13.0   \n",
              "\n",
              "      Ground                                            Summary  \n",
              "0        0.0  During a demonstration flight, a U.S. Army fly...  \n",
              "1        0.0  First U.S. dirigible Akron exploded just offsh...  \n",
              "2        0.0  The first fatal airplane accident in Canada oc...  \n",
              "3        0.0  The airship flew into a thunderstorm and encou...  \n",
              "4        0.0  Hydrogen gas which was being vented was sucked...  \n",
              "...      ...                                                ...  \n",
              "5263     2.0  While on approach, the military transport cras...  \n",
              "5264     NaN  The cargo plane crashed while on approach to I...  \n",
              "5265     0.0  The Airbus went missing over the AtlantiOcean ...  \n",
              "5266     0.0  The air ambulance crashed into hills while att...  \n",
              "5267     0.0  The military transport went missing while en r...  \n",
              "\n",
              "[5268 rows x 13 columns]"
            ],
            "text/html": [
              "\n",
              "  <div id=\"df-d22fdfa8-3fd4-4240-8c6b-911196d26c18\">\n",
              "    <div class=\"colab-df-container\">\n",
              "      <div>\n",
              "<style scoped>\n",
              "    .dataframe tbody tr th:only-of-type {\n",
              "        vertical-align: middle;\n",
              "    }\n",
              "\n",
              "    .dataframe tbody tr th {\n",
              "        vertical-align: top;\n",
              "    }\n",
              "\n",
              "    .dataframe thead th {\n",
              "        text-align: right;\n",
              "    }\n",
              "</style>\n",
              "<table border=\"1\" class=\"dataframe\">\n",
              "  <thead>\n",
              "    <tr style=\"text-align: right;\">\n",
              "      <th></th>\n",
              "      <th>Date</th>\n",
              "      <th>Time</th>\n",
              "      <th>Location</th>\n",
              "      <th>Operator</th>\n",
              "      <th>Flight #</th>\n",
              "      <th>Route</th>\n",
              "      <th>Type</th>\n",
              "      <th>Registration</th>\n",
              "      <th>cn/In</th>\n",
              "      <th>Aboard</th>\n",
              "      <th>Fatalities</th>\n",
              "      <th>Ground</th>\n",
              "      <th>Summary</th>\n",
              "    </tr>\n",
              "  </thead>\n",
              "  <tbody>\n",
              "    <tr>\n",
              "      <th>0</th>\n",
              "      <td>09/17/1908</td>\n",
              "      <td>17:18</td>\n",
              "      <td>Fort Myer, Virginia</td>\n",
              "      <td>Military - U.S. Army</td>\n",
              "      <td>NaN</td>\n",
              "      <td>Demonstration</td>\n",
              "      <td>Wright Flyer III</td>\n",
              "      <td>NaN</td>\n",
              "      <td>1</td>\n",
              "      <td>2.0</td>\n",
              "      <td>1.0</td>\n",
              "      <td>0.0</td>\n",
              "      <td>During a demonstration flight, a U.S. Army fly...</td>\n",
              "    </tr>\n",
              "    <tr>\n",
              "      <th>1</th>\n",
              "      <td>07/12/1912</td>\n",
              "      <td>06:30</td>\n",
              "      <td>AtlantiCity, New Jersey</td>\n",
              "      <td>Military - U.S. Navy</td>\n",
              "      <td>NaN</td>\n",
              "      <td>Test flight</td>\n",
              "      <td>Dirigible</td>\n",
              "      <td>NaN</td>\n",
              "      <td>NaN</td>\n",
              "      <td>5.0</td>\n",
              "      <td>5.0</td>\n",
              "      <td>0.0</td>\n",
              "      <td>First U.S. dirigible Akron exploded just offsh...</td>\n",
              "    </tr>\n",
              "    <tr>\n",
              "      <th>2</th>\n",
              "      <td>08/06/1913</td>\n",
              "      <td>NaN</td>\n",
              "      <td>Victoria, British Columbia, Canada</td>\n",
              "      <td>Private</td>\n",
              "      <td>-</td>\n",
              "      <td>NaN</td>\n",
              "      <td>Curtiss seaplane</td>\n",
              "      <td>NaN</td>\n",
              "      <td>NaN</td>\n",
              "      <td>1.0</td>\n",
              "      <td>1.0</td>\n",
              "      <td>0.0</td>\n",
              "      <td>The first fatal airplane accident in Canada oc...</td>\n",
              "    </tr>\n",
              "    <tr>\n",
              "      <th>3</th>\n",
              "      <td>09/09/1913</td>\n",
              "      <td>18:30</td>\n",
              "      <td>Over the North Sea</td>\n",
              "      <td>Military - German Navy</td>\n",
              "      <td>NaN</td>\n",
              "      <td>NaN</td>\n",
              "      <td>Zeppelin L-1 (airship)</td>\n",
              "      <td>NaN</td>\n",
              "      <td>NaN</td>\n",
              "      <td>20.0</td>\n",
              "      <td>14.0</td>\n",
              "      <td>0.0</td>\n",
              "      <td>The airship flew into a thunderstorm and encou...</td>\n",
              "    </tr>\n",
              "    <tr>\n",
              "      <th>4</th>\n",
              "      <td>10/17/1913</td>\n",
              "      <td>10:30</td>\n",
              "      <td>Near Johannisthal, Germany</td>\n",
              "      <td>Military - German Navy</td>\n",
              "      <td>NaN</td>\n",
              "      <td>NaN</td>\n",
              "      <td>Zeppelin L-2 (airship)</td>\n",
              "      <td>NaN</td>\n",
              "      <td>NaN</td>\n",
              "      <td>30.0</td>\n",
              "      <td>30.0</td>\n",
              "      <td>0.0</td>\n",
              "      <td>Hydrogen gas which was being vented was sucked...</td>\n",
              "    </tr>\n",
              "    <tr>\n",
              "      <th>...</th>\n",
              "      <td>...</td>\n",
              "      <td>...</td>\n",
              "      <td>...</td>\n",
              "      <td>...</td>\n",
              "      <td>...</td>\n",
              "      <td>...</td>\n",
              "      <td>...</td>\n",
              "      <td>...</td>\n",
              "      <td>...</td>\n",
              "      <td>...</td>\n",
              "      <td>...</td>\n",
              "      <td>...</td>\n",
              "      <td>...</td>\n",
              "    </tr>\n",
              "    <tr>\n",
              "      <th>5263</th>\n",
              "      <td>05/20/2009</td>\n",
              "      <td>06:30</td>\n",
              "      <td>Near Madiun, Indonesia</td>\n",
              "      <td>Military - Indonesian Air Force</td>\n",
              "      <td>NaN</td>\n",
              "      <td>Jakarta - Maduin</td>\n",
              "      <td>Lockheed C-130 Hercules</td>\n",
              "      <td>A-1325</td>\n",
              "      <td>1982</td>\n",
              "      <td>112.0</td>\n",
              "      <td>98.0</td>\n",
              "      <td>2.0</td>\n",
              "      <td>While on approach, the military transport cras...</td>\n",
              "    </tr>\n",
              "    <tr>\n",
              "      <th>5264</th>\n",
              "      <td>05/26/2009</td>\n",
              "      <td>NaN</td>\n",
              "      <td>Near Isiro, DemocratiRepubliCongo</td>\n",
              "      <td>Service Air</td>\n",
              "      <td>NaN</td>\n",
              "      <td>Goma - Isiro</td>\n",
              "      <td>Antonov An-26</td>\n",
              "      <td>9Q-CSA</td>\n",
              "      <td>5005</td>\n",
              "      <td>4.0</td>\n",
              "      <td>4.0</td>\n",
              "      <td>NaN</td>\n",
              "      <td>The cargo plane crashed while on approach to I...</td>\n",
              "    </tr>\n",
              "    <tr>\n",
              "      <th>5265</th>\n",
              "      <td>06/01/2009</td>\n",
              "      <td>00:15</td>\n",
              "      <td>AtlantiOcean, 570 miles northeast of Natal, Br...</td>\n",
              "      <td>Air France</td>\n",
              "      <td>447</td>\n",
              "      <td>Rio de Janeiro - Paris</td>\n",
              "      <td>Airbus A330-203</td>\n",
              "      <td>F-GZCP</td>\n",
              "      <td>660</td>\n",
              "      <td>228.0</td>\n",
              "      <td>228.0</td>\n",
              "      <td>0.0</td>\n",
              "      <td>The Airbus went missing over the AtlantiOcean ...</td>\n",
              "    </tr>\n",
              "    <tr>\n",
              "      <th>5266</th>\n",
              "      <td>06/07/2009</td>\n",
              "      <td>08:30</td>\n",
              "      <td>Near Port Hope Simpson, Newfoundland, Canada</td>\n",
              "      <td>Strait Air</td>\n",
              "      <td>NaN</td>\n",
              "      <td>Lourdes de BlanSablon - Port Hope Simpson</td>\n",
              "      <td>Britten-Norman BN-2A-27 Islander</td>\n",
              "      <td>C-FJJR</td>\n",
              "      <td>424</td>\n",
              "      <td>1.0</td>\n",
              "      <td>1.0</td>\n",
              "      <td>0.0</td>\n",
              "      <td>The air ambulance crashed into hills while att...</td>\n",
              "    </tr>\n",
              "    <tr>\n",
              "      <th>5267</th>\n",
              "      <td>06/08/2009</td>\n",
              "      <td>NaN</td>\n",
              "      <td>State of Arunachal Pradesh, India</td>\n",
              "      <td>Military - Indian Air Force</td>\n",
              "      <td>NaN</td>\n",
              "      <td>Mechuka for Jorhat</td>\n",
              "      <td>Antonov An-32</td>\n",
              "      <td>NaN</td>\n",
              "      <td>NaN</td>\n",
              "      <td>13.0</td>\n",
              "      <td>13.0</td>\n",
              "      <td>0.0</td>\n",
              "      <td>The military transport went missing while en r...</td>\n",
              "    </tr>\n",
              "  </tbody>\n",
              "</table>\n",
              "<p>5268 rows × 13 columns</p>\n",
              "</div>\n",
              "      <button class=\"colab-df-convert\" onclick=\"convertToInteractive('df-d22fdfa8-3fd4-4240-8c6b-911196d26c18')\"\n",
              "              title=\"Convert this dataframe to an interactive table.\"\n",
              "              style=\"display:none;\">\n",
              "        \n",
              "  <svg xmlns=\"http://www.w3.org/2000/svg\" height=\"24px\"viewBox=\"0 0 24 24\"\n",
              "       width=\"24px\">\n",
              "    <path d=\"M0 0h24v24H0V0z\" fill=\"none\"/>\n",
              "    <path d=\"M18.56 5.44l.94 2.06.94-2.06 2.06-.94-2.06-.94-.94-2.06-.94 2.06-2.06.94zm-11 1L8.5 8.5l.94-2.06 2.06-.94-2.06-.94L8.5 2.5l-.94 2.06-2.06.94zm10 10l.94 2.06.94-2.06 2.06-.94-2.06-.94-.94-2.06-.94 2.06-2.06.94z\"/><path d=\"M17.41 7.96l-1.37-1.37c-.4-.4-.92-.59-1.43-.59-.52 0-1.04.2-1.43.59L10.3 9.45l-7.72 7.72c-.78.78-.78 2.05 0 2.83L4 21.41c.39.39.9.59 1.41.59.51 0 1.02-.2 1.41-.59l7.78-7.78 2.81-2.81c.8-.78.8-2.07 0-2.86zM5.41 20L4 18.59l7.72-7.72 1.47 1.35L5.41 20z\"/>\n",
              "  </svg>\n",
              "      </button>\n",
              "      \n",
              "  <style>\n",
              "    .colab-df-container {\n",
              "      display:flex;\n",
              "      flex-wrap:wrap;\n",
              "      gap: 12px;\n",
              "    }\n",
              "\n",
              "    .colab-df-convert {\n",
              "      background-color: #E8F0FE;\n",
              "      border: none;\n",
              "      border-radius: 50%;\n",
              "      cursor: pointer;\n",
              "      display: none;\n",
              "      fill: #1967D2;\n",
              "      height: 32px;\n",
              "      padding: 0 0 0 0;\n",
              "      width: 32px;\n",
              "    }\n",
              "\n",
              "    .colab-df-convert:hover {\n",
              "      background-color: #E2EBFA;\n",
              "      box-shadow: 0px 1px 2px rgba(60, 64, 67, 0.3), 0px 1px 3px 1px rgba(60, 64, 67, 0.15);\n",
              "      fill: #174EA6;\n",
              "    }\n",
              "\n",
              "    [theme=dark] .colab-df-convert {\n",
              "      background-color: #3B4455;\n",
              "      fill: #D2E3FC;\n",
              "    }\n",
              "\n",
              "    [theme=dark] .colab-df-convert:hover {\n",
              "      background-color: #434B5C;\n",
              "      box-shadow: 0px 1px 3px 1px rgba(0, 0, 0, 0.15);\n",
              "      filter: drop-shadow(0px 1px 2px rgba(0, 0, 0, 0.3));\n",
              "      fill: #FFFFFF;\n",
              "    }\n",
              "  </style>\n",
              "\n",
              "      <script>\n",
              "        const buttonEl =\n",
              "          document.querySelector('#df-d22fdfa8-3fd4-4240-8c6b-911196d26c18 button.colab-df-convert');\n",
              "        buttonEl.style.display =\n",
              "          google.colab.kernel.accessAllowed ? 'block' : 'none';\n",
              "\n",
              "        async function convertToInteractive(key) {\n",
              "          const element = document.querySelector('#df-d22fdfa8-3fd4-4240-8c6b-911196d26c18');\n",
              "          const dataTable =\n",
              "            await google.colab.kernel.invokeFunction('convertToInteractive',\n",
              "                                                     [key], {});\n",
              "          if (!dataTable) return;\n",
              "\n",
              "          const docLinkHtml = 'Like what you see? Visit the ' +\n",
              "            '<a target=\"_blank\" href=https://colab.research.google.com/notebooks/data_table.ipynb>data table notebook</a>'\n",
              "            + ' to learn more about interactive tables.';\n",
              "          element.innerHTML = '';\n",
              "          dataTable['output_type'] = 'display_data';\n",
              "          await google.colab.output.renderOutput(dataTable, element);\n",
              "          const docLink = document.createElement('div');\n",
              "          docLink.innerHTML = docLinkHtml;\n",
              "          element.appendChild(docLink);\n",
              "        }\n",
              "      </script>\n",
              "    </div>\n",
              "  </div>\n",
              "  "
            ]
          },
          "metadata": {},
          "execution_count": 6
        }
      ]
    },
    {
      "cell_type": "code",
      "source": [
        "data_raw.info()"
      ],
      "metadata": {
        "colab": {
          "base_uri": "https://localhost:8080/"
        },
        "id": "Xmrvaz2_z7F-",
        "outputId": "af6d7ec7-d482-4258-e93e-7a7e9c85e71b"
      },
      "execution_count": 7,
      "outputs": [
        {
          "output_type": "stream",
          "name": "stdout",
          "text": [
            "<class 'pandas.core.frame.DataFrame'>\n",
            "RangeIndex: 5268 entries, 0 to 5267\n",
            "Data columns (total 13 columns):\n",
            " #   Column        Non-Null Count  Dtype  \n",
            "---  ------        --------------  -----  \n",
            " 0   Date          5268 non-null   object \n",
            " 1   Time          3049 non-null   object \n",
            " 2   Location      5248 non-null   object \n",
            " 3   Operator      5250 non-null   object \n",
            " 4   Flight #      1069 non-null   object \n",
            " 5   Route         3562 non-null   object \n",
            " 6   Type          5241 non-null   object \n",
            " 7   Registration  4933 non-null   object \n",
            " 8   cn/In         4040 non-null   object \n",
            " 9   Aboard        5246 non-null   float64\n",
            " 10  Fatalities    5256 non-null   float64\n",
            " 11  Ground        5246 non-null   float64\n",
            " 12  Summary       4878 non-null   object \n",
            "dtypes: float64(3), object(10)\n",
            "memory usage: 535.2+ KB\n"
          ]
        }
      ]
    },
    {
      "cell_type": "markdown",
      "source": [
        "#О датасете\n",
        "\n",
        "**Описание:** Полная история авиакатастроф по всему миру, с 1908 года по 2009 год.\n",
        "\n",
        "**Колонки:**\n",
        "- `Date` - дата крушения\n",
        "- `Time` - время\n",
        "- `Location` - место крушения\n",
        "- `Operator` - оператор\n",
        "- `Flight` - номер рейса\n",
        "- `Route` - маршрут\t(до аварии)\n",
        "- `Type`- \tтип самолета\n",
        "- `Registration`- номер регистрации\t\n",
        "- `cn/In` - строительный или серийный номер \n",
        "- `Aboard` - число людей на борту\t\n",
        "- `Fatalities` - смертельные случаи\n",
        "- `Ground` - \tпогибло во время приземления\n",
        "- `Summary` - общее описание"
      ],
      "metadata": {
        "id": "Ypr18e8uFtYy"
      }
    },
    {
      "cell_type": "code",
      "source": [
        "data_raw.columns"
      ],
      "metadata": {
        "colab": {
          "base_uri": "https://localhost:8080/"
        },
        "id": "8CfWMVF70LhU",
        "outputId": "19f3c014-1f8c-4b67-9299-f978f21343f5"
      },
      "execution_count": 8,
      "outputs": [
        {
          "output_type": "execute_result",
          "data": {
            "text/plain": [
              "Index(['Date', 'Time', 'Location', 'Operator', 'Flight #', 'Route', 'Type',\n",
              "       'Registration', 'cn/In', 'Aboard', 'Fatalities', 'Ground', 'Summary'],\n",
              "      dtype='object')"
            ]
          },
          "metadata": {},
          "execution_count": 8
        }
      ]
    },
    {
      "cell_type": "code",
      "source": [
        "percent_missing = data_raw.isnull().sum() * 100 / len(data_raw)\n",
        "missing_value_df = pd.DataFrame({'column_name': data_raw.columns,\n",
        "                                 'percent_missing': percent_missing})\n",
        "missing_value_df.mean() "
      ],
      "metadata": {
        "colab": {
          "base_uri": "https://localhost:8080/"
        },
        "id": "I9iJ1Wp7haLF",
        "outputId": "23c96724-6569-428c-b8e2-16fd3db89340"
      },
      "execution_count": 9,
      "outputs": [
        {
          "output_type": "stream",
          "name": "stderr",
          "text": [
            "<ipython-input-9-3dcc65202563>:4: FutureWarning: Dropping of nuisance columns in DataFrame reductions (with 'numeric_only=None') is deprecated; in a future version this will raise TypeError.  Select only valid columns before calling the reduction.\n",
            "  missing_value_df.mean()\n"
          ]
        },
        {
          "output_type": "execute_result",
          "data": {
            "text/plain": [
              "percent_missing    14.891069\n",
              "dtype: float64"
            ]
          },
          "metadata": {},
          "execution_count": 9
        }
      ]
    },
    {
      "cell_type": "markdown",
      "source": [
        "Связь между числовыми признаками:"
      ],
      "metadata": {
        "id": "9ng3V6J1Y6k2"
      }
    },
    {
      "cell_type": "code",
      "source": [
        "corr_matr = data_raw.corr()\n",
        "corr_matr"
      ],
      "metadata": {
        "colab": {
          "base_uri": "https://localhost:8080/",
          "height": 143
        },
        "id": "l26iVW9TfSR5",
        "outputId": "04dddf59-824f-4bc3-efd3-1aab8b9cd9a9"
      },
      "execution_count": 10,
      "outputs": [
        {
          "output_type": "execute_result",
          "data": {
            "text/plain": [
              "              Aboard  Fatalities    Ground\n",
              "Aboard      1.000000    0.757172  0.023241\n",
              "Fatalities  0.757172    1.000000  0.035170\n",
              "Ground      0.023241    0.035170  1.000000"
            ],
            "text/html": [
              "\n",
              "  <div id=\"df-c7971780-ddc2-472c-90f2-9e58eacf1b7e\">\n",
              "    <div class=\"colab-df-container\">\n",
              "      <div>\n",
              "<style scoped>\n",
              "    .dataframe tbody tr th:only-of-type {\n",
              "        vertical-align: middle;\n",
              "    }\n",
              "\n",
              "    .dataframe tbody tr th {\n",
              "        vertical-align: top;\n",
              "    }\n",
              "\n",
              "    .dataframe thead th {\n",
              "        text-align: right;\n",
              "    }\n",
              "</style>\n",
              "<table border=\"1\" class=\"dataframe\">\n",
              "  <thead>\n",
              "    <tr style=\"text-align: right;\">\n",
              "      <th></th>\n",
              "      <th>Aboard</th>\n",
              "      <th>Fatalities</th>\n",
              "      <th>Ground</th>\n",
              "    </tr>\n",
              "  </thead>\n",
              "  <tbody>\n",
              "    <tr>\n",
              "      <th>Aboard</th>\n",
              "      <td>1.000000</td>\n",
              "      <td>0.757172</td>\n",
              "      <td>0.023241</td>\n",
              "    </tr>\n",
              "    <tr>\n",
              "      <th>Fatalities</th>\n",
              "      <td>0.757172</td>\n",
              "      <td>1.000000</td>\n",
              "      <td>0.035170</td>\n",
              "    </tr>\n",
              "    <tr>\n",
              "      <th>Ground</th>\n",
              "      <td>0.023241</td>\n",
              "      <td>0.035170</td>\n",
              "      <td>1.000000</td>\n",
              "    </tr>\n",
              "  </tbody>\n",
              "</table>\n",
              "</div>\n",
              "      <button class=\"colab-df-convert\" onclick=\"convertToInteractive('df-c7971780-ddc2-472c-90f2-9e58eacf1b7e')\"\n",
              "              title=\"Convert this dataframe to an interactive table.\"\n",
              "              style=\"display:none;\">\n",
              "        \n",
              "  <svg xmlns=\"http://www.w3.org/2000/svg\" height=\"24px\"viewBox=\"0 0 24 24\"\n",
              "       width=\"24px\">\n",
              "    <path d=\"M0 0h24v24H0V0z\" fill=\"none\"/>\n",
              "    <path d=\"M18.56 5.44l.94 2.06.94-2.06 2.06-.94-2.06-.94-.94-2.06-.94 2.06-2.06.94zm-11 1L8.5 8.5l.94-2.06 2.06-.94-2.06-.94L8.5 2.5l-.94 2.06-2.06.94zm10 10l.94 2.06.94-2.06 2.06-.94-2.06-.94-.94-2.06-.94 2.06-2.06.94z\"/><path d=\"M17.41 7.96l-1.37-1.37c-.4-.4-.92-.59-1.43-.59-.52 0-1.04.2-1.43.59L10.3 9.45l-7.72 7.72c-.78.78-.78 2.05 0 2.83L4 21.41c.39.39.9.59 1.41.59.51 0 1.02-.2 1.41-.59l7.78-7.78 2.81-2.81c.8-.78.8-2.07 0-2.86zM5.41 20L4 18.59l7.72-7.72 1.47 1.35L5.41 20z\"/>\n",
              "  </svg>\n",
              "      </button>\n",
              "      \n",
              "  <style>\n",
              "    .colab-df-container {\n",
              "      display:flex;\n",
              "      flex-wrap:wrap;\n",
              "      gap: 12px;\n",
              "    }\n",
              "\n",
              "    .colab-df-convert {\n",
              "      background-color: #E8F0FE;\n",
              "      border: none;\n",
              "      border-radius: 50%;\n",
              "      cursor: pointer;\n",
              "      display: none;\n",
              "      fill: #1967D2;\n",
              "      height: 32px;\n",
              "      padding: 0 0 0 0;\n",
              "      width: 32px;\n",
              "    }\n",
              "\n",
              "    .colab-df-convert:hover {\n",
              "      background-color: #E2EBFA;\n",
              "      box-shadow: 0px 1px 2px rgba(60, 64, 67, 0.3), 0px 1px 3px 1px rgba(60, 64, 67, 0.15);\n",
              "      fill: #174EA6;\n",
              "    }\n",
              "\n",
              "    [theme=dark] .colab-df-convert {\n",
              "      background-color: #3B4455;\n",
              "      fill: #D2E3FC;\n",
              "    }\n",
              "\n",
              "    [theme=dark] .colab-df-convert:hover {\n",
              "      background-color: #434B5C;\n",
              "      box-shadow: 0px 1px 3px 1px rgba(0, 0, 0, 0.15);\n",
              "      filter: drop-shadow(0px 1px 2px rgba(0, 0, 0, 0.3));\n",
              "      fill: #FFFFFF;\n",
              "    }\n",
              "  </style>\n",
              "\n",
              "      <script>\n",
              "        const buttonEl =\n",
              "          document.querySelector('#df-c7971780-ddc2-472c-90f2-9e58eacf1b7e button.colab-df-convert');\n",
              "        buttonEl.style.display =\n",
              "          google.colab.kernel.accessAllowed ? 'block' : 'none';\n",
              "\n",
              "        async function convertToInteractive(key) {\n",
              "          const element = document.querySelector('#df-c7971780-ddc2-472c-90f2-9e58eacf1b7e');\n",
              "          const dataTable =\n",
              "            await google.colab.kernel.invokeFunction('convertToInteractive',\n",
              "                                                     [key], {});\n",
              "          if (!dataTable) return;\n",
              "\n",
              "          const docLinkHtml = 'Like what you see? Visit the ' +\n",
              "            '<a target=\"_blank\" href=https://colab.research.google.com/notebooks/data_table.ipynb>data table notebook</a>'\n",
              "            + ' to learn more about interactive tables.';\n",
              "          element.innerHTML = '';\n",
              "          dataTable['output_type'] = 'display_data';\n",
              "          await google.colab.output.renderOutput(dataTable, element);\n",
              "          const docLink = document.createElement('div');\n",
              "          docLink.innerHTML = docLinkHtml;\n",
              "          element.appendChild(docLink);\n",
              "        }\n",
              "      </script>\n",
              "    </div>\n",
              "  </div>\n",
              "  "
            ]
          },
          "metadata": {},
          "execution_count": 10
        }
      ]
    },
    {
      "cell_type": "code",
      "source": [
        "sns.heatmap(corr_matr, square=True, cmap='coolwarm')"
      ],
      "metadata": {
        "colab": {
          "base_uri": "https://localhost:8080/",
          "height": 286
        },
        "id": "h8I185gugklC",
        "outputId": "0a17537c-eef4-4fa0-bef9-1b4da8f9027c"
      },
      "execution_count": 11,
      "outputs": [
        {
          "output_type": "execute_result",
          "data": {
            "text/plain": [
              "<matplotlib.axes._subplots.AxesSubplot at 0x7fda2d22be50>"
            ]
          },
          "metadata": {},
          "execution_count": 11
        },
        {
          "output_type": "display_data",
          "data": {
            "text/plain": [
              "<Figure size 432x288 with 2 Axes>"
            ],
            "image/png": "[encoded data removed]"
          },
          "metadata": {
            "needs_background": "light"
          }
        }
      ]
    },
    {
      "cell_type": "markdown",
      "source": [
        "# Выбросы"
      ],
      "metadata": {
        "id": "oypjeZL91KoI"
      }
    },
    {
      "cell_type": "code",
      "source": [
        "data_raw.describe().T"
      ],
      "metadata": {
        "colab": {
          "base_uri": "https://localhost:8080/",
          "height": 143
        },
        "id": "hjFJZPfN1KYF",
        "outputId": "858bdd7d-6a88-4d02-ad35-f2b019769357"
      },
      "execution_count": 12,
      "outputs": [
        {
          "output_type": "execute_result",
          "data": {
            "text/plain": [
              "             count       mean        std  min  25%   50%   75%     max\n",
              "Aboard      5246.0  27.554518  43.076711  0.0  5.0  13.0  30.0   644.0\n",
              "Fatalities  5256.0  20.068303  33.199952  0.0  3.0   9.0  23.0   583.0\n",
              "Ground      5246.0   1.608845  53.987827  0.0  0.0   0.0   0.0  2750.0"
            ],
            "text/html": [
              "\n",
              "  <div id=\"df-d6ba547f-e13f-4c1e-8dd3-b39b6c2ce0f0\">\n",
              "    <div class=\"colab-df-container\">\n",
              "      <div>\n",
              "<style scoped>\n",
              "    .dataframe tbody tr th:only-of-type {\n",
              "        vertical-align: middle;\n",
              "    }\n",
              "\n",
              "    .dataframe tbody tr th {\n",
              "        vertical-align: top;\n",
              "    }\n",
              "\n",
              "    .dataframe thead th {\n",
              "        text-align: right;\n",
              "    }\n",
              "</style>\n",
              "<table border=\"1\" class=\"dataframe\">\n",
              "  <thead>\n",
              "    <tr style=\"text-align: right;\">\n",
              "      <th></th>\n",
              "      <th>count</th>\n",
              "      <th>mean</th>\n",
              "      <th>std</th>\n",
              "      <th>min</th>\n",
              "      <th>25%</th>\n",
              "      <th>50%</th>\n",
              "      <th>75%</th>\n",
              "      <th>max</th>\n",
              "    </tr>\n",
              "  </thead>\n",
              "  <tbody>\n",
              "    <tr>\n",
              "      <th>Aboard</th>\n",
              "      <td>5246.0</td>\n",
              "      <td>27.554518</td>\n",
              "      <td>43.076711</td>\n",
              "      <td>0.0</td>\n",
              "      <td>5.0</td>\n",
              "      <td>13.0</td>\n",
              "      <td>30.0</td>\n",
              "      <td>644.0</td>\n",
              "    </tr>\n",
              "    <tr>\n",
              "      <th>Fatalities</th>\n",
              "      <td>5256.0</td>\n",
              "      <td>20.068303</td>\n",
              "      <td>33.199952</td>\n",
              "      <td>0.0</td>\n",
              "      <td>3.0</td>\n",
              "      <td>9.0</td>\n",
              "      <td>23.0</td>\n",
              "      <td>583.0</td>\n",
              "    </tr>\n",
              "    <tr>\n",
              "      <th>Ground</th>\n",
              "      <td>5246.0</td>\n",
              "      <td>1.608845</td>\n",
              "      <td>53.987827</td>\n",
              "      <td>0.0</td>\n",
              "      <td>0.0</td>\n",
              "      <td>0.0</td>\n",
              "      <td>0.0</td>\n",
              "      <td>2750.0</td>\n",
              "    </tr>\n",
              "  </tbody>\n",
              "</table>\n",
              "</div>\n",
              "      <button class=\"colab-df-convert\" onclick=\"convertToInteractive('df-d6ba547f-e13f-4c1e-8dd3-b39b6c2ce0f0')\"\n",
              "              title=\"Convert this dataframe to an interactive table.\"\n",
              "              style=\"display:none;\">\n",
              "        \n",
              "  <svg xmlns=\"http://www.w3.org/2000/svg\" height=\"24px\"viewBox=\"0 0 24 24\"\n",
              "       width=\"24px\">\n",
              "    <path d=\"M0 0h24v24H0V0z\" fill=\"none\"/>\n",
              "    <path d=\"M18.56 5.44l.94 2.06.94-2.06 2.06-.94-2.06-.94-.94-2.06-.94 2.06-2.06.94zm-11 1L8.5 8.5l.94-2.06 2.06-.94-2.06-.94L8.5 2.5l-.94 2.06-2.06.94zm10 10l.94 2.06.94-2.06 2.06-.94-2.06-.94-.94-2.06-.94 2.06-2.06.94z\"/><path d=\"M17.41 7.96l-1.37-1.37c-.4-.4-.92-.59-1.43-.59-.52 0-1.04.2-1.43.59L10.3 9.45l-7.72 7.72c-.78.78-.78 2.05 0 2.83L4 21.41c.39.39.9.59 1.41.59.51 0 1.02-.2 1.41-.59l7.78-7.78 2.81-2.81c.8-.78.8-2.07 0-2.86zM5.41 20L4 18.59l7.72-7.72 1.47 1.35L5.41 20z\"/>\n",
              "  </svg>\n",
              "      </button>\n",
              "      \n",
              "  <style>\n",
              "    .colab-df-container {\n",
              "      display:flex;\n",
              "      flex-wrap:wrap;\n",
              "      gap: 12px;\n",
              "    }\n",
              "\n",
              "    .colab-df-convert {\n",
              "      background-color: #E8F0FE;\n",
              "      border: none;\n",
              "      border-radius: 50%;\n",
              "      cursor: pointer;\n",
              "      display: none;\n",
              "      fill: #1967D2;\n",
              "      height: 32px;\n",
              "      padding: 0 0 0 0;\n",
              "      width: 32px;\n",
              "    }\n",
              "\n",
              "    .colab-df-convert:hover {\n",
              "      background-color: #E2EBFA;\n",
              "      box-shadow: 0px 1px 2px rgba(60, 64, 67, 0.3), 0px 1px 3px 1px rgba(60, 64, 67, 0.15);\n",
              "      fill: #174EA6;\n",
              "    }\n",
              "\n",
              "    [theme=dark] .colab-df-convert {\n",
              "      background-color: #3B4455;\n",
              "      fill: #D2E3FC;\n",
              "    }\n",
              "\n",
              "    [theme=dark] .colab-df-convert:hover {\n",
              "      background-color: #434B5C;\n",
              "      box-shadow: 0px 1px 3px 1px rgba(0, 0, 0, 0.15);\n",
              "      filter: drop-shadow(0px 1px 2px rgba(0, 0, 0, 0.3));\n",
              "      fill: #FFFFFF;\n",
              "    }\n",
              "  </style>\n",
              "\n",
              "      <script>\n",
              "        const buttonEl =\n",
              "          document.querySelector('#df-d6ba547f-e13f-4c1e-8dd3-b39b6c2ce0f0 button.colab-df-convert');\n",
              "        buttonEl.style.display =\n",
              "          google.colab.kernel.accessAllowed ? 'block' : 'none';\n",
              "\n",
              "        async function convertToInteractive(key) {\n",
              "          const element = document.querySelector('#df-d6ba547f-e13f-4c1e-8dd3-b39b6c2ce0f0');\n",
              "          const dataTable =\n",
              "            await google.colab.kernel.invokeFunction('convertToInteractive',\n",
              "                                                     [key], {});\n",
              "          if (!dataTable) return;\n",
              "\n",
              "          const docLinkHtml = 'Like what you see? Visit the ' +\n",
              "            '<a target=\"_blank\" href=https://colab.research.google.com/notebooks/data_table.ipynb>data table notebook</a>'\n",
              "            + ' to learn more about interactive tables.';\n",
              "          element.innerHTML = '';\n",
              "          dataTable['output_type'] = 'display_data';\n",
              "          await google.colab.output.renderOutput(dataTable, element);\n",
              "          const docLink = document.createElement('div');\n",
              "          docLink.innerHTML = docLinkHtml;\n",
              "          element.appendChild(docLink);\n",
              "        }\n",
              "      </script>\n",
              "    </div>\n",
              "  </div>\n",
              "  "
            ]
          },
          "metadata": {},
          "execution_count": 12
        }
      ]
    },
    {
      "cell_type": "code",
      "source": [
        "data_raw.quantile(0.99)"
      ],
      "metadata": {
        "colab": {
          "base_uri": "https://localhost:8080/"
        },
        "id": "oVLS6E9y1gY-",
        "outputId": "9f12651d-c291-40f4-e69e-22bda5828836"
      },
      "execution_count": 13,
      "outputs": [
        {
          "output_type": "execute_result",
          "data": {
            "text/plain": [
              "Aboard        215.65\n",
              "Fatalities    158.45\n",
              "Ground         13.55\n",
              "Name: 0.99, dtype: float64"
            ]
          },
          "metadata": {},
          "execution_count": 13
        }
      ]
    },
    {
      "cell_type": "code",
      "source": [
        "data = data_raw.copy()"
      ],
      "metadata": {
        "id": "SDFCH0apcLdr"
      },
      "execution_count": 14,
      "outputs": []
    },
    {
      "cell_type": "code",
      "source": [
        "sns.boxplot(y = \"Fatalities\", data=data_raw)"
      ],
      "metadata": {
        "colab": {
          "base_uri": "https://localhost:8080/",
          "height": 269
        },
        "id": "o7KEum0P2vKe",
        "outputId": "cf1ceb27-d85d-4c5b-fd4b-0cc38770fb8f"
      },
      "execution_count": 15,
      "outputs": [
        {
          "output_type": "execute_result",
          "data": {
            "text/plain": [
              "<matplotlib.axes._subplots.AxesSubplot at 0x7fda2d21b040>"
            ]
          },
          "metadata": {},
          "execution_count": 15
        },
        {
          "output_type": "display_data",
          "data": {
            "text/plain": [
              "<Figure size 432x288 with 1 Axes>"
            ],
            "image/png": "[encoded data removed]"
          },
          "metadata": {
            "needs_background": "light"
          }
        }
      ]
    },
    {
      "cell_type": "code",
      "source": [
        "rows_to_drop = data[(data['Fatalities'] > data['Fatalities'].quantile(0.99))].index\n",
        "data = data.drop(rows_to_drop)\n",
        "\n",
        "sns.boxplot(y = \"Fatalities\", data=data)"
      ],
      "metadata": {
        "colab": {
          "base_uri": "https://localhost:8080/",
          "height": 269
        },
        "id": "xxomcfk43FCQ",
        "outputId": "76d47788-cdfa-4a80-e072-bacca242fd4d"
      },
      "execution_count": 16,
      "outputs": [
        {
          "output_type": "execute_result",
          "data": {
            "text/plain": [
              "<matplotlib.axes._subplots.AxesSubplot at 0x7fda2a461b50>"
            ]
          },
          "metadata": {},
          "execution_count": 16
        },
        {
          "output_type": "display_data",
          "data": {
            "text/plain": [
              "<Figure size 432x288 with 1 Axes>"
            ],
            "image/png": "[encoded data removed]"
          },
          "metadata": {
            "needs_background": "light"
          }
        }
      ]
    },
    {
      "cell_type": "code",
      "source": [
        "sns.boxplot(y = \"Aboard\", data=data)"
      ],
      "metadata": {
        "colab": {
          "base_uri": "https://localhost:8080/",
          "height": 269
        },
        "id": "8UYHvVld4R7S",
        "outputId": "c52bfbc7-4544-46cd-917e-2257ed2338ec"
      },
      "execution_count": 17,
      "outputs": [
        {
          "output_type": "execute_result",
          "data": {
            "text/plain": [
              "<matplotlib.axes._subplots.AxesSubplot at 0x7fda2a451e80>"
            ]
          },
          "metadata": {},
          "execution_count": 17
        },
        {
          "output_type": "display_data",
          "data": {
            "text/plain": [
              "<Figure size 432x288 with 1 Axes>"
            ],
            "image/png": "[encoded data removed]"
          },
          "metadata": {
            "needs_background": "light"
          }
        }
      ]
    },
    {
      "cell_type": "code",
      "source": [
        "rows_to_drop = data[(data['Aboard'] > data['Aboard'].quantile(0.99))].index\n",
        "data = data.drop(rows_to_drop)\n",
        "\n",
        "sns.boxplot(y = \"Aboard\", data=data)"
      ],
      "metadata": {
        "colab": {
          "base_uri": "https://localhost:8080/",
          "height": 269
        },
        "id": "8wuXU4u94Rxj",
        "outputId": "b9ee75ce-6378-4772-f0f9-8b87cc8a5dd8"
      },
      "execution_count": 18,
      "outputs": [
        {
          "output_type": "execute_result",
          "data": {
            "text/plain": [
              "<matplotlib.axes._subplots.AxesSubplot at 0x7fda2a3abd60>"
            ]
          },
          "metadata": {},
          "execution_count": 18
        },
        {
          "output_type": "display_data",
          "data": {
            "text/plain": [
              "<Figure size 432x288 with 1 Axes>"
            ],
            "image/png": "[encoded data removed]"
          },
          "metadata": {
            "needs_background": "light"
          }
        }
      ]
    },
    {
      "cell_type": "markdown",
      "source": [
        "# Графики"
      ],
      "metadata": {
        "id": "pxJoWLpl4eMt"
      }
    },
    {
      "cell_type": "code",
      "source": [
        "sns_plot = sns.displot(data[\"Aboard\"])"
      ],
      "metadata": {
        "colab": {
          "base_uri": "https://localhost:8080/",
          "height": 369
        },
        "id": "M_19lvje1gPz",
        "outputId": "90868af0-3e71-4640-d530-efd21ec259ef"
      },
      "execution_count": 19,
      "outputs": [
        {
          "output_type": "display_data",
          "data": {
            "text/plain": [
              "<Figure size 360x360 with 1 Axes>"
            ],
            "image/png": "[encoded data removed]"
          },
          "metadata": {
            "needs_background": "light"
          }
        }
      ]
    },
    {
      "cell_type": "code",
      "source": [
        "data.plot(x=\"Ground\", y=\"Fatalities\", kind=\"scatter\", alpha = 0.1)\n",
        "plt.show() "
      ],
      "metadata": {
        "colab": {
          "base_uri": "https://localhost:8080/",
          "height": 279
        },
        "id": "soCs3wa7fu1f",
        "outputId": "b534eb32-c109-437b-ec04-745d3810c5e9"
      },
      "execution_count": 20,
      "outputs": [
        {
          "output_type": "display_data",
          "data": {
            "text/plain": [
              "<Figure size 432x288 with 1 Axes>"
            ],
            "image/png": "[encoded data removed]"
          },
          "metadata": {
            "needs_background": "light"
          }
        }
      ]
    },
    {
      "cell_type": "code",
      "source": [
        "data.plot(x=\"Aboard\", y=\"Fatalities\", kind=\"scatter\", alpha = 0.1)\n",
        "plt.show() "
      ],
      "metadata": {
        "colab": {
          "base_uri": "https://localhost:8080/",
          "height": 279
        },
        "id": "w8tlTADCgo8U",
        "outputId": "96251f67-512a-48fa-9595-cae31f771a40"
      },
      "execution_count": 21,
      "outputs": [
        {
          "output_type": "display_data",
          "data": {
            "text/plain": [
              "<Figure size 432x288 with 1 Axes>"
            ],
            "image/png": "[encoded data removed]"
          },
          "metadata": {
            "needs_background": "light"
          }
        }
      ]
    },
    {
      "cell_type": "code",
      "source": [
        "data['Date']=pd.DatetimeIndex(data['Date'])\n",
        "df_date_index=data.set_index('Date')\n",
        "\n",
        "crashed_by_year=df_date_index.resample('1y').size().rolling(3).mean().fillna(0)\n",
        "crashed_by_year.plot(figsize=[12, 6], title='Crashes by Year', ylabel='Crashes', marker=\".\")"
      ],
      "metadata": {
        "colab": {
          "base_uri": "https://localhost:8080/",
          "height": 421
        },
        "id": "yn2MMBd4hIVv",
        "outputId": "219e862f-e2d6-461a-aefd-ec8929784845"
      },
      "execution_count": 22,
      "outputs": [
        {
          "output_type": "execute_result",
          "data": {
            "text/plain": [
              "<matplotlib.axes._subplots.AxesSubplot at 0x7fda2a0b1100>"
            ]
          },
          "metadata": {},
          "execution_count": 22
        },
        {
          "output_type": "display_data",
          "data": {
            "text/plain": [
              "<Figure size 864x432 with 1 Axes>"
            ],
            "image/png": "[encoded data removed]"
          },
          "metadata": {
            "needs_background": "light"
          }
        }
      ]
    },
    {
      "cell_type": "code",
      "source": [
        "data['Location Country']  = data['Location'].str.split(',').str[-1].str.strip().str.upper()\n",
        "\n",
        "data['Location Country'].value_counts().head(20).sort_values().plot( kind='barh',figsize=[12, 6], title='Crashes by Country' )\n",
        "\n",
        "data = data.drop(columns='Location Country')"
      ],
      "metadata": {
        "colab": {
          "base_uri": "https://localhost:8080/",
          "height": 390
        },
        "id": "i8hqGwBfD9eJ",
        "outputId": "dd7a6156-4b72-4766-ddf2-9f3b8f823789"
      },
      "execution_count": 23,
      "outputs": [
        {
          "output_type": "display_data",
          "data": {
            "text/plain": [
              "<Figure size 864x432 with 1 Axes>"
            ],
            "image/png": "[encoded data removed]"
          },
          "metadata": {
            "needs_background": "light"
          }
        }
      ]
    },
    {
      "cell_type": "markdown",
      "source": [
        "# Работа с датасетом"
      ],
      "metadata": {
        "id": "CBJpNKqNFzM_"
      }
    },
    {
      "cell_type": "code",
      "source": [
        "data.isnull().sum()"
      ],
      "metadata": {
        "id": "l214yc160uZ2",
        "outputId": "8fdec58b-bc84-4595-9f5a-b160a00be469",
        "colab": {
          "base_uri": "https://localhost:8080/"
        }
      },
      "execution_count": 24,
      "outputs": [
        {
          "output_type": "execute_result",
          "data": {
            "text/plain": [
              "Date               0\n",
              "Time            2211\n",
              "Location          20\n",
              "Operator          18\n",
              "Flight #        4180\n",
              "Route           1705\n",
              "Type              27\n",
              "Registration     334\n",
              "cn/In           1226\n",
              "Aboard            22\n",
              "Fatalities        12\n",
              "Ground            22\n",
              "Summary          389\n",
              "dtype: int64"
            ]
          },
          "metadata": {},
          "execution_count": 24
        }
      ]
    },
    {
      "cell_type": "markdown",
      "source": [
        "Видим, что колонка Flight содержит много пустых значений - избавимся от нее."
      ],
      "metadata": {
        "id": "9kAIA4h4IL26"
      }
    },
    {
      "cell_type": "code",
      "source": [
        "data = data.drop(columns='Flight #')"
      ],
      "metadata": {
        "id": "GCSFgK_D0udS"
      },
      "execution_count": 25,
      "outputs": []
    },
    {
      "cell_type": "markdown",
      "source": [
        "Избавимся также от колонок, не несущих большого смысла"
      ],
      "metadata": {
        "id": "n2qgaQw5Wz_v"
      }
    },
    {
      "cell_type": "code",
      "source": [
        "data = data.drop(columns='Summary')\n",
        "data = data.drop(columns='cn/In')"
      ],
      "metadata": {
        "id": "xFhEBjiHJEqP"
      },
      "execution_count": 26,
      "outputs": []
    },
    {
      "cell_type": "code",
      "source": [
        "data['Ground'].value_counts()"
      ],
      "metadata": {
        "id": "lDy1yZHT0uiS",
        "colab": {
          "base_uri": "https://localhost:8080/"
        },
        "outputId": "646a7ccb-4eab-431c-ce1d-7bd208f6b247"
      },
      "execution_count": 27,
      "outputs": [
        {
          "output_type": "execute_result",
          "data": {
            "text/plain": [
              "0.0       4931\n",
              "1.0         52\n",
              "2.0         25\n",
              "3.0         21\n",
              "4.0         13\n",
              "8.0         10\n",
              "5.0          9\n",
              "7.0          7\n",
              "6.0          6\n",
              "11.0         5\n",
              "22.0         5\n",
              "13.0         4\n",
              "24.0         3\n",
              "10.0         3\n",
              "44.0         3\n",
              "20.0         3\n",
              "14.0         2\n",
              "2750.0       2\n",
              "30.0         2\n",
              "19.0         2\n",
              "47.0         2\n",
              "52.0         2\n",
              "70.0         2\n",
              "15.0         1\n",
              "54.0         1\n",
              "18.0         1\n",
              "45.0         1\n",
              "16.0         1\n",
              "49.0         1\n",
              "50.0         1\n",
              "23.0         1\n",
              "225.0        1\n",
              "125.0        1\n",
              "75.0         1\n",
              "35.0         1\n",
              "32.0         1\n",
              "9.0          1\n",
              "40.0         1\n",
              "36.0         1\n",
              "12.0         1\n",
              "113.0        1\n",
              "107.0        1\n",
              "33.0         1\n",
              "87.0         1\n",
              "31.0         1\n",
              "63.0         1\n",
              "17.0         1\n",
              "37.0         1\n",
              "58.0         1\n",
              "85.0         1\n",
              "Name: Ground, dtype: int64"
            ]
          },
          "metadata": {},
          "execution_count": 27
        }
      ]
    },
    {
      "cell_type": "code",
      "source": [
        "data.loc[(data.Ground > 0), 'Ground'] = 1\n",
        "data['Ground'].value_counts()"
      ],
      "metadata": {
        "colab": {
          "base_uri": "https://localhost:8080/"
        },
        "id": "8kpkg8rJS6XZ",
        "outputId": "953039da-b64b-42cf-d23e-da344cbc8618"
      },
      "execution_count": 28,
      "outputs": [
        {
          "output_type": "execute_result",
          "data": {
            "text/plain": [
              "0.0    4931\n",
              "1.0     210\n",
              "Name: Ground, dtype: int64"
            ]
          },
          "metadata": {},
          "execution_count": 28
        }
      ]
    },
    {
      "cell_type": "markdown",
      "source": [
        "Будем считать, что если число погибших на земле больше 0 (то есть, погибшие есть), то значение равно 1. Если погибших нет, значение равно 0."
      ],
      "metadata": {
        "id": "UxOfiCDSTU3p"
      }
    },
    {
      "cell_type": "markdown",
      "source": [
        "Отделим категориальные и численные признаки"
      ],
      "metadata": {
        "id": "fm34qBhUdrYd"
      }
    },
    {
      "cell_type": "code",
      "source": [
        "categorical_columns = [c for c in data.columns if data[c].dtype.name == 'object']\n",
        "numerical_columns   = [c for c in data.columns if data[c].dtype.name != 'object']\n",
        "print(categorical_columns)\n",
        "print(numerical_columns)"
      ],
      "metadata": {
        "colab": {
          "base_uri": "https://localhost:8080/"
        },
        "id": "DeqBSXfHT80o",
        "outputId": "f3b14d3c-d57a-4668-d027-6c2defaadefd"
      },
      "execution_count": 29,
      "outputs": [
        {
          "output_type": "stream",
          "name": "stdout",
          "text": [
            "['Time', 'Location', 'Operator', 'Route', 'Type', 'Registration']\n",
            "['Date', 'Aboard', 'Fatalities', 'Ground']\n"
          ]
        }
      ]
    },
    {
      "cell_type": "code",
      "source": [
        "data.median(axis = 0)"
      ],
      "metadata": {
        "id": "iFn_EUDqT8v6",
        "colab": {
          "base_uri": "https://localhost:8080/"
        },
        "outputId": "02a6dafa-7909-4be5-e49e-94cd82e1e072"
      },
      "execution_count": 30,
      "outputs": [
        {
          "output_type": "stream",
          "name": "stderr",
          "text": [
            "<ipython-input-30-6aeb7e95d864>:1: FutureWarning: DataFrame.mean and DataFrame.median with numeric_only=None will include datetime64 and datetime64tz columns in a future version.\n",
            "  data.median(axis = 0)\n",
            "<ipython-input-30-6aeb7e95d864>:1: FutureWarning: Dropping of nuisance columns in DataFrame reductions (with 'numeric_only=None') is deprecated; in a future version this will raise TypeError.  Select only valid columns before calling the reduction.\n",
            "  data.median(axis = 0)\n"
          ]
        },
        {
          "output_type": "execute_result",
          "data": {
            "text/plain": [
              "Aboard        13.0\n",
              "Fatalities     9.0\n",
              "Ground         0.0\n",
              "dtype: float64"
            ]
          },
          "metadata": {},
          "execution_count": 30
        }
      ]
    },
    {
      "cell_type": "markdown",
      "source": [
        "Заполним пропущенные значения числовых признаков медианными значениями"
      ],
      "metadata": {
        "id": "0beG9f6rWi3Y"
      }
    },
    {
      "cell_type": "code",
      "source": [
        "data = data.fillna(data.median(axis = 0), axis = 0)"
      ],
      "metadata": {
        "colab": {
          "base_uri": "https://localhost:8080/"
        },
        "id": "SccYe5AvUjmY",
        "outputId": "72b1ccae-528c-488c-fa83-2c9826d3e092"
      },
      "execution_count": 31,
      "outputs": [
        {
          "output_type": "stream",
          "name": "stderr",
          "text": [
            "<ipython-input-31-63d340763a3f>:1: FutureWarning: DataFrame.mean and DataFrame.median with numeric_only=None will include datetime64 and datetime64tz columns in a future version.\n",
            "  data = data.fillna(data.median(axis = 0), axis = 0)\n",
            "<ipython-input-31-63d340763a3f>:1: FutureWarning: Dropping of nuisance columns in DataFrame reductions (with 'numeric_only=None') is deprecated; in a future version this will raise TypeError.  Select only valid columns before calling the reduction.\n",
            "  data = data.fillna(data.median(axis = 0), axis = 0)\n"
          ]
        }
      ]
    },
    {
      "cell_type": "code",
      "source": [
        "data[numerical_columns].count(axis = 0)"
      ],
      "metadata": {
        "colab": {
          "base_uri": "https://localhost:8080/"
        },
        "id": "GJlSTtjNUjo0",
        "outputId": "ba615d1c-2d05-4a31-beac-097eaf4f84ca"
      },
      "execution_count": 32,
      "outputs": [
        {
          "output_type": "execute_result",
          "data": {
            "text/plain": [
              "Date          5163\n",
              "Aboard        5163\n",
              "Fatalities    5163\n",
              "Ground        5163\n",
              "dtype: int64"
            ]
          },
          "metadata": {},
          "execution_count": 32
        }
      ]
    },
    {
      "cell_type": "code",
      "source": [
        "data[categorical_columns].count(axis = 0)"
      ],
      "metadata": {
        "colab": {
          "base_uri": "https://localhost:8080/"
        },
        "id": "An2YN6KjUjsz",
        "outputId": "738f43d7-1d33-46d2-c808-8a451bcb8b4a"
      },
      "execution_count": 33,
      "outputs": [
        {
          "output_type": "execute_result",
          "data": {
            "text/plain": [
              "Time            2952\n",
              "Location        5143\n",
              "Operator        5145\n",
              "Route           3458\n",
              "Type            5136\n",
              "Registration    4829\n",
              "dtype: int64"
            ]
          },
          "metadata": {},
          "execution_count": 33
        }
      ]
    },
    {
      "cell_type": "code",
      "source": [
        "data.describe(include = [object])"
      ],
      "metadata": {
        "colab": {
          "base_uri": "https://localhost:8080/",
          "height": 175
        },
        "id": "9epLBQ0lUjuW",
        "outputId": "36339458-ac50-4c46-b438-dd28dfe2022a"
      },
      "execution_count": 34,
      "outputs": [
        {
          "output_type": "execute_result",
          "data": {
            "text/plain": [
              "         Time        Location                   Operator     Route  \\\n",
              "count    2952            5143                       5145      3458   \n",
              "unique    989            4237                       2454      3155   \n",
              "top     15:00  Moscow, Russia  Military - U.S. Air Force  Training   \n",
              "freq       32              15                        175        81   \n",
              "\n",
              "                Type Registration  \n",
              "count           5136         4829  \n",
              "unique          2389         4801  \n",
              "top     Douglas DC-3           49  \n",
              "freq             334            3  "
            ],
            "text/html": [
              "\n",
              "  <div id=\"df-02e85c8d-eaa3-4f8f-bcb3-af19a0663bba\">\n",
              "    <div class=\"colab-df-container\">\n",
              "      <div>\n",
              "<style scoped>\n",
              "    .dataframe tbody tr th:only-of-type {\n",
              "        vertical-align: middle;\n",
              "    }\n",
              "\n",
              "    .dataframe tbody tr th {\n",
              "        vertical-align: top;\n",
              "    }\n",
              "\n",
              "    .dataframe thead th {\n",
              "        text-align: right;\n",
              "    }\n",
              "</style>\n",
              "<table border=\"1\" class=\"dataframe\">\n",
              "  <thead>\n",
              "    <tr style=\"text-align: right;\">\n",
              "      <th></th>\n",
              "      <th>Time</th>\n",
              "      <th>Location</th>\n",
              "      <th>Operator</th>\n",
              "      <th>Route</th>\n",
              "      <th>Type</th>\n",
              "      <th>Registration</th>\n",
              "    </tr>\n",
              "  </thead>\n",
              "  <tbody>\n",
              "    <tr>\n",
              "      <th>count</th>\n",
              "      <td>2952</td>\n",
              "      <td>5143</td>\n",
              "      <td>5145</td>\n",
              "      <td>3458</td>\n",
              "      <td>5136</td>\n",
              "      <td>4829</td>\n",
              "    </tr>\n",
              "    <tr>\n",
              "      <th>unique</th>\n",
              "      <td>989</td>\n",
              "      <td>4237</td>\n",
              "      <td>2454</td>\n",
              "      <td>3155</td>\n",
              "      <td>2389</td>\n",
              "      <td>4801</td>\n",
              "    </tr>\n",
              "    <tr>\n",
              "      <th>top</th>\n",
              "      <td>15:00</td>\n",
              "      <td>Moscow, Russia</td>\n",
              "      <td>Military - U.S. Air Force</td>\n",
              "      <td>Training</td>\n",
              "      <td>Douglas DC-3</td>\n",
              "      <td>49</td>\n",
              "    </tr>\n",
              "    <tr>\n",
              "      <th>freq</th>\n",
              "      <td>32</td>\n",
              "      <td>15</td>\n",
              "      <td>175</td>\n",
              "      <td>81</td>\n",
              "      <td>334</td>\n",
              "      <td>3</td>\n",
              "    </tr>\n",
              "  </tbody>\n",
              "</table>\n",
              "</div>\n",
              "      <button class=\"colab-df-convert\" onclick=\"convertToInteractive('df-02e85c8d-eaa3-4f8f-bcb3-af19a0663bba')\"\n",
              "              title=\"Convert this dataframe to an interactive table.\"\n",
              "              style=\"display:none;\">\n",
              "        \n",
              "  <svg xmlns=\"http://www.w3.org/2000/svg\" height=\"24px\"viewBox=\"0 0 24 24\"\n",
              "       width=\"24px\">\n",
              "    <path d=\"M0 0h24v24H0V0z\" fill=\"none\"/>\n",
              "    <path d=\"M18.56 5.44l.94 2.06.94-2.06 2.06-.94-2.06-.94-.94-2.06-.94 2.06-2.06.94zm-11 1L8.5 8.5l.94-2.06 2.06-.94-2.06-.94L8.5 2.5l-.94 2.06-2.06.94zm10 10l.94 2.06.94-2.06 2.06-.94-2.06-.94-.94-2.06-.94 2.06-2.06.94z\"/><path d=\"M17.41 7.96l-1.37-1.37c-.4-.4-.92-.59-1.43-.59-.52 0-1.04.2-1.43.59L10.3 9.45l-7.72 7.72c-.78.78-.78 2.05 0 2.83L4 21.41c.39.39.9.59 1.41.59.51 0 1.02-.2 1.41-.59l7.78-7.78 2.81-2.81c.8-.78.8-2.07 0-2.86zM5.41 20L4 18.59l7.72-7.72 1.47 1.35L5.41 20z\"/>\n",
              "  </svg>\n",
              "      </button>\n",
              "      \n",
              "  <style>\n",
              "    .colab-df-container {\n",
              "      display:flex;\n",
              "      flex-wrap:wrap;\n",
              "      gap: 12px;\n",
              "    }\n",
              "\n",
              "    .colab-df-convert {\n",
              "      background-color: #E8F0FE;\n",
              "      border: none;\n",
              "      border-radius: 50%;\n",
              "      cursor: pointer;\n",
              "      display: none;\n",
              "      fill: #1967D2;\n",
              "      height: 32px;\n",
              "      padding: 0 0 0 0;\n",
              "      width: 32px;\n",
              "    }\n",
              "\n",
              "    .colab-df-convert:hover {\n",
              "      background-color: #E2EBFA;\n",
              "      box-shadow: 0px 1px 2px rgba(60, 64, 67, 0.3), 0px 1px 3px 1px rgba(60, 64, 67, 0.15);\n",
              "      fill: #174EA6;\n",
              "    }\n",
              "\n",
              "    [theme=dark] .colab-df-convert {\n",
              "      background-color: #3B4455;\n",
              "      fill: #D2E3FC;\n",
              "    }\n",
              "\n",
              "    [theme=dark] .colab-df-convert:hover {\n",
              "      background-color: #434B5C;\n",
              "      box-shadow: 0px 1px 3px 1px rgba(0, 0, 0, 0.15);\n",
              "      filter: drop-shadow(0px 1px 2px rgba(0, 0, 0, 0.3));\n",
              "      fill: #FFFFFF;\n",
              "    }\n",
              "  </style>\n",
              "\n",
              "      <script>\n",
              "        const buttonEl =\n",
              "          document.querySelector('#df-02e85c8d-eaa3-4f8f-bcb3-af19a0663bba button.colab-df-convert');\n",
              "        buttonEl.style.display =\n",
              "          google.colab.kernel.accessAllowed ? 'block' : 'none';\n",
              "\n",
              "        async function convertToInteractive(key) {\n",
              "          const element = document.querySelector('#df-02e85c8d-eaa3-4f8f-bcb3-af19a0663bba');\n",
              "          const dataTable =\n",
              "            await google.colab.kernel.invokeFunction('convertToInteractive',\n",
              "                                                     [key], {});\n",
              "          if (!dataTable) return;\n",
              "\n",
              "          const docLinkHtml = 'Like what you see? Visit the ' +\n",
              "            '<a target=\"_blank\" href=https://colab.research.google.com/notebooks/data_table.ipynb>data table notebook</a>'\n",
              "            + ' to learn more about interactive tables.';\n",
              "          element.innerHTML = '';\n",
              "          dataTable['output_type'] = 'display_data';\n",
              "          await google.colab.output.renderOutput(dataTable, element);\n",
              "          const docLink = document.createElement('div');\n",
              "          docLink.innerHTML = docLinkHtml;\n",
              "          element.appendChild(docLink);\n",
              "        }\n",
              "      </script>\n",
              "    </div>\n",
              "  </div>\n",
              "  "
            ]
          },
          "metadata": {},
          "execution_count": 34
        }
      ]
    },
    {
      "cell_type": "code",
      "source": [
        "data.isnull().sum()"
      ],
      "metadata": {
        "colab": {
          "base_uri": "https://localhost:8080/"
        },
        "id": "JxcOvw14UjxZ",
        "outputId": "0e4d5021-dca2-4e86-fd05-fef925d25106"
      },
      "execution_count": 35,
      "outputs": [
        {
          "output_type": "execute_result",
          "data": {
            "text/plain": [
              "Date               0\n",
              "Time            2211\n",
              "Location          20\n",
              "Operator          18\n",
              "Route           1705\n",
              "Type              27\n",
              "Registration     334\n",
              "Aboard             0\n",
              "Fatalities         0\n",
              "Ground             0\n",
              "dtype: int64"
            ]
          },
          "metadata": {},
          "execution_count": 35
        }
      ]
    },
    {
      "cell_type": "markdown",
      "source": [
        "Заменим пропущенные значения категориальных признаков на значения моды"
      ],
      "metadata": {
        "id": "GiiYQVFaX9nL"
      }
    },
    {
      "cell_type": "code",
      "source": [
        "data[\"Location\"] = data[\"Location\"].fillna(data[\"Location\"].mode()[0], axis=0)\n",
        "data[\"Time\"] = data[\"Time\"].fillna(data[\"Time\"].mode()[0], axis=0)\n",
        "data[\"Operator\"] = data[\"Operator\"].fillna(data[\"Operator\"].mode()[0], axis=0)\n",
        "data[\"Route\"] = data[\"Route\"].fillna(data[\"Route\"].mode()[0], axis=0)\n",
        "data[\"Type\"] = data[\"Type\"].fillna(data[\"Type\"].mode()[0], axis=0) "
      ],
      "metadata": {
        "id": "maQhQvmFT8so"
      },
      "execution_count": 36,
      "outputs": []
    },
    {
      "cell_type": "code",
      "source": [
        "data[categorical_columns].count(axis = 0)"
      ],
      "metadata": {
        "colab": {
          "base_uri": "https://localhost:8080/"
        },
        "id": "x944L47RXfyJ",
        "outputId": "9cd8761f-33b8-4fc5-8673-5037bef7e302"
      },
      "execution_count": 37,
      "outputs": [
        {
          "output_type": "execute_result",
          "data": {
            "text/plain": [
              "Time            5163\n",
              "Location        5163\n",
              "Operator        5163\n",
              "Route           5163\n",
              "Type            5163\n",
              "Registration    4829\n",
              "dtype: int64"
            ]
          },
          "metadata": {},
          "execution_count": 37
        }
      ]
    },
    {
      "cell_type": "code",
      "source": [
        "data[numerical_columns].count(axis = 0)"
      ],
      "metadata": {
        "colab": {
          "base_uri": "https://localhost:8080/"
        },
        "id": "aMTskEZHXf0y",
        "outputId": "799b6d51-5926-4757-bf40-24faf8029910"
      },
      "execution_count": 38,
      "outputs": [
        {
          "output_type": "execute_result",
          "data": {
            "text/plain": [
              "Date          5163\n",
              "Aboard        5163\n",
              "Fatalities    5163\n",
              "Ground        5163\n",
              "dtype: int64"
            ]
          },
          "metadata": {},
          "execution_count": 38
        }
      ]
    },
    {
      "cell_type": "markdown",
      "source": [
        "# Векторизация"
      ],
      "metadata": {
        "id": "Xb60h-CuGxOZ"
      }
    },
    {
      "cell_type": "code",
      "source": [
        "text_columns = categorical_columns.copy()\n",
        "print(text_columns)"
      ],
      "metadata": {
        "colab": {
          "base_uri": "https://localhost:8080/"
        },
        "id": "h9z2GL1pGzNy",
        "outputId": "36c50a26-76d9-4780-e2ea-de8131d6b590"
      },
      "execution_count": 39,
      "outputs": [
        {
          "output_type": "stream",
          "name": "stdout",
          "text": [
            "['Time', 'Location', 'Operator', 'Route', 'Type', 'Registration']\n"
          ]
        }
      ]
    },
    {
      "cell_type": "markdown",
      "source": [
        "Сделаем колонки Time и Date числовыми"
      ],
      "metadata": {
        "id": "79CCjQMgYKrB"
      }
    },
    {
      "cell_type": "code",
      "source": [
        "for i in range(len(data['Time'])) :\n",
        "  if data['Time'].iloc[i][0] == 'c':\n",
        "    data['Time'].iloc[i] = data['Time'].iloc[i][2:]\n",
        "  try:\n",
        "    data['Time'].iloc[i] = float(data['Time'].iloc[i].replace(\":\",\"\"))\n",
        "  except:\n",
        "    data['Time'].iloc[i] = float(data['Time'].iloc[i].replace(\"'\",\"\"))\n",
        "\n",
        "data['Time'] = data['Time'].astype('float64')\n",
        "data['Date'] = data['Date'].astype('int64')\n",
        "\n",
        "data['Time'].describe()"
      ],
      "metadata": {
        "colab": {
          "base_uri": "https://localhost:8080/"
        },
        "id": "_--3Vrc1HiZL",
        "outputId": "32dd8f01-469b-4560-d147-917d4d60e114"
      },
      "execution_count": 40,
      "outputs": [
        {
          "output_type": "stream",
          "name": "stderr",
          "text": [
            "/usr/local/lib/python3.8/dist-packages/pandas/core/indexing.py:1732: SettingWithCopyWarning: \n",
            "A value is trying to be set on a copy of a slice from a DataFrame\n",
            "\n",
            "See the caveats in the documentation: https://pandas.pydata.org/pandas-docs/stable/user_guide/indexing.html#returning-a-view-versus-a-copy\n",
            "  self._setitem_single_block(indexer, value, name)\n",
            "<ipython-input-40-60d4d7fefb37>:10: FutureWarning: casting datetime64[ns] values to int64 with .astype(...) is deprecated and will raise in a future version. Use .view(...) instead.\n",
            "  data['Date'] = data['Date'].astype('int64')\n"
          ]
        },
        {
          "output_type": "execute_result",
          "data": {
            "text/plain": [
              "count     5163.000000\n",
              "mean      1391.353360\n",
              "std        486.235892\n",
              "min          0.000000\n",
              "25%       1212.000000\n",
              "50%       1500.000000\n",
              "75%       1500.000000\n",
              "max      11420.000000\n",
              "Name: Time, dtype: float64"
            ]
          },
          "metadata": {},
          "execution_count": 40
        }
      ]
    },
    {
      "cell_type": "markdown",
      "source": [
        "Избавимся от выбросов"
      ],
      "metadata": {
        "id": "x8NmkrXqYT9N"
      }
    },
    {
      "cell_type": "code",
      "source": [
        "rows_to_drop = data[(data['Time'] > data['Time'].quantile(0.99))].index\n",
        "data = data.drop(rows_to_drop)\n",
        "\n",
        "sns.boxplot(y = \"Time\", data=data)"
      ],
      "metadata": {
        "colab": {
          "base_uri": "https://localhost:8080/",
          "height": 269
        },
        "id": "5jvcC2M4FMOh",
        "outputId": "d77d3561-35d1-4772-a723-0cd955d8c0a1"
      },
      "execution_count": 41,
      "outputs": [
        {
          "output_type": "execute_result",
          "data": {
            "text/plain": [
              "<matplotlib.axes._subplots.AxesSubplot at 0x7fda29b7a6a0>"
            ]
          },
          "metadata": {},
          "execution_count": 41
        },
        {
          "output_type": "display_data",
          "data": {
            "text/plain": [
              "<Figure size 432x288 with 1 Axes>"
            ],
            "image/png": "[encoded data removed]"
          },
          "metadata": {
            "needs_background": "light"
          }
        }
      ]
    },
    {
      "cell_type": "markdown",
      "source": [
        "Приведем текстовые признаки к числовым"
      ],
      "metadata": {
        "id": "gQtDUYeWYZHA"
      }
    },
    {
      "cell_type": "code",
      "source": [
        "from sklearn.preprocessing import LabelEncoder\n",
        "labelencoder = LabelEncoder()\n",
        "\n",
        "data_new = labelencoder.fit_transform(data['Location'].values)\n",
        "data_new[:10]\n",
        "data['Location'] = data_new.copy()\n",
        "\n",
        "data_new = labelencoder.fit_transform(data['Operator'].values)\n",
        "data_new[:10]\n",
        "data['Operator'] = data_new.copy()\n",
        "\n",
        "data_new = labelencoder.fit_transform(data['Route'].values)\n",
        "data_new[:10]\n",
        "data['Route'] = data_new.copy()\n",
        "\n",
        "data_new = labelencoder.fit_transform(data['Type'].values)\n",
        "data_new[:10]\n",
        "data['Type'] = data_new.copy()\n",
        "\n",
        "data_new = labelencoder.fit_transform(data['Registration'].values)\n",
        "data_new[:10]\n",
        "data['Registration'] = data_new.copy()\n",
        "\n",
        "data"
      ],
      "metadata": {
        "colab": {
          "base_uri": "https://localhost:8080/",
          "height": 424
        },
        "id": "zxB7IU2lIKTG",
        "outputId": "769b479b-0b4e-4871-ced0-60c57ff5c1e7"
      },
      "execution_count": 42,
      "outputs": [
        {
          "output_type": "execute_result",
          "data": {
            "text/plain": [
              "                     Date    Time  Location  Operator  Route  Type  \\\n",
              "0    -1934150400000000000  1718.0       825      1544    806  2262   \n",
              "1    -1813708800000000000   630.0       115      1555   2865  1013   \n",
              "2    -1780012800000000000  1500.0      4073      1795   2913   975   \n",
              "3    -1777075200000000000  1830.0      3295      1444   2913  2276   \n",
              "4    -1773792000000000000  1030.0      2235      1444   2913  2278   \n",
              "...                   ...     ...       ...       ...    ...   ...   \n",
              "5262  1241308800000000000  1200.0      2096      1570   2218  1841   \n",
              "5263  1242777600000000000   630.0      2375      1455   1252  1679   \n",
              "5264  1243296000000000000  1500.0      2214      1968   1032   138   \n",
              "5266  1244332800000000000   830.0      2584      2086   1608   667   \n",
              "5267  1244419200000000000  1500.0      3829      1453   1742   142   \n",
              "\n",
              "      Registration  Aboard  Fatalities  Ground  \n",
              "0             4759     2.0         1.0     0.0  \n",
              "1             4759     5.0         5.0     0.0  \n",
              "2             4759     1.0         1.0     0.0  \n",
              "3             4759    20.0        14.0     0.0  \n",
              "4             4759    30.0        30.0     0.0  \n",
              "...            ...     ...         ...     ...  \n",
              "5262          1362    18.0        18.0     0.0  \n",
              "5263           604   112.0        98.0     1.0  \n",
              "5264           581     4.0         4.0     0.0  \n",
              "5266           758     1.0         1.0     0.0  \n",
              "5267          4759    13.0        13.0     0.0  \n",
              "\n",
              "[5117 rows x 10 columns]"
            ],
            "text/html": [
              "\n",
              "  <div id=\"df-fd9a3551-518b-421d-bc93-3f75b3e63f41\">\n",
              "    <div class=\"colab-df-container\">\n",
              "      <div>\n",
              "<style scoped>\n",
              "    .dataframe tbody tr th:only-of-type {\n",
              "        vertical-align: middle;\n",
              "    }\n",
              "\n",
              "    .dataframe tbody tr th {\n",
              "        vertical-align: top;\n",
              "    }\n",
              "\n",
              "    .dataframe thead th {\n",
              "        text-align: right;\n",
              "    }\n",
              "</style>\n",
              "<table border=\"1\" class=\"dataframe\">\n",
              "  <thead>\n",
              "    <tr style=\"text-align: right;\">\n",
              "      <th></th>\n",
              "      <th>Date</th>\n",
              "      <th>Time</th>\n",
              "      <th>Location</th>\n",
              "      <th>Operator</th>\n",
              "      <th>Route</th>\n",
              "      <th>Type</th>\n",
              "      <th>Registration</th>\n",
              "      <th>Aboard</th>\n",
              "      <th>Fatalities</th>\n",
              "      <th>Ground</th>\n",
              "    </tr>\n",
              "  </thead>\n",
              "  <tbody>\n",
              "    <tr>\n",
              "      <th>0</th>\n",
              "      <td>-1934150400000000000</td>\n",
              "      <td>1718.0</td>\n",
              "      <td>825</td>\n",
              "      <td>1544</td>\n",
              "      <td>806</td>\n",
              "      <td>2262</td>\n",
              "      <td>4759</td>\n",
              "      <td>2.0</td>\n",
              "      <td>1.0</td>\n",
              "      <td>0.0</td>\n",
              "    </tr>\n",
              "    <tr>\n",
              "      <th>1</th>\n",
              "      <td>-1813708800000000000</td>\n",
              "      <td>630.0</td>\n",
              "      <td>115</td>\n",
              "      <td>1555</td>\n",
              "      <td>2865</td>\n",
              "      <td>1013</td>\n",
              "      <td>4759</td>\n",
              "      <td>5.0</td>\n",
              "      <td>5.0</td>\n",
              "      <td>0.0</td>\n",
              "    </tr>\n",
              "    <tr>\n",
              "      <th>2</th>\n",
              "      <td>-1780012800000000000</td>\n",
              "      <td>1500.0</td>\n",
              "      <td>4073</td>\n",
              "      <td>1795</td>\n",
              "      <td>2913</td>\n",
              "      <td>975</td>\n",
              "      <td>4759</td>\n",
              "      <td>1.0</td>\n",
              "      <td>1.0</td>\n",
              "      <td>0.0</td>\n",
              "    </tr>\n",
              "    <tr>\n",
              "      <th>3</th>\n",
              "      <td>-1777075200000000000</td>\n",
              "      <td>1830.0</td>\n",
              "      <td>3295</td>\n",
              "      <td>1444</td>\n",
              "      <td>2913</td>\n",
              "      <td>2276</td>\n",
              "      <td>4759</td>\n",
              "      <td>20.0</td>\n",
              "      <td>14.0</td>\n",
              "      <td>0.0</td>\n",
              "    </tr>\n",
              "    <tr>\n",
              "      <th>4</th>\n",
              "      <td>-1773792000000000000</td>\n",
              "      <td>1030.0</td>\n",
              "      <td>2235</td>\n",
              "      <td>1444</td>\n",
              "      <td>2913</td>\n",
              "      <td>2278</td>\n",
              "      <td>4759</td>\n",
              "      <td>30.0</td>\n",
              "      <td>30.0</td>\n",
              "      <td>0.0</td>\n",
              "    </tr>\n",
              "    <tr>\n",
              "      <th>...</th>\n",
              "      <td>...</td>\n",
              "      <td>...</td>\n",
              "      <td>...</td>\n",
              "      <td>...</td>\n",
              "      <td>...</td>\n",
              "      <td>...</td>\n",
              "      <td>...</td>\n",
              "      <td>...</td>\n",
              "      <td>...</td>\n",
              "      <td>...</td>\n",
              "    </tr>\n",
              "    <tr>\n",
              "      <th>5262</th>\n",
              "      <td>1241308800000000000</td>\n",
              "      <td>1200.0</td>\n",
              "      <td>2096</td>\n",
              "      <td>1570</td>\n",
              "      <td>2218</td>\n",
              "      <td>1841</td>\n",
              "      <td>1362</td>\n",
              "      <td>18.0</td>\n",
              "      <td>18.0</td>\n",
              "      <td>0.0</td>\n",
              "    </tr>\n",
              "    <tr>\n",
              "      <th>5263</th>\n",
              "      <td>1242777600000000000</td>\n",
              "      <td>630.0</td>\n",
              "      <td>2375</td>\n",
              "      <td>1455</td>\n",
              "      <td>1252</td>\n",
              "      <td>1679</td>\n",
              "      <td>604</td>\n",
              "      <td>112.0</td>\n",
              "      <td>98.0</td>\n",
              "      <td>1.0</td>\n",
              "    </tr>\n",
              "    <tr>\n",
              "      <th>5264</th>\n",
              "      <td>1243296000000000000</td>\n",
              "      <td>1500.0</td>\n",
              "      <td>2214</td>\n",
              "      <td>1968</td>\n",
              "      <td>1032</td>\n",
              "      <td>138</td>\n",
              "      <td>581</td>\n",
              "      <td>4.0</td>\n",
              "      <td>4.0</td>\n",
              "      <td>0.0</td>\n",
              "    </tr>\n",
              "    <tr>\n",
              "      <th>5266</th>\n",
              "      <td>1244332800000000000</td>\n",
              "      <td>830.0</td>\n",
              "      <td>2584</td>\n",
              "      <td>2086</td>\n",
              "      <td>1608</td>\n",
              "      <td>667</td>\n",
              "      <td>758</td>\n",
              "      <td>1.0</td>\n",
              "      <td>1.0</td>\n",
              "      <td>0.0</td>\n",
              "    </tr>\n",
              "    <tr>\n",
              "      <th>5267</th>\n",
              "      <td>1244419200000000000</td>\n",
              "      <td>1500.0</td>\n",
              "      <td>3829</td>\n",
              "      <td>1453</td>\n",
              "      <td>1742</td>\n",
              "      <td>142</td>\n",
              "      <td>4759</td>\n",
              "      <td>13.0</td>\n",
              "      <td>13.0</td>\n",
              "      <td>0.0</td>\n",
              "    </tr>\n",
              "  </tbody>\n",
              "</table>\n",
              "<p>5117 rows × 10 columns</p>\n",
              "</div>\n",
              "      <button class=\"colab-df-convert\" onclick=\"convertToInteractive('df-fd9a3551-518b-421d-bc93-3f75b3e63f41')\"\n",
              "              title=\"Convert this dataframe to an interactive table.\"\n",
              "              style=\"display:none;\">\n",
              "        \n",
              "  <svg xmlns=\"http://www.w3.org/2000/svg\" height=\"24px\"viewBox=\"0 0 24 24\"\n",
              "       width=\"24px\">\n",
              "    <path d=\"M0 0h24v24H0V0z\" fill=\"none\"/>\n",
              "    <path d=\"M18.56 5.44l.94 2.06.94-2.06 2.06-.94-2.06-.94-.94-2.06-.94 2.06-2.06.94zm-11 1L8.5 8.5l.94-2.06 2.06-.94-2.06-.94L8.5 2.5l-.94 2.06-2.06.94zm10 10l.94 2.06.94-2.06 2.06-.94-2.06-.94-.94-2.06-.94 2.06-2.06.94z\"/><path d=\"M17.41 7.96l-1.37-1.37c-.4-.4-.92-.59-1.43-.59-.52 0-1.04.2-1.43.59L10.3 9.45l-7.72 7.72c-.78.78-.78 2.05 0 2.83L4 21.41c.39.39.9.59 1.41.59.51 0 1.02-.2 1.41-.59l7.78-7.78 2.81-2.81c.8-.78.8-2.07 0-2.86zM5.41 20L4 18.59l7.72-7.72 1.47 1.35L5.41 20z\"/>\n",
              "  </svg>\n",
              "      </button>\n",
              "      \n",
              "  <style>\n",
              "    .colab-df-container {\n",
              "      display:flex;\n",
              "      flex-wrap:wrap;\n",
              "      gap: 12px;\n",
              "    }\n",
              "\n",
              "    .colab-df-convert {\n",
              "      background-color: #E8F0FE;\n",
              "      border: none;\n",
              "      border-radius: 50%;\n",
              "      cursor: pointer;\n",
              "      display: none;\n",
              "      fill: #1967D2;\n",
              "      height: 32px;\n",
              "      padding: 0 0 0 0;\n",
              "      width: 32px;\n",
              "    }\n",
              "\n",
              "    .colab-df-convert:hover {\n",
              "      background-color: #E2EBFA;\n",
              "      box-shadow: 0px 1px 2px rgba(60, 64, 67, 0.3), 0px 1px 3px 1px rgba(60, 64, 67, 0.15);\n",
              "      fill: #174EA6;\n",
              "    }\n",
              "\n",
              "    [theme=dark] .colab-df-convert {\n",
              "      background-color: #3B4455;\n",
              "      fill: #D2E3FC;\n",
              "    }\n",
              "\n",
              "    [theme=dark] .colab-df-convert:hover {\n",
              "      background-color: #434B5C;\n",
              "      box-shadow: 0px 1px 3px 1px rgba(0, 0, 0, 0.15);\n",
              "      filter: drop-shadow(0px 1px 2px rgba(0, 0, 0, 0.3));\n",
              "      fill: #FFFFFF;\n",
              "    }\n",
              "  </style>\n",
              "\n",
              "      <script>\n",
              "        const buttonEl =\n",
              "          document.querySelector('#df-fd9a3551-518b-421d-bc93-3f75b3e63f41 button.colab-df-convert');\n",
              "        buttonEl.style.display =\n",
              "          google.colab.kernel.accessAllowed ? 'block' : 'none';\n",
              "\n",
              "        async function convertToInteractive(key) {\n",
              "          const element = document.querySelector('#df-fd9a3551-518b-421d-bc93-3f75b3e63f41');\n",
              "          const dataTable =\n",
              "            await google.colab.kernel.invokeFunction('convertToInteractive',\n",
              "                                                     [key], {});\n",
              "          if (!dataTable) return;\n",
              "\n",
              "          const docLinkHtml = 'Like what you see? Visit the ' +\n",
              "            '<a target=\"_blank\" href=https://colab.research.google.com/notebooks/data_table.ipynb>data table notebook</a>'\n",
              "            + ' to learn more about interactive tables.';\n",
              "          element.innerHTML = '';\n",
              "          dataTable['output_type'] = 'display_data';\n",
              "          await google.colab.output.renderOutput(dataTable, element);\n",
              "          const docLink = document.createElement('div');\n",
              "          docLink.innerHTML = docLinkHtml;\n",
              "          element.appendChild(docLink);\n",
              "        }\n",
              "      </script>\n",
              "    </div>\n",
              "  </div>\n",
              "  "
            ]
          },
          "metadata": {},
          "execution_count": 42
        }
      ]
    },
    {
      "cell_type": "markdown",
      "source": [
        "# Нормировка"
      ],
      "metadata": {
        "id": "QJf0KCn8IuBp"
      }
    },
    {
      "cell_type": "markdown",
      "source": [
        "Стандартизация"
      ],
      "metadata": {
        "id": "gipmCYHNMi7q"
      }
    },
    {
      "cell_type": "code",
      "source": [
        "columns_for_stand = [\"Date\", \"Time\", \"Aboard\", \"Fatalities\"]\n",
        "data[columns_for_stand] = (data[columns_for_stand] - data[columns_for_stand].mean(axis=0))/data[columns_for_stand].std(axis=0)\n",
        "data.describe()"
      ],
      "metadata": {
        "colab": {
          "base_uri": "https://localhost:8080/",
          "height": 300
        },
        "id": "Fz9PGCTdIMpE",
        "outputId": "bfffcde2-877a-4a31-d407-5be368627bfc"
      },
      "execution_count": 43,
      "outputs": [
        {
          "output_type": "execute_result",
          "data": {
            "text/plain": [
              "               Date          Time     Location     Operator        Route  \\\n",
              "count  5.117000e+03  5.117000e+03  5117.000000  5117.000000  5117.000000   \n",
              "mean  -8.886991e-17 -2.985474e-16  2060.532343  1194.875904  2042.473910   \n",
              "std    1.000000e+00  1.000000e+00  1226.354817   698.550032   968.397557   \n",
              "min   -2.799710e+00 -3.008161e+00     0.000000     0.000000     0.000000   \n",
              "25%   -7.822731e-01 -3.724646e-01   989.000000   596.000000  1215.000000   \n",
              "50%    5.761304e-02  2.592313e-01  2038.000000  1254.000000  2433.000000   \n",
              "75%    8.351949e-01  2.592313e-01  3128.000000  1732.000000  2913.000000   \n",
              "max    1.694628e+00  2.067188e+00  4198.000000  2435.000000  3122.000000   \n",
              "\n",
              "              Type  Registration        Aboard    Fatalities       Ground  \n",
              "count  5117.000000   5117.000000  5.117000e+03  5.117000e+03  5117.000000  \n",
              "mean   1209.107485   2530.454954 -3.888059e-17  5.554370e-18     0.041040  \n",
              "std     640.416724   1454.488338  1.000000e+00  1.000000e+00     0.198401  \n",
              "min       0.000000      0.000000 -8.090047e-01 -7.383641e-01     0.000000  \n",
              "25%     766.000000   1265.000000 -6.341060e-01 -6.133103e-01     0.000000  \n",
              "50%    1130.000000   2542.000000 -3.542681e-01 -3.632026e-01     0.000000  \n",
              "75%    1695.000000   3817.000000  1.704280e-01  1.786972e-01     0.000000  \n",
              "max    2370.000000   4759.000000  4.927672e+00  5.847803e+00     1.000000  "
            ],
            "text/html": [
              "\n",
              "  <div id=\"df-55b479a9-44e7-42ff-8663-ed598b0e58b5\">\n",
              "    <div class=\"colab-df-container\">\n",
              "      <div>\n",
              "<style scoped>\n",
              "    .dataframe tbody tr th:only-of-type {\n",
              "        vertical-align: middle;\n",
              "    }\n",
              "\n",
              "    .dataframe tbody tr th {\n",
              "        vertical-align: top;\n",
              "    }\n",
              "\n",
              "    .dataframe thead th {\n",
              "        text-align: right;\n",
              "    }\n",
              "</style>\n",
              "<table border=\"1\" class=\"dataframe\">\n",
              "  <thead>\n",
              "    <tr style=\"text-align: right;\">\n",
              "      <th></th>\n",
              "      <th>Date</th>\n",
              "      <th>Time</th>\n",
              "      <th>Location</th>\n",
              "      <th>Operator</th>\n",
              "      <th>Route</th>\n",
              "      <th>Type</th>\n",
              "      <th>Registration</th>\n",
              "      <th>Aboard</th>\n",
              "      <th>Fatalities</th>\n",
              "      <th>Ground</th>\n",
              "    </tr>\n",
              "  </thead>\n",
              "  <tbody>\n",
              "    <tr>\n",
              "      <th>count</th>\n",
              "      <td>5.117000e+03</td>\n",
              "      <td>5.117000e+03</td>\n",
              "      <td>5117.000000</td>\n",
              "      <td>5117.000000</td>\n",
              "      <td>5117.000000</td>\n",
              "      <td>5117.000000</td>\n",
              "      <td>5117.000000</td>\n",
              "      <td>5.117000e+03</td>\n",
              "      <td>5.117000e+03</td>\n",
              "      <td>5117.000000</td>\n",
              "    </tr>\n",
              "    <tr>\n",
              "      <th>mean</th>\n",
              "      <td>-8.886991e-17</td>\n",
              "      <td>-2.985474e-16</td>\n",
              "      <td>2060.532343</td>\n",
              "      <td>1194.875904</td>\n",
              "      <td>2042.473910</td>\n",
              "      <td>1209.107485</td>\n",
              "      <td>2530.454954</td>\n",
              "      <td>-3.888059e-17</td>\n",
              "      <td>5.554370e-18</td>\n",
              "      <td>0.041040</td>\n",
              "    </tr>\n",
              "    <tr>\n",
              "      <th>std</th>\n",
              "      <td>1.000000e+00</td>\n",
              "      <td>1.000000e+00</td>\n",
              "      <td>1226.354817</td>\n",
              "      <td>698.550032</td>\n",
              "      <td>968.397557</td>\n",
              "      <td>640.416724</td>\n",
              "      <td>1454.488338</td>\n",
              "      <td>1.000000e+00</td>\n",
              "      <td>1.000000e+00</td>\n",
              "      <td>0.198401</td>\n",
              "    </tr>\n",
              "    <tr>\n",
              "      <th>min</th>\n",
              "      <td>-2.799710e+00</td>\n",
              "      <td>-3.008161e+00</td>\n",
              "      <td>0.000000</td>\n",
              "      <td>0.000000</td>\n",
              "      <td>0.000000</td>\n",
              "      <td>0.000000</td>\n",
              "      <td>0.000000</td>\n",
              "      <td>-8.090047e-01</td>\n",
              "      <td>-7.383641e-01</td>\n",
              "      <td>0.000000</td>\n",
              "    </tr>\n",
              "    <tr>\n",
              "      <th>25%</th>\n",
              "      <td>-7.822731e-01</td>\n",
              "      <td>-3.724646e-01</td>\n",
              "      <td>989.000000</td>\n",
              "      <td>596.000000</td>\n",
              "      <td>1215.000000</td>\n",
              "      <td>766.000000</td>\n",
              "      <td>1265.000000</td>\n",
              "      <td>-6.341060e-01</td>\n",
              "      <td>-6.133103e-01</td>\n",
              "      <td>0.000000</td>\n",
              "    </tr>\n",
              "    <tr>\n",
              "      <th>50%</th>\n",
              "      <td>5.761304e-02</td>\n",
              "      <td>2.592313e-01</td>\n",
              "      <td>2038.000000</td>\n",
              "      <td>1254.000000</td>\n",
              "      <td>2433.000000</td>\n",
              "      <td>1130.000000</td>\n",
              "      <td>2542.000000</td>\n",
              "      <td>-3.542681e-01</td>\n",
              "      <td>-3.632026e-01</td>\n",
              "      <td>0.000000</td>\n",
              "    </tr>\n",
              "    <tr>\n",
              "      <th>75%</th>\n",
              "      <td>8.351949e-01</td>\n",
              "      <td>2.592313e-01</td>\n",
              "      <td>3128.000000</td>\n",
              "      <td>1732.000000</td>\n",
              "      <td>2913.000000</td>\n",
              "      <td>1695.000000</td>\n",
              "      <td>3817.000000</td>\n",
              "      <td>1.704280e-01</td>\n",
              "      <td>1.786972e-01</td>\n",
              "      <td>0.000000</td>\n",
              "    </tr>\n",
              "    <tr>\n",
              "      <th>max</th>\n",
              "      <td>1.694628e+00</td>\n",
              "      <td>2.067188e+00</td>\n",
              "      <td>4198.000000</td>\n",
              "      <td>2435.000000</td>\n",
              "      <td>3122.000000</td>\n",
              "      <td>2370.000000</td>\n",
              "      <td>4759.000000</td>\n",
              "      <td>4.927672e+00</td>\n",
              "      <td>5.847803e+00</td>\n",
              "      <td>1.000000</td>\n",
              "    </tr>\n",
              "  </tbody>\n",
              "</table>\n",
              "</div>\n",
              "      <button class=\"colab-df-convert\" onclick=\"convertToInteractive('df-55b479a9-44e7-42ff-8663-ed598b0e58b5')\"\n",
              "              title=\"Convert this dataframe to an interactive table.\"\n",
              "              style=\"display:none;\">\n",
              "        \n",
              "  <svg xmlns=\"http://www.w3.org/2000/svg\" height=\"24px\"viewBox=\"0 0 24 24\"\n",
              "       width=\"24px\">\n",
              "    <path d=\"M0 0h24v24H0V0z\" fill=\"none\"/>\n",
              "    <path d=\"M18.56 5.44l.94 2.06.94-2.06 2.06-.94-2.06-.94-.94-2.06-.94 2.06-2.06.94zm-11 1L8.5 8.5l.94-2.06 2.06-.94-2.06-.94L8.5 2.5l-.94 2.06-2.06.94zm10 10l.94 2.06.94-2.06 2.06-.94-2.06-.94-.94-2.06-.94 2.06-2.06.94z\"/><path d=\"M17.41 7.96l-1.37-1.37c-.4-.4-.92-.59-1.43-.59-.52 0-1.04.2-1.43.59L10.3 9.45l-7.72 7.72c-.78.78-.78 2.05 0 2.83L4 21.41c.39.39.9.59 1.41.59.51 0 1.02-.2 1.41-.59l7.78-7.78 2.81-2.81c.8-.78.8-2.07 0-2.86zM5.41 20L4 18.59l7.72-7.72 1.47 1.35L5.41 20z\"/>\n",
              "  </svg>\n",
              "      </button>\n",
              "      \n",
              "  <style>\n",
              "    .colab-df-container {\n",
              "      display:flex;\n",
              "      flex-wrap:wrap;\n",
              "      gap: 12px;\n",
              "    }\n",
              "\n",
              "    .colab-df-convert {\n",
              "      background-color: #E8F0FE;\n",
              "      border: none;\n",
              "      border-radius: 50%;\n",
              "      cursor: pointer;\n",
              "      display: none;\n",
              "      fill: #1967D2;\n",
              "      height: 32px;\n",
              "      padding: 0 0 0 0;\n",
              "      width: 32px;\n",
              "    }\n",
              "\n",
              "    .colab-df-convert:hover {\n",
              "      background-color: #E2EBFA;\n",
              "      box-shadow: 0px 1px 2px rgba(60, 64, 67, 0.3), 0px 1px 3px 1px rgba(60, 64, 67, 0.15);\n",
              "      fill: #174EA6;\n",
              "    }\n",
              "\n",
              "    [theme=dark] .colab-df-convert {\n",
              "      background-color: #3B4455;\n",
              "      fill: #D2E3FC;\n",
              "    }\n",
              "\n",
              "    [theme=dark] .colab-df-convert:hover {\n",
              "      background-color: #434B5C;\n",
              "      box-shadow: 0px 1px 3px 1px rgba(0, 0, 0, 0.15);\n",
              "      filter: drop-shadow(0px 1px 2px rgba(0, 0, 0, 0.3));\n",
              "      fill: #FFFFFF;\n",
              "    }\n",
              "  </style>\n",
              "\n",
              "      <script>\n",
              "        const buttonEl =\n",
              "          document.querySelector('#df-55b479a9-44e7-42ff-8663-ed598b0e58b5 button.colab-df-convert');\n",
              "        buttonEl.style.display =\n",
              "          google.colab.kernel.accessAllowed ? 'block' : 'none';\n",
              "\n",
              "        async function convertToInteractive(key) {\n",
              "          const element = document.querySelector('#df-55b479a9-44e7-42ff-8663-ed598b0e58b5');\n",
              "          const dataTable =\n",
              "            await google.colab.kernel.invokeFunction('convertToInteractive',\n",
              "                                                     [key], {});\n",
              "          if (!dataTable) return;\n",
              "\n",
              "          const docLinkHtml = 'Like what you see? Visit the ' +\n",
              "            '<a target=\"_blank\" href=https://colab.research.google.com/notebooks/data_table.ipynb>data table notebook</a>'\n",
              "            + ' to learn more about interactive tables.';\n",
              "          element.innerHTML = '';\n",
              "          dataTable['output_type'] = 'display_data';\n",
              "          await google.colab.output.renderOutput(dataTable, element);\n",
              "          const docLink = document.createElement('div');\n",
              "          docLink.innerHTML = docLinkHtml;\n",
              "          element.appendChild(docLink);\n",
              "        }\n",
              "      </script>\n",
              "    </div>\n",
              "  </div>\n",
              "  "
            ]
          },
          "metadata": {},
          "execution_count": 43
        }
      ]
    },
    {
      "cell_type": "markdown",
      "source": [
        "Нормализация. Нормировка к отрезку от 0 до 1 (label encoder) - кодировка текста\n",
        "\n"
      ],
      "metadata": {
        "id": "6RXZUCGAMZVh"
      }
    },
    {
      "cell_type": "code",
      "source": [
        "OldMax = data['Location'].max()\n",
        "OldMin = data['Location'].min()\n",
        "NewMax = 1\n",
        "NewMin = 0\n",
        "OldRange = (OldMax - OldMin)\n",
        "NewRange = (NewMax - NewMin)\n",
        "for i in range(len( data['Location']) ):\n",
        "  OldValue = data['Location'].iloc[i]\n",
        "  NewValue = (((OldValue - OldMin) * NewRange) / OldRange) + NewMin\n",
        "  data['Location'].iloc[i] = NewValue\n",
        "\n",
        "data['Location'].describe()"
      ],
      "metadata": {
        "colab": {
          "base_uri": "https://localhost:8080/"
        },
        "id": "g9ElwkHsKqsp",
        "outputId": "e353a6ad-2fe6-4b0e-e08a-dc0ad71f4f88"
      },
      "execution_count": 44,
      "outputs": [
        {
          "output_type": "stream",
          "name": "stderr",
          "text": [
            "/usr/local/lib/python3.8/dist-packages/pandas/core/indexing.py:1732: SettingWithCopyWarning: \n",
            "A value is trying to be set on a copy of a slice from a DataFrame\n",
            "\n",
            "See the caveats in the documentation: https://pandas.pydata.org/pandas-docs/stable/user_guide/indexing.html#returning-a-view-versus-a-copy\n",
            "  self._setitem_single_block(indexer, value, name)\n"
          ]
        },
        {
          "output_type": "execute_result",
          "data": {
            "text/plain": [
              "count    5117.000000\n",
              "mean        0.490837\n",
              "std         0.292128\n",
              "min         0.000000\n",
              "25%         0.235588\n",
              "50%         0.485469\n",
              "75%         0.745117\n",
              "max         1.000000\n",
              "Name: Location, dtype: float64"
            ]
          },
          "metadata": {},
          "execution_count": 44
        }
      ]
    },
    {
      "cell_type": "code",
      "source": [
        "OldMax = data['Operator'].max()\n",
        "OldMin = data['Operator'].min()\n",
        "NewMax = 1\n",
        "NewMin = 0\n",
        "OldRange = (OldMax - OldMin)\n",
        "NewRange = (NewMax - NewMin)\n",
        "for i in range(len( data['Operator']) ):\n",
        "  OldValue = data['Operator'].iloc[i]\n",
        "  NewValue = (((OldValue - OldMin) * NewRange) / OldRange) + NewMin\n",
        "  data['Operator'].iloc[i] = NewValue\n",
        "\n",
        "data['Operator'].describe()"
      ],
      "metadata": {
        "colab": {
          "base_uri": "https://localhost:8080/"
        },
        "id": "YLjCYfWJORXa",
        "outputId": "e97ea7c1-88f1-4cc4-f95a-a06a7663daca"
      },
      "execution_count": 45,
      "outputs": [
        {
          "output_type": "execute_result",
          "data": {
            "text/plain": [
              "count    5117.000000\n",
              "mean        0.490709\n",
              "std         0.286879\n",
              "min         0.000000\n",
              "25%         0.244764\n",
              "50%         0.514990\n",
              "75%         0.711294\n",
              "max         1.000000\n",
              "Name: Operator, dtype: float64"
            ]
          },
          "metadata": {},
          "execution_count": 45
        }
      ]
    },
    {
      "cell_type": "code",
      "source": [
        "OldMax = data['Route'].max()\n",
        "OldMin = data['Route'].min()\n",
        "NewMax = 1\n",
        "NewMin = 0\n",
        "OldRange = (OldMax - OldMin)\n",
        "NewRange = (NewMax - NewMin)\n",
        "for i in range(len( data['Route']) ):\n",
        "  OldValue = data['Route'].iloc[i]\n",
        "  NewValue = (((OldValue - OldMin) * NewRange) / OldRange) + NewMin\n",
        "  data['Route'].iloc[i] = NewValue\n",
        "\n",
        "data['Route'].describe()"
      ],
      "metadata": {
        "colab": {
          "base_uri": "https://localhost:8080/"
        },
        "id": "fFl5zAowORPW",
        "outputId": "dbd4c661-5f2e-42c1-ba61-1055221b4941"
      },
      "execution_count": 46,
      "outputs": [
        {
          "output_type": "execute_result",
          "data": {
            "text/plain": [
              "count    5117.000000\n",
              "mean        0.654220\n",
              "std         0.310185\n",
              "min         0.000000\n",
              "25%         0.389174\n",
              "50%         0.779308\n",
              "75%         0.933056\n",
              "max         1.000000\n",
              "Name: Route, dtype: float64"
            ]
          },
          "metadata": {},
          "execution_count": 46
        }
      ]
    },
    {
      "cell_type": "code",
      "source": [
        "OldMax = data['Type'].max()\n",
        "OldMin = data['Type'].min()\n",
        "NewMax = 1\n",
        "NewMin = 0\n",
        "OldRange = (OldMax - OldMin)\n",
        "NewRange = (NewMax - NewMin)\n",
        "for i in range(len( data['Type']) ):\n",
        "  OldValue = data['Type'].iloc[i]\n",
        "  NewValue = (((OldValue - OldMin) * NewRange) / OldRange) + NewMin\n",
        "  data['Type'].iloc[i] = NewValue\n",
        "\n",
        "data['Type'].describe()"
      ],
      "metadata": {
        "colab": {
          "base_uri": "https://localhost:8080/"
        },
        "id": "HO0WT-EJORJg",
        "outputId": "e7c50053-eeb7-4dce-cf13-64b703252209"
      },
      "execution_count": 47,
      "outputs": [
        {
          "output_type": "execute_result",
          "data": {
            "text/plain": [
              "count    5117.000000\n",
              "mean        0.510172\n",
              "std         0.270218\n",
              "min         0.000000\n",
              "25%         0.323207\n",
              "50%         0.476793\n",
              "75%         0.715190\n",
              "max         1.000000\n",
              "Name: Type, dtype: float64"
            ]
          },
          "metadata": {},
          "execution_count": 47
        }
      ]
    },
    {
      "cell_type": "code",
      "source": [
        "OldMax = data['Registration'].max()\n",
        "OldMin = data['Registration'].min()\n",
        "NewMax = 1\n",
        "NewMin = 0\n",
        "OldRange = (OldMax - OldMin)\n",
        "NewRange = (NewMax - NewMin)\n",
        "for i in range(len( data['Registration']) ):\n",
        "  OldValue = data['Registration'].iloc[i]\n",
        "  NewValue = (((OldValue - OldMin) * NewRange) / OldRange) + NewMin\n",
        "  data['Registration'].iloc[i] = NewValue\n",
        "\n",
        "data['Registration'].describe()"
      ],
      "metadata": {
        "colab": {
          "base_uri": "https://localhost:8080/"
        },
        "id": "xbrm_gqkORE6",
        "outputId": "350c8910-213a-41f0-8afb-280ffbaa7ccf"
      },
      "execution_count": 48,
      "outputs": [
        {
          "output_type": "execute_result",
          "data": {
            "text/plain": [
              "count    5117.000000\n",
              "mean        0.531720\n",
              "std         0.305629\n",
              "min         0.000000\n",
              "25%         0.265812\n",
              "50%         0.534146\n",
              "75%         0.802059\n",
              "max         1.000000\n",
              "Name: Registration, dtype: float64"
            ]
          },
          "metadata": {},
          "execution_count": 48
        }
      ]
    },
    {
      "cell_type": "code",
      "source": [
        "data"
      ],
      "metadata": {
        "colab": {
          "base_uri": "https://localhost:8080/",
          "height": 424
        },
        "id": "ZgPvIzU3Kqdx",
        "outputId": "00458345-fc8e-4c1c-e766-635bdca91cdb"
      },
      "execution_count": 49,
      "outputs": [
        {
          "output_type": "execute_result",
          "data": {
            "text/plain": [
              "          Date      Time  Location  Operator     Route      Type  \\\n",
              "0    -2.799710  0.734092  0.196522  0.634086  0.258168  0.954430   \n",
              "1    -2.629412 -1.635856  0.027394  0.638604  0.917681  0.427426   \n",
              "2    -2.581767  0.259231  0.970224  0.737166  0.933056  0.411392   \n",
              "3    -2.577614  0.978058  0.784898  0.593018  0.933056  0.960338   \n",
              "4    -2.572971 -0.764552  0.532396  0.593018  0.933056  0.961181   \n",
              "...        ...       ...       ...       ...       ...       ...   \n",
              "5262  1.690230 -0.394247  0.499285  0.644764  0.710442  0.776793   \n",
              "5263  1.692306 -1.635856  0.565746  0.597536  0.401025  0.708439   \n",
              "5264  1.693039  0.259231  0.527394  0.808214  0.330557  0.058228   \n",
              "5266  1.694505 -1.200204  0.615531  0.856674  0.515054  0.281435   \n",
              "5267  1.694628  0.259231  0.912101  0.596715  0.557976  0.059916   \n",
              "\n",
              "      Registration    Aboard  Fatalities  Ground  \n",
              "0         1.000000 -0.739045   -0.696679     0.0  \n",
              "1         1.000000 -0.634106   -0.529941     0.0  \n",
              "2         1.000000 -0.774025   -0.696679     0.0  \n",
              "3         1.000000 -0.109410   -0.154780     0.0  \n",
              "4         1.000000  0.240387    0.512174     0.0  \n",
              "...            ...       ...         ...     ...  \n",
              "5262      0.286195 -0.179369    0.011959     0.0  \n",
              "5263      0.126917  3.108726    3.346727     1.0  \n",
              "5264      0.122084 -0.669086   -0.571626     0.0  \n",
              "5266      0.159277 -0.774025   -0.696679     0.0  \n",
              "5267      1.000000 -0.354268   -0.196464     0.0  \n",
              "\n",
              "[5117 rows x 10 columns]"
            ],
            "text/html": [
              "\n",
              "  <div id=\"df-482fa21c-7a9e-4dd5-ba2b-9938d8c3b577\">\n",
              "    <div class=\"colab-df-container\">\n",
              "      <div>\n",
              "<style scoped>\n",
              "    .dataframe tbody tr th:only-of-type {\n",
              "        vertical-align: middle;\n",
              "    }\n",
              "\n",
              "    .dataframe tbody tr th {\n",
              "        vertical-align: top;\n",
              "    }\n",
              "\n",
              "    .dataframe thead th {\n",
              "        text-align: right;\n",
              "    }\n",
              "</style>\n",
              "<table border=\"1\" class=\"dataframe\">\n",
              "  <thead>\n",
              "    <tr style=\"text-align: right;\">\n",
              "      <th></th>\n",
              "      <th>Date</th>\n",
              "      <th>Time</th>\n",
              "      <th>Location</th>\n",
              "      <th>Operator</th>\n",
              "      <th>Route</th>\n",
              "      <th>Type</th>\n",
              "      <th>Registration</th>\n",
              "      <th>Aboard</th>\n",
              "      <th>Fatalities</th>\n",
              "      <th>Ground</th>\n",
              "    </tr>\n",
              "  </thead>\n",
              "  <tbody>\n",
              "    <tr>\n",
              "      <th>0</th>\n",
              "      <td>-2.799710</td>\n",
              "      <td>0.734092</td>\n",
              "      <td>0.196522</td>\n",
              "      <td>0.634086</td>\n",
              "      <td>0.258168</td>\n",
              "      <td>0.954430</td>\n",
              "      <td>1.000000</td>\n",
              "      <td>-0.739045</td>\n",
              "      <td>-0.696679</td>\n",
              "      <td>0.0</td>\n",
              "    </tr>\n",
              "    <tr>\n",
              "      <th>1</th>\n",
              "      <td>-2.629412</td>\n",
              "      <td>-1.635856</td>\n",
              "      <td>0.027394</td>\n",
              "      <td>0.638604</td>\n",
              "      <td>0.917681</td>\n",
              "      <td>0.427426</td>\n",
              "      <td>1.000000</td>\n",
              "      <td>-0.634106</td>\n",
              "      <td>-0.529941</td>\n",
              "      <td>0.0</td>\n",
              "    </tr>\n",
              "    <tr>\n",
              "      <th>2</th>\n",
              "      <td>-2.581767</td>\n",
              "      <td>0.259231</td>\n",
              "      <td>0.970224</td>\n",
              "      <td>0.737166</td>\n",
              "      <td>0.933056</td>\n",
              "      <td>0.411392</td>\n",
              "      <td>1.000000</td>\n",
              "      <td>-0.774025</td>\n",
              "      <td>-0.696679</td>\n",
              "      <td>0.0</td>\n",
              "    </tr>\n",
              "    <tr>\n",
              "      <th>3</th>\n",
              "      <td>-2.577614</td>\n",
              "      <td>0.978058</td>\n",
              "      <td>0.784898</td>\n",
              "      <td>0.593018</td>\n",
              "      <td>0.933056</td>\n",
              "      <td>0.960338</td>\n",
              "      <td>1.000000</td>\n",
              "      <td>-0.109410</td>\n",
              "      <td>-0.154780</td>\n",
              "      <td>0.0</td>\n",
              "    </tr>\n",
              "    <tr>\n",
              "      <th>4</th>\n",
              "      <td>-2.572971</td>\n",
              "      <td>-0.764552</td>\n",
              "      <td>0.532396</td>\n",
              "      <td>0.593018</td>\n",
              "      <td>0.933056</td>\n",
              "      <td>0.961181</td>\n",
              "      <td>1.000000</td>\n",
              "      <td>0.240387</td>\n",
              "      <td>0.512174</td>\n",
              "      <td>0.0</td>\n",
              "    </tr>\n",
              "    <tr>\n",
              "      <th>...</th>\n",
              "      <td>...</td>\n",
              "      <td>...</td>\n",
              "      <td>...</td>\n",
              "      <td>...</td>\n",
              "      <td>...</td>\n",
              "      <td>...</td>\n",
              "      <td>...</td>\n",
              "      <td>...</td>\n",
              "      <td>...</td>\n",
              "      <td>...</td>\n",
              "    </tr>\n",
              "    <tr>\n",
              "      <th>5262</th>\n",
              "      <td>1.690230</td>\n",
              "      <td>-0.394247</td>\n",
              "      <td>0.499285</td>\n",
              "      <td>0.644764</td>\n",
              "      <td>0.710442</td>\n",
              "      <td>0.776793</td>\n",
              "      <td>0.286195</td>\n",
              "      <td>-0.179369</td>\n",
              "      <td>0.011959</td>\n",
              "      <td>0.0</td>\n",
              "    </tr>\n",
              "    <tr>\n",
              "      <th>5263</th>\n",
              "      <td>1.692306</td>\n",
              "      <td>-1.635856</td>\n",
              "      <td>0.565746</td>\n",
              "      <td>0.597536</td>\n",
              "      <td>0.401025</td>\n",
              "      <td>0.708439</td>\n",
              "      <td>0.126917</td>\n",
              "      <td>3.108726</td>\n",
              "      <td>3.346727</td>\n",
              "      <td>1.0</td>\n",
              "    </tr>\n",
              "    <tr>\n",
              "      <th>5264</th>\n",
              "      <td>1.693039</td>\n",
              "      <td>0.259231</td>\n",
              "      <td>0.527394</td>\n",
              "      <td>0.808214</td>\n",
              "      <td>0.330557</td>\n",
              "      <td>0.058228</td>\n",
              "      <td>0.122084</td>\n",
              "      <td>-0.669086</td>\n",
              "      <td>-0.571626</td>\n",
              "      <td>0.0</td>\n",
              "    </tr>\n",
              "    <tr>\n",
              "      <th>5266</th>\n",
              "      <td>1.694505</td>\n",
              "      <td>-1.200204</td>\n",
              "      <td>0.615531</td>\n",
              "      <td>0.856674</td>\n",
              "      <td>0.515054</td>\n",
              "      <td>0.281435</td>\n",
              "      <td>0.159277</td>\n",
              "      <td>-0.774025</td>\n",
              "      <td>-0.696679</td>\n",
              "      <td>0.0</td>\n",
              "    </tr>\n",
              "    <tr>\n",
              "      <th>5267</th>\n",
              "      <td>1.694628</td>\n",
              "      <td>0.259231</td>\n",
              "      <td>0.912101</td>\n",
              "      <td>0.596715</td>\n",
              "      <td>0.557976</td>\n",
              "      <td>0.059916</td>\n",
              "      <td>1.000000</td>\n",
              "      <td>-0.354268</td>\n",
              "      <td>-0.196464</td>\n",
              "      <td>0.0</td>\n",
              "    </tr>\n",
              "  </tbody>\n",
              "</table>\n",
              "<p>5117 rows × 10 columns</p>\n",
              "</div>\n",
              "      <button class=\"colab-df-convert\" onclick=\"convertToInteractive('df-482fa21c-7a9e-4dd5-ba2b-9938d8c3b577')\"\n",
              "              title=\"Convert this dataframe to an interactive table.\"\n",
              "              style=\"display:none;\">\n",
              "        \n",
              "  <svg xmlns=\"http://www.w3.org/2000/svg\" height=\"24px\"viewBox=\"0 0 24 24\"\n",
              "       width=\"24px\">\n",
              "    <path d=\"M0 0h24v24H0V0z\" fill=\"none\"/>\n",
              "    <path d=\"M18.56 5.44l.94 2.06.94-2.06 2.06-.94-2.06-.94-.94-2.06-.94 2.06-2.06.94zm-11 1L8.5 8.5l.94-2.06 2.06-.94-2.06-.94L8.5 2.5l-.94 2.06-2.06.94zm10 10l.94 2.06.94-2.06 2.06-.94-2.06-.94-.94-2.06-.94 2.06-2.06.94z\"/><path d=\"M17.41 7.96l-1.37-1.37c-.4-.4-.92-.59-1.43-.59-.52 0-1.04.2-1.43.59L10.3 9.45l-7.72 7.72c-.78.78-.78 2.05 0 2.83L4 21.41c.39.39.9.59 1.41.59.51 0 1.02-.2 1.41-.59l7.78-7.78 2.81-2.81c.8-.78.8-2.07 0-2.86zM5.41 20L4 18.59l7.72-7.72 1.47 1.35L5.41 20z\"/>\n",
              "  </svg>\n",
              "      </button>\n",
              "      \n",
              "  <style>\n",
              "    .colab-df-container {\n",
              "      display:flex;\n",
              "      flex-wrap:wrap;\n",
              "      gap: 12px;\n",
              "    }\n",
              "\n",
              "    .colab-df-convert {\n",
              "      background-color: #E8F0FE;\n",
              "      border: none;\n",
              "      border-radius: 50%;\n",
              "      cursor: pointer;\n",
              "      display: none;\n",
              "      fill: #1967D2;\n",
              "      height: 32px;\n",
              "      padding: 0 0 0 0;\n",
              "      width: 32px;\n",
              "    }\n",
              "\n",
              "    .colab-df-convert:hover {\n",
              "      background-color: #E2EBFA;\n",
              "      box-shadow: 0px 1px 2px rgba(60, 64, 67, 0.3), 0px 1px 3px 1px rgba(60, 64, 67, 0.15);\n",
              "      fill: #174EA6;\n",
              "    }\n",
              "\n",
              "    [theme=dark] .colab-df-convert {\n",
              "      background-color: #3B4455;\n",
              "      fill: #D2E3FC;\n",
              "    }\n",
              "\n",
              "    [theme=dark] .colab-df-convert:hover {\n",
              "      background-color: #434B5C;\n",
              "      box-shadow: 0px 1px 3px 1px rgba(0, 0, 0, 0.15);\n",
              "      filter: drop-shadow(0px 1px 2px rgba(0, 0, 0, 0.3));\n",
              "      fill: #FFFFFF;\n",
              "    }\n",
              "  </style>\n",
              "\n",
              "      <script>\n",
              "        const buttonEl =\n",
              "          document.querySelector('#df-482fa21c-7a9e-4dd5-ba2b-9938d8c3b577 button.colab-df-convert');\n",
              "        buttonEl.style.display =\n",
              "          google.colab.kernel.accessAllowed ? 'block' : 'none';\n",
              "\n",
              "        async function convertToInteractive(key) {\n",
              "          const element = document.querySelector('#df-482fa21c-7a9e-4dd5-ba2b-9938d8c3b577');\n",
              "          const dataTable =\n",
              "            await google.colab.kernel.invokeFunction('convertToInteractive',\n",
              "                                                     [key], {});\n",
              "          if (!dataTable) return;\n",
              "\n",
              "          const docLinkHtml = 'Like what you see? Visit the ' +\n",
              "            '<a target=\"_blank\" href=https://colab.research.google.com/notebooks/data_table.ipynb>data table notebook</a>'\n",
              "            + ' to learn more about interactive tables.';\n",
              "          element.innerHTML = '';\n",
              "          dataTable['output_type'] = 'display_data';\n",
              "          await google.colab.output.renderOutput(dataTable, element);\n",
              "          const docLink = document.createElement('div');\n",
              "          docLink.innerHTML = docLinkHtml;\n",
              "          element.appendChild(docLink);\n",
              "        }\n",
              "      </script>\n",
              "    </div>\n",
              "  </div>\n",
              "  "
            ]
          },
          "metadata": {},
          "execution_count": 49
        }
      ]
    },
    {
      "cell_type": "code",
      "source": [
        "data.Ground.value_counts()"
      ],
      "metadata": {
        "colab": {
          "base_uri": "https://localhost:8080/"
        },
        "id": "OhcCLvdjtfMP",
        "outputId": "80c21e5e-ed39-44a7-a8af-503415407b04"
      },
      "execution_count": 50,
      "outputs": [
        {
          "output_type": "execute_result",
          "data": {
            "text/plain": [
              "0.0    4907\n",
              "1.0     210\n",
              "Name: Ground, dtype: int64"
            ]
          },
          "metadata": {},
          "execution_count": 50
        }
      ]
    },
    {
      "cell_type": "code",
      "source": [
        "size = int(data.Ground.size/3)\n",
        "\n",
        "for i in range(size):\n",
        "  try:\n",
        "    if data.Ground.loc[i] == 0:\n",
        "      data.Ground.at[i] = 1\n",
        "  except:\n",
        "    size+=1\n",
        "\n",
        "data.Ground.value_counts()"
      ],
      "metadata": {
        "colab": {
          "base_uri": "https://localhost:8080/"
        },
        "id": "OL0Gy4UioHH9",
        "outputId": "901a33b5-4c67-4f3a-f932-c7e4a9ce3c1b"
      },
      "execution_count": 51,
      "outputs": [
        {
          "output_type": "execute_result",
          "data": {
            "text/plain": [
              "0.0    3276\n",
              "1.0    1841\n",
              "Name: Ground, dtype: int64"
            ]
          },
          "metadata": {},
          "execution_count": 51
        }
      ]
    },
    {
      "cell_type": "markdown",
      "source": [
        "# Разделение на тестовую и обучающую выборки"
      ],
      "metadata": {
        "id": "k4nykfhKFiqF"
      }
    },
    {
      "cell_type": "code",
      "source": [
        "from sklearn.model_selection import train_test_split\n",
        "\n",
        "X = data.drop(\"Ground\", axis=1)\n",
        "y = data[\"Ground\"]\n",
        "X.shape, y.shape\n",
        "\n",
        "X = X.to_numpy()\n"
      ],
      "metadata": {
        "id": "loLNjg9FXf4j"
      },
      "execution_count": 52,
      "outputs": []
    },
    {
      "cell_type": "code",
      "source": [
        "X_train, X_test, y_train, y_test = train_test_split(X, y, test_size = 0.3, random_state = 7)\n",
        "\n",
        "N_train, _ = X_train.shape \n",
        "N_test,  _ = X_test.shape \n",
        "\n",
        "N2_train = y_train.shape \n",
        "N2_test = y_test.shape \n",
        "\n",
        "print(N_train, N_test, N2_train, N2_test)"
      ],
      "metadata": {
        "id": "ZF_qK6nYXf6y",
        "colab": {
          "base_uri": "https://localhost:8080/"
        },
        "outputId": "195d8171-b582-4e5a-c083-d89361d89467"
      },
      "execution_count": 53,
      "outputs": [
        {
          "output_type": "stream",
          "name": "stdout",
          "text": [
            "3581 1536 (3581,) (1536,)\n"
          ]
        }
      ]
    },
    {
      "cell_type": "code",
      "source": [
        "from prettytable import PrettyTable\n",
        "\n",
        "methods = PrettyTable([\"\", \"KNN\", \"SVC\", \"Random Forest\", \"Extremely Randomized Trees\", \"AdaBoost\", \"GBT\"])\n",
        "\n",
        "test_error_list = [\"Test error\"]\n",
        "train_error_list = [\"Train error\"]"
      ],
      "metadata": {
        "id": "WnNhG8qBub8z"
      },
      "execution_count": 54,
      "outputs": []
    },
    {
      "cell_type": "markdown",
      "source": [
        "Метод К-ближайших соседей"
      ],
      "metadata": {
        "id": "yBrq-Z4pYrGg"
      }
    },
    {
      "cell_type": "code",
      "source": [
        "from sklearn.neighbors import KNeighborsClassifier\n",
        "\n",
        "knn = KNeighborsClassifier(n_neighbors = 10)\n",
        "knn.fit(X_train, y_train)"
      ],
      "metadata": {
        "id": "B-VILsMqXf8e",
        "colab": {
          "base_uri": "https://localhost:8080/"
        },
        "outputId": "ec15da7c-a60c-4e41-d301-2e69aecbe870"
      },
      "execution_count": 55,
      "outputs": [
        {
          "output_type": "execute_result",
          "data": {
            "text/plain": [
              "KNeighborsClassifier(n_neighbors=10)"
            ]
          },
          "metadata": {},
          "execution_count": 55
        }
      ]
    },
    {
      "cell_type": "code",
      "source": [
        "y_test_predict = knn.predict(X_test)\n",
        "err_test = np.mean(y_test  != y_test_predict)\n",
        "err_test"
      ],
      "metadata": {
        "colab": {
          "base_uri": "https://localhost:8080/"
        },
        "id": "GmyFE02JG8u9",
        "outputId": "048745f4-2883-4315-bda0-1867de67680a"
      },
      "execution_count": 56,
      "outputs": [
        {
          "output_type": "execute_result",
          "data": {
            "text/plain": [
              "0.057291666666666664"
            ]
          },
          "metadata": {},
          "execution_count": 56
        }
      ]
    },
    {
      "cell_type": "code",
      "source": [
        "from sklearn.metrics import plot_confusion_matrix\n",
        "plot_confusion_matrix(knn, X_test, y_test, cmap=plt.cm.Blues)"
      ],
      "metadata": {
        "colab": {
          "base_uri": "https://localhost:8080/",
          "height": 351
        },
        "id": "SndZTr9aG8xw",
        "outputId": "29c05db9-ce2b-49dd-8fcd-810f189eb7f2"
      },
      "execution_count": 57,
      "outputs": [
        {
          "output_type": "stream",
          "name": "stderr",
          "text": [
            "/usr/local/lib/python3.8/dist-packages/sklearn/utils/deprecation.py:87: FutureWarning: Function plot_confusion_matrix is deprecated; Function `plot_confusion_matrix` is deprecated in 1.0 and will be removed in 1.2. Use one of the class methods: ConfusionMatrixDisplay.from_predictions or ConfusionMatrixDisplay.from_estimator.\n",
            "  warnings.warn(msg, category=FutureWarning)\n"
          ]
        },
        {
          "output_type": "execute_result",
          "data": {
            "text/plain": [
              "<sklearn.metrics._plot.confusion_matrix.ConfusionMatrixDisplay at 0x7fda295db790>"
            ]
          },
          "metadata": {},
          "execution_count": 57
        },
        {
          "output_type": "display_data",
          "data": {
            "text/plain": [
              "<Figure size 432x288 with 2 Axes>"
            ],
            "image/png": "[encoded data removed]"
          },
          "metadata": {
            "needs_background": "light"
          }
        }
      ]
    },
    {
      "cell_type": "code",
      "source": [
        "from sklearn.model_selection import GridSearchCV\n",
        "nnb = [1, 3, 5, 10, 15, 20, 25, 35, 45, 55]\n",
        "knn = KNeighborsClassifier()\n",
        "grid = GridSearchCV(knn, param_grid = {'n_neighbors': nnb}, cv=10)\n",
        "grid.fit(X_train, y_train)\n",
        "\n",
        "best_cv_err = 1 - grid.best_score_\n",
        "best_n_neighbors = grid.best_estimator_.n_neighbors\n",
        "print(best_cv_err, best_n_neighbors)"
      ],
      "metadata": {
        "colab": {
          "base_uri": "https://localhost:8080/"
        },
        "id": "u6mOyloRG80M",
        "outputId": "702bc04c-eb2e-4fab-80b3-d435495d10fe"
      },
      "execution_count": 58,
      "outputs": [
        {
          "output_type": "stream",
          "name": "stdout",
          "text": [
            "0.05584724794198659 15\n"
          ]
        }
      ]
    },
    {
      "cell_type": "code",
      "source": [
        "knn = KNeighborsClassifier(n_neighbors = best_n_neighbors).fit(X_train, y_train)\n",
        "\n",
        "err_train = np.mean(y_train != knn.predict(X_train))\n",
        "err_test  = np.mean(y_test  != knn.predict(X_test))\n",
        "\n",
        "print(err_train, err_test)\n",
        "\n",
        "test_error_list.append(err_test)\n",
        "train_error_list.append(err_train)"
      ],
      "metadata": {
        "colab": {
          "base_uri": "https://localhost:8080/"
        },
        "id": "mtjmXrVXG86A",
        "outputId": "69cc75ab-4ca2-4bf6-bd89-f46f715d276e"
      },
      "execution_count": 59,
      "outputs": [
        {
          "output_type": "stream",
          "name": "stdout",
          "text": [
            "0.051940798659592294 0.056640625\n"
          ]
        }
      ]
    },
    {
      "cell_type": "code",
      "source": [
        "from sklearn.metrics import plot_confusion_matrix\n",
        "plot_confusion_matrix(knn, X_test, y_test, cmap=plt.cm.Blues)"
      ],
      "metadata": {
        "colab": {
          "base_uri": "https://localhost:8080/",
          "height": 351
        },
        "id": "cGr6J-yQJIi5",
        "outputId": "670329d0-e943-440d-97f8-5746aeb8fdda"
      },
      "execution_count": 60,
      "outputs": [
        {
          "output_type": "stream",
          "name": "stderr",
          "text": [
            "/usr/local/lib/python3.8/dist-packages/sklearn/utils/deprecation.py:87: FutureWarning: Function plot_confusion_matrix is deprecated; Function `plot_confusion_matrix` is deprecated in 1.0 and will be removed in 1.2. Use one of the class methods: ConfusionMatrixDisplay.from_predictions or ConfusionMatrixDisplay.from_estimator.\n",
            "  warnings.warn(msg, category=FutureWarning)\n"
          ]
        },
        {
          "output_type": "execute_result",
          "data": {
            "text/plain": [
              "<sklearn.metrics._plot.confusion_matrix.ConfusionMatrixDisplay at 0x7fda295aa9d0>"
            ]
          },
          "metadata": {},
          "execution_count": 60
        },
        {
          "output_type": "display_data",
          "data": {
            "text/plain": [
              "<Figure size 432x288 with 2 Axes>"
            ],
            "image/png": "[encoded data removed]"
          },
          "metadata": {
            "needs_background": "light"
          }
        }
      ]
    },
    {
      "cell_type": "markdown",
      "source": [
        "SVC"
      ],
      "metadata": {
        "id": "lZ23j4NFY3OX"
      }
    },
    {
      "cell_type": "code",
      "source": [
        "from sklearn.svm import SVC\n",
        "svc = SVC(gamma='auto')\n",
        "svc.fit(X_train, y_train)\n",
        "\n",
        "err_train = np.mean(y_train != svc.predict(X_train))\n",
        "err_test  = np.mean(y_test  != svc.predict(X_test))\n",
        "\n",
        "print(err_train, err_test)\n",
        "\n",
        "test_error_list.append(err_test)\n",
        "train_error_list.append(err_train)"
      ],
      "metadata": {
        "colab": {
          "base_uri": "https://localhost:8080/"
        },
        "id": "ABpmhSnLJIll",
        "outputId": "6b2b0c8c-b85d-42f3-95d2-8f45e6f1f90f"
      },
      "execution_count": 61,
      "outputs": [
        {
          "output_type": "stream",
          "name": "stdout",
          "text": [
            "0.03853672158614912 0.036458333333333336\n"
          ]
        }
      ]
    },
    {
      "cell_type": "code",
      "source": [
        "plot_confusion_matrix(svc, X_test, y_test, cmap=plt.cm.Blues)"
      ],
      "metadata": {
        "colab": {
          "base_uri": "https://localhost:8080/",
          "height": 351
        },
        "id": "iY1omv7EaGSd",
        "outputId": "a910c84d-3951-434a-a1ab-de80203b2818"
      },
      "execution_count": 62,
      "outputs": [
        {
          "output_type": "stream",
          "name": "stderr",
          "text": [
            "/usr/local/lib/python3.8/dist-packages/sklearn/utils/deprecation.py:87: FutureWarning: Function plot_confusion_matrix is deprecated; Function `plot_confusion_matrix` is deprecated in 1.0 and will be removed in 1.2. Use one of the class methods: ConfusionMatrixDisplay.from_predictions or ConfusionMatrixDisplay.from_estimator.\n",
            "  warnings.warn(msg, category=FutureWarning)\n"
          ]
        },
        {
          "output_type": "execute_result",
          "data": {
            "text/plain": [
              "<sklearn.metrics._plot.confusion_matrix.ConfusionMatrixDisplay at 0x7fda295cc970>"
            ]
          },
          "metadata": {},
          "execution_count": 62
        },
        {
          "output_type": "display_data",
          "data": {
            "text/plain": [
              "<Figure size 432x288 with 2 Axes>"
            ],
            "image/png": "[encoded data removed]"
          },
          "metadata": {
            "needs_background": "light"
          }
        }
      ]
    },
    {
      "cell_type": "markdown",
      "source": [
        "Random Forest"
      ],
      "metadata": {
        "id": "46-t6k9lY-wX"
      }
    },
    {
      "cell_type": "code",
      "source": [
        "from sklearn import ensemble\n",
        "rf = ensemble.RandomForestClassifier(n_estimators = 1000)\n",
        "rf.fit(X_train, y_train)\n",
        "\n",
        "err_train = np.mean(y_train != rf.predict(X_train))\n",
        "err_test  = np.mean(y_test  != rf.predict(X_test))\n",
        "\n",
        "print(err_train, err_test)\n",
        "\n",
        "test_error_list.append(err_test)\n",
        "train_error_list.append(err_train)"
      ],
      "metadata": {
        "colab": {
          "base_uri": "https://localhost:8080/"
        },
        "id": "TRXFpSE3PQVl",
        "outputId": "c56919f8-88e4-44fe-ccaa-61f526abb600"
      },
      "execution_count": 63,
      "outputs": [
        {
          "output_type": "stream",
          "name": "stdout",
          "text": [
            "0.0 0.027994791666666668\n"
          ]
        }
      ]
    },
    {
      "cell_type": "code",
      "source": [
        "plot_confusion_matrix(rf, X_test, y_test, cmap=plt.cm.Blues)"
      ],
      "metadata": {
        "colab": {
          "base_uri": "https://localhost:8080/",
          "height": 351
        },
        "id": "PpXpsATIaHg2",
        "outputId": "809fb4e6-77c1-4f11-9aac-fc3882151b85"
      },
      "execution_count": 64,
      "outputs": [
        {
          "output_type": "stream",
          "name": "stderr",
          "text": [
            "/usr/local/lib/python3.8/dist-packages/sklearn/utils/deprecation.py:87: FutureWarning: Function plot_confusion_matrix is deprecated; Function `plot_confusion_matrix` is deprecated in 1.0 and will be removed in 1.2. Use one of the class methods: ConfusionMatrixDisplay.from_predictions or ConfusionMatrixDisplay.from_estimator.\n",
            "  warnings.warn(msg, category=FutureWarning)\n"
          ]
        },
        {
          "output_type": "execute_result",
          "data": {
            "text/plain": [
              "<sklearn.metrics._plot.confusion_matrix.ConfusionMatrixDisplay at 0x7fda2910f040>"
            ]
          },
          "metadata": {},
          "execution_count": 64
        },
        {
          "output_type": "display_data",
          "data": {
            "text/plain": [
              "<Figure size 432x288 with 2 Axes>"
            ],
            "image/png": "[encoded data removed]"
          },
          "metadata": {
            "needs_background": "light"
          }
        }
      ]
    },
    {
      "cell_type": "markdown",
      "source": [
        "Extremely Randomized Trees"
      ],
      "metadata": {
        "id": "MqSgWflfaI_Y"
      }
    },
    {
      "cell_type": "code",
      "source": [
        "ert = ensemble.ExtraTreesClassifier(n_estimators = 100).fit(X_train, y_train)\n",
        "\n",
        "err_train = np.mean(y_train != ert.predict(X_train))\n",
        "err_test  = np.mean(y_test  != ert.predict(X_test))\n",
        "\n",
        "print(err_train, err_test)\n",
        "\n",
        "test_error_list.append(err_test)\n",
        "train_error_list.append(err_train)"
      ],
      "metadata": {
        "colab": {
          "base_uri": "https://localhost:8080/"
        },
        "id": "AlWZkHm9PQdK",
        "outputId": "41da4498-d14c-431c-cc03-c1ee98f7278f"
      },
      "execution_count": 65,
      "outputs": [
        {
          "output_type": "stream",
          "name": "stdout",
          "text": [
            "0.0 0.034505208333333336\n"
          ]
        }
      ]
    },
    {
      "cell_type": "code",
      "source": [
        "plot_confusion_matrix(ert, X_test, y_test, cmap=plt.cm.Blues)"
      ],
      "metadata": {
        "colab": {
          "base_uri": "https://localhost:8080/",
          "height": 351
        },
        "id": "6GJmNC62aOlw",
        "outputId": "3d763fc2-8542-45f4-ca3c-c91c2e1f6bb4"
      },
      "execution_count": 66,
      "outputs": [
        {
          "output_type": "stream",
          "name": "stderr",
          "text": [
            "/usr/local/lib/python3.8/dist-packages/sklearn/utils/deprecation.py:87: FutureWarning: Function plot_confusion_matrix is deprecated; Function `plot_confusion_matrix` is deprecated in 1.0 and will be removed in 1.2. Use one of the class methods: ConfusionMatrixDisplay.from_predictions or ConfusionMatrixDisplay.from_estimator.\n",
            "  warnings.warn(msg, category=FutureWarning)\n"
          ]
        },
        {
          "output_type": "execute_result",
          "data": {
            "text/plain": [
              "<sklearn.metrics._plot.confusion_matrix.ConfusionMatrixDisplay at 0x7fda29113a30>"
            ]
          },
          "metadata": {},
          "execution_count": 66
        },
        {
          "output_type": "display_data",
          "data": {
            "text/plain": [
              "<Figure size 432x288 with 2 Axes>"
            ],
            "image/png": "[encoded data removed]"
          },
          "metadata": {
            "needs_background": "light"
          }
        }
      ]
    },
    {
      "cell_type": "markdown",
      "source": [
        "AdaBoost"
      ],
      "metadata": {
        "id": "LxIeILBgaJ1J"
      }
    },
    {
      "cell_type": "code",
      "source": [
        "ada = ensemble.AdaBoostClassifier(n_estimators = 1000)\n",
        "ada.fit(X_train, y_train)\n",
        "\n",
        "err_train = np.mean(y_train != ada.predict(X_train))\n",
        "err_test = np.mean(y_test != ada.predict(X_test))\n",
        "\n",
        "print(err_train, err_test)\n",
        "\n",
        "test_error_list.append(err_test)\n",
        "train_error_list.append(err_train)"
      ],
      "metadata": {
        "colab": {
          "base_uri": "https://localhost:8080/"
        },
        "id": "vBCX62XGPQjL",
        "outputId": "a7e07f40-6c8f-4930-eea9-1bb78b7ad17f"
      },
      "execution_count": 67,
      "outputs": [
        {
          "output_type": "stream",
          "name": "stdout",
          "text": [
            "0.008377548170901982 0.042317708333333336\n"
          ]
        }
      ]
    },
    {
      "cell_type": "code",
      "source": [
        "plot_confusion_matrix(ada, X_test, y_test, cmap=plt.cm.Blues)"
      ],
      "metadata": {
        "colab": {
          "base_uri": "https://localhost:8080/",
          "height": 351
        },
        "id": "91Gaec0taNAa",
        "outputId": "1318727e-8ef8-40b5-ba5f-5f8d5b8501ae"
      },
      "execution_count": 68,
      "outputs": [
        {
          "output_type": "stream",
          "name": "stderr",
          "text": [
            "/usr/local/lib/python3.8/dist-packages/sklearn/utils/deprecation.py:87: FutureWarning: Function plot_confusion_matrix is deprecated; Function `plot_confusion_matrix` is deprecated in 1.0 and will be removed in 1.2. Use one of the class methods: ConfusionMatrixDisplay.from_predictions or ConfusionMatrixDisplay.from_estimator.\n",
            "  warnings.warn(msg, category=FutureWarning)\n"
          ]
        },
        {
          "output_type": "execute_result",
          "data": {
            "text/plain": [
              "<sklearn.metrics._plot.confusion_matrix.ConfusionMatrixDisplay at 0x7fda28f3b070>"
            ]
          },
          "metadata": {},
          "execution_count": 68
        },
        {
          "output_type": "display_data",
          "data": {
            "text/plain": [
              "<Figure size 432x288 with 2 Axes>"
            ],
            "image/png": "[encoded data removed]"
          },
          "metadata": {
            "needs_background": "light"
          }
        }
      ]
    },
    {
      "cell_type": "markdown",
      "source": [
        "GBT"
      ],
      "metadata": {
        "id": "jIotDAE4aKdP"
      }
    },
    {
      "cell_type": "code",
      "source": [
        "gbt = ensemble.GradientBoostingClassifier(n_estimators = 1000)\n",
        "gbt.fit(X_train, y_train)\n",
        "\n",
        "err_train = np.mean(y_train != gbt.predict(X_train))\n",
        "err_test = np.mean(y_test != gbt.predict(X_test))\n",
        "\n",
        "print(err_train, err_test)\n",
        "\n",
        "test_error_list.append(err_test)\n",
        "train_error_list.append(err_train)"
      ],
      "metadata": {
        "colab": {
          "base_uri": "https://localhost:8080/"
        },
        "id": "pO1JaK08ZqY6",
        "outputId": "4a5c8227-3e92-4756-8b06-c5fe34c8f4b3"
      },
      "execution_count": 69,
      "outputs": [
        {
          "output_type": "stream",
          "name": "stdout",
          "text": [
            "0.0 0.03515625\n"
          ]
        }
      ]
    },
    {
      "cell_type": "code",
      "source": [
        "plot_confusion_matrix(gbt, X_test, y_test, cmap=plt.cm.Blues)"
      ],
      "metadata": {
        "colab": {
          "base_uri": "https://localhost:8080/",
          "height": 351
        },
        "id": "i_FvAwjjZ0gF",
        "outputId": "8fb0ec9b-b7c3-4d9b-f91e-4ba8df3b14e6"
      },
      "execution_count": 70,
      "outputs": [
        {
          "output_type": "stream",
          "name": "stderr",
          "text": [
            "/usr/local/lib/python3.8/dist-packages/sklearn/utils/deprecation.py:87: FutureWarning: Function plot_confusion_matrix is deprecated; Function `plot_confusion_matrix` is deprecated in 1.0 and will be removed in 1.2. Use one of the class methods: ConfusionMatrixDisplay.from_predictions or ConfusionMatrixDisplay.from_estimator.\n",
            "  warnings.warn(msg, category=FutureWarning)\n"
          ]
        },
        {
          "output_type": "execute_result",
          "data": {
            "text/plain": [
              "<sklearn.metrics._plot.confusion_matrix.ConfusionMatrixDisplay at 0x7fda28e42cd0>"
            ]
          },
          "metadata": {},
          "execution_count": 70
        },
        {
          "output_type": "display_data",
          "data": {
            "text/plain": [
              "<Figure size 432x288 with 2 Axes>"
            ],
            "image/png": "[encoded data removed]"
          },
          "metadata": {
            "needs_background": "light"
          }
        }
      ]
    },
    {
      "cell_type": "markdown",
      "source": [
        "# Вывод"
      ],
      "metadata": {
        "id": "9Mt0uMhqa2qn"
      }
    },
    {
      "cell_type": "code",
      "source": [
        "methods.add_row(test_error_list)\n",
        "methods.add_row(train_error_list)\n",
        "print(methods)"
      ],
      "metadata": {
        "colab": {
          "base_uri": "https://localhost:8080/"
        },
        "id": "g4MTSk9dapYd",
        "outputId": "2f31aafa-a93a-49ae-d193-1e1ba3982ced"
      },
      "execution_count": 71,
      "outputs": [
        {
          "output_type": "stream",
          "name": "stdout",
          "text": [
            "+-------------+----------------------+----------------------+----------------------+----------------------------+----------------------+------------+\n",
            "|             |         KNN          |         SVC          |    Random Forest     | Extremely Randomized Trees |       AdaBoost       |    GBT     |\n",
            "+-------------+----------------------+----------------------+----------------------+----------------------------+----------------------+------------+\n",
            "|  Test error |     0.056640625      | 0.036458333333333336 | 0.027994791666666668 |    0.034505208333333336    | 0.042317708333333336 | 0.03515625 |\n",
            "| Train error | 0.051940798659592294 | 0.03853672158614912  |         0.0          |            0.0             | 0.008377548170901982 |    0.0     |\n",
            "+-------------+----------------------+----------------------+----------------------+----------------------------+----------------------+------------+\n"
          ]
        }
      ]
    },
    {
      "cell_type": "markdown",
      "source": [
        "Наименьшую ошибку на тестовой выборке показали методы Random Forest. Наибольшую - KNN."
      ],
      "metadata": {
        "id": "-4kx8LBwapDs"
      }
    },
    {
      "cell_type": "markdown",
      "source": [
        "# Полносвязная неглубокая нейронная сеть"
      ],
      "metadata": {
        "id": "hkEeW3MEUusx"
      }
    },
    {
      "cell_type": "code",
      "source": [
        "from sklearn.neural_network import MLPClassifier\n",
        "\n",
        "X_train, X_test, y_train, y_test = train_test_split(X, y, test_size = 0.3, random_state = 7)\n",
        "N_test, _ = X_test.shape\n",
        "\n",
        "mlp_model = MLPClassifier(hidden_layer_sizes = (100,),\n",
        "                          solver = 'lbfgs', \n",
        "                          activation = 'logistic',\n",
        "                          random_state = 42, max_iter=400)"
      ],
      "metadata": {
        "id": "FNO060j8U1nY"
      },
      "execution_count": 78,
      "outputs": []
    },
    {
      "cell_type": "code",
      "source": [
        "%%time\n",
        "mlp_model.fit(X_train, y_train)"
      ],
      "metadata": {
        "colab": {
          "base_uri": "https://localhost:8080/"
        },
        "id": "1tObqW86VXFo",
        "outputId": "17c77146-7bfa-4ce5-9b2a-878f7c60c03d"
      },
      "execution_count": 79,
      "outputs": [
        {
          "output_type": "stream",
          "name": "stdout",
          "text": [
            "CPU times: user 14.1 s, sys: 10.3 s, total: 24.4 s\n",
            "Wall time: 12.8 s\n"
          ]
        },
        {
          "output_type": "execute_result",
          "data": {
            "text/plain": [
              "MLPClassifier(activation='logistic', max_iter=400, random_state=42,\n",
              "              solver='lbfgs')"
            ]
          },
          "metadata": {},
          "execution_count": 79
        }
      ]
    },
    {
      "cell_type": "markdown",
      "source": [
        "**Качество классификатора:**"
      ],
      "metadata": {
        "id": "vz7thk-fWI3e"
      }
    },
    {
      "cell_type": "code",
      "source": [
        "y_train_pred = mlp_model.predict(X_train)\n",
        "y_test_pred = mlp_model.predict(X_test)"
      ],
      "metadata": {
        "id": "2hWBCyNyWH-d"
      },
      "execution_count": 80,
      "outputs": []
    },
    {
      "cell_type": "code",
      "source": [
        "print(np.mean(y_train != y_train_pred), np.mean(y_test != y_test_pred))"
      ],
      "metadata": {
        "colab": {
          "base_uri": "https://localhost:8080/"
        },
        "id": "Z8ZgzslHWYD1",
        "outputId": "e227bd4c-b6fe-4763-ab8d-244c287b3633"
      },
      "execution_count": 81,
      "outputs": [
        {
          "output_type": "stream",
          "name": "stdout",
          "text": [
            "0.0036302708740575257 0.064453125\n"
          ]
        }
      ]
    },
    {
      "cell_type": "code",
      "source": [
        "print(mlp_model.score(X_train, y_train), mlp_model.score(X_test, y_test))"
      ],
      "metadata": {
        "colab": {
          "base_uri": "https://localhost:8080/"
        },
        "id": "RAaT2ppwWxhH",
        "outputId": "7fa88cbe-d59c-4d67-9218-23059e9d736e"
      },
      "execution_count": 82,
      "outputs": [
        {
          "output_type": "stream",
          "name": "stdout",
          "text": [
            "0.9963697291259425 0.935546875\n"
          ]
        }
      ]
    },
    {
      "cell_type": "code",
      "source": [
        "print(1 - mlp_model.score(X_test, y_test))"
      ],
      "metadata": {
        "colab": {
          "base_uri": "https://localhost:8080/"
        },
        "id": "jIJ0jB-8WxKA",
        "outputId": "b88ae1e8-a9ed-4b6c-b41d-5d9a5e8c0d45"
      },
      "execution_count": 83,
      "outputs": [
        {
          "output_type": "stream",
          "name": "stdout",
          "text": [
            "0.064453125\n"
          ]
        }
      ]
    },
    {
      "cell_type": "markdown",
      "source": [
        "___"
      ],
      "metadata": {
        "id": "3aa5md6QW9BS"
      }
    },
    {
      "cell_type": "code",
      "source": [
        "from sklearn.metrics import accuracy_score\n",
        "accuracy_score(y_train, y_train_pred)"
      ],
      "metadata": {
        "colab": {
          "base_uri": "https://localhost:8080/"
        },
        "id": "cn0ElUhYW-IF",
        "outputId": "124bccff-b0d4-4240-9f48-49c0e5e5fef6"
      },
      "execution_count": 86,
      "outputs": [
        {
          "output_type": "execute_result",
          "data": {
            "text/plain": [
              "0.9963697291259425"
            ]
          },
          "metadata": {},
          "execution_count": 86
        }
      ]
    },
    {
      "cell_type": "code",
      "source": [
        "accuracy_score(y_test, y_test_pred)"
      ],
      "metadata": {
        "colab": {
          "base_uri": "https://localhost:8080/"
        },
        "id": "DNEj8kRWXDl8",
        "outputId": "02be411d-645a-44f2-8d21-51256b469568"
      },
      "execution_count": 85,
      "outputs": [
        {
          "output_type": "execute_result",
          "data": {
            "text/plain": [
              "0.935546875"
            ]
          },
          "metadata": {},
          "execution_count": 85
        }
      ]
    },
    {
      "cell_type": "markdown",
      "source": [
        "**Подбор оптимального значения параметра alpha:**"
      ],
      "metadata": {
        "id": "BO3BhXgaXL-p"
      }
    },
    {
      "cell_type": "code",
      "source": [
        "alpha_arr = np.logspace(-3, 2, 21)\n",
        "test_err = []\n",
        "train_err = []\n",
        "train_acc = []\n",
        "test_acc = []\n",
        "\n",
        "for alpha in alpha_arr:\n",
        "    mlp_model = MLPClassifier(alpha = alpha, hidden_layer_sizes = (100,), \n",
        "                              solver = 'lbfgs', activation = 'logistic', max_iter=1000, random_state = 42)\n",
        "    mlp_model.fit(X_train, y_train)\n",
        "\n",
        "    y_train_pred = mlp_model.predict(X_train)\n",
        "    y_test_pred = mlp_model.predict(X_test)\n",
        "    \n",
        "    train_err.append(np.mean(y_train != y_train_pred))\n",
        "    test_err.append(np.mean(y_test != y_test_pred))\n",
        "    train_acc.append(accuracy_score(y_train, y_train_pred))\n",
        "    test_acc.append(accuracy_score(y_test, y_test_pred))"
      ],
      "metadata": {
        "id": "sSoodcEnXEFV"
      },
      "execution_count": 88,
      "outputs": []
    },
    {
      "cell_type": "code",
      "source": [
        "plt.semilogx(alpha_arr, train_err, 'b-o', label = 'train')\n",
        "plt.semilogx(alpha_arr, test_err, 'r-o', label = 'test')\n",
        "plt.xlim([np.min(alpha_arr), np.max(alpha_arr)])\n",
        "plt.title('Error vs. alpha')\n",
        "plt.xlabel('alpha')\n",
        "plt.ylabel('error')\n",
        "plt.legend()"
      ],
      "metadata": {
        "colab": {
          "base_uri": "https://localhost:8080/",
          "height": 316
        },
        "id": "Cl6kzT2uXD-Z",
        "outputId": "5ae783eb-a434-4280-e38b-e7d908198224"
      },
      "execution_count": 89,
      "outputs": [
        {
          "output_type": "execute_result",
          "data": {
            "text/plain": [
              "<matplotlib.legend.Legend at 0x7fda29b458e0>"
            ]
          },
          "metadata": {},
          "execution_count": 89
        },
        {
          "output_type": "display_data",
          "data": {
            "text/plain": [
              "<Figure size 432x288 with 1 Axes>"
            ],
            "image/png": "[encoded data removed]"
          },
          "metadata": {
            "needs_background": "light"
          }
        }
      ]
    },
    {
      "cell_type": "code",
      "source": [
        "plt.semilogx(alpha_arr, train_acc, 'r-o', label = 'train')\n",
        "plt.semilogx(alpha_arr, test_acc, 'b-o', label = 'test')\n",
        "plt.xlim([np.min(alpha_arr), np.max(alpha_arr)])\n",
        "plt.title('Accuracy vs. alpha')\n",
        "plt.xlabel('alpha')\n",
        "plt.ylabel('Accuracy')\n",
        "plt.legend()"
      ],
      "metadata": {
        "colab": {
          "base_uri": "https://localhost:8080/",
          "height": 316
        },
        "id": "eaemvrACbPyg",
        "outputId": "8aa28d11-571d-4a45-c389-140b054e76b5"
      },
      "execution_count": 90,
      "outputs": [
        {
          "output_type": "execute_result",
          "data": {
            "text/plain": [
              "<matplotlib.legend.Legend at 0x7fda28b15f70>"
            ]
          },
          "metadata": {},
          "execution_count": 90
        },
        {
          "output_type": "display_data",
          "data": {
            "text/plain": [
              "<Figure size 432x288 with 1 Axes>"
            ],
            "image/png": "[encoded data removed]"
          },
          "metadata": {
            "needs_background": "light"
          }
        }
      ]
    },
    {
      "cell_type": "markdown",
      "source": [
        "**Минимальное значение ошибки:**"
      ],
      "metadata": {
        "id": "KOTVHFqabW-0"
      }
    },
    {
      "cell_type": "code",
      "source": [
        "min_train_err = np.min(train_err)\n",
        "min_test_err = np.min(test_err)\n",
        "print(min_train_err, min_test_err)"
      ],
      "metadata": {
        "colab": {
          "base_uri": "https://localhost:8080/"
        },
        "id": "_JOhruMnbPqV",
        "outputId": "139dd8c8-7e6b-424e-c242-cea1b573aa62"
      },
      "execution_count": 91,
      "outputs": [
        {
          "output_type": "stream",
          "name": "stdout",
          "text": [
            "0.0 0.031901041666666664\n"
          ]
        }
      ]
    },
    {
      "cell_type": "markdown",
      "source": [
        "**Оптимальное значение параметра alpha:**"
      ],
      "metadata": {
        "id": "9_0PBr3MbacC"
      }
    },
    {
      "cell_type": "code",
      "source": [
        "alpha_opt = alpha_arr[test_err == min_test_err]\n",
        "print(alpha_opt)"
      ],
      "metadata": {
        "colab": {
          "base_uri": "https://localhost:8080/"
        },
        "id": "lZwuKmiGbPeK",
        "outputId": "68edd0de-3ee4-4c86-f94e-77f7bd4e2d97"
      },
      "execution_count": 92,
      "outputs": [
        {
          "output_type": "stream",
          "name": "stdout",
          "text": [
            "[0.56234133 1.         1.77827941 3.16227766 5.62341325]\n"
          ]
        }
      ]
    },
    {
      "cell_type": "code",
      "source": [
        "alpha_opt = alpha_opt[0]\n",
        "alpha_opt"
      ],
      "metadata": {
        "colab": {
          "base_uri": "https://localhost:8080/"
        },
        "id": "3lq0n123bpr_",
        "outputId": "ad22c443-6921-4664-c117-acbc0ae65029"
      },
      "execution_count": 93,
      "outputs": [
        {
          "output_type": "execute_result",
          "data": {
            "text/plain": [
              "0.5623413251903491"
            ]
          },
          "metadata": {},
          "execution_count": 93
        }
      ]
    },
    {
      "cell_type": "markdown",
      "source": [
        "**Повторное обучение с оптимальным значением параметра alpha:**"
      ],
      "metadata": {
        "id": "yeVctLRVbud4"
      }
    },
    {
      "cell_type": "code",
      "source": [
        "mlp_model = MLPClassifier(alpha = alpha_opt, hidden_layer_sizes = (100,),\n",
        "                          solver = 'lbfgs', activation = 'logistic', random_state = 42, max_iter=500)\n",
        "mlp_model.fit(X_train, y_train)\n",
        "\n",
        "y_train_pred = mlp_model.predict(X_train)\n",
        "y_test_pred = mlp_model.predict(X_test)\n",
        "print(np.mean(y_train != y_train_pred), np.mean(y_test != y_test_pred))"
      ],
      "metadata": {
        "colab": {
          "base_uri": "https://localhost:8080/"
        },
        "id": "JohF3sacbpg9",
        "outputId": "a6c427d9-ac6b-422c-fdf5-5708d83e5b53"
      },
      "execution_count": 96,
      "outputs": [
        {
          "output_type": "stream",
          "name": "stdout",
          "text": [
            "0.0332309410779112 0.031901041666666664\n"
          ]
        }
      ]
    },
    {
      "cell_type": "markdown",
      "source": [
        "**Матрица рассоглосования:**"
      ],
      "metadata": {
        "id": "ervYs4KkcMNw"
      }
    },
    {
      "cell_type": "code",
      "source": [
        "from sklearn.metrics import confusion_matrix\n",
        "print(confusion_matrix(y_test_pred, y_test))"
      ],
      "metadata": {
        "colab": {
          "base_uri": "https://localhost:8080/"
        },
        "id": "GGRuvXLpb0Xt",
        "outputId": "e1890ddd-e021-4408-c88c-54b6089ecb32"
      },
      "execution_count": 97,
      "outputs": [
        {
          "output_type": "stream",
          "name": "stdout",
          "text": [
            "[[982  45]\n",
            " [  4 505]]\n"
          ]
        }
      ]
    },
    {
      "cell_type": "code",
      "source": [
        "plot_confusion_matrix(mlp_model, X_test, y_test) "
      ],
      "metadata": {
        "colab": {
          "base_uri": "https://localhost:8080/",
          "height": 351
        },
        "id": "jJ7-6uXVb0L0",
        "outputId": "c9d2f926-4885-4613-a212-550bd3da4ca2"
      },
      "execution_count": 103,
      "outputs": [
        {
          "output_type": "stream",
          "name": "stderr",
          "text": [
            "/usr/local/lib/python3.8/dist-packages/sklearn/utils/deprecation.py:87: FutureWarning: Function plot_confusion_matrix is deprecated; Function `plot_confusion_matrix` is deprecated in 1.0 and will be removed in 1.2. Use one of the class methods: ConfusionMatrixDisplay.from_predictions or ConfusionMatrixDisplay.from_estimator.\n",
            "  warnings.warn(msg, category=FutureWarning)\n"
          ]
        },
        {
          "output_type": "execute_result",
          "data": {
            "text/plain": [
              "<sklearn.metrics._plot.confusion_matrix.ConfusionMatrixDisplay at 0x7fda27e0dfd0>"
            ]
          },
          "metadata": {},
          "execution_count": 103
        },
        {
          "output_type": "display_data",
          "data": {
            "text/plain": [
              "<Figure size 432x288 with 2 Axes>"
            ],
            "image/png": "[encoded data removed]"
          },
          "metadata": {
            "needs_background": "light"
          }
        }
      ]
    },
    {
      "cell_type": "markdown",
      "source": [
        "**Другие характеристики:**"
      ],
      "metadata": {
        "id": "6ZwJiAQAdCgi"
      }
    },
    {
      "cell_type": "code",
      "source": [
        "from sklearn.metrics import classification_report\n",
        "print(classification_report(y_test, y_test_pred))"
      ],
      "metadata": {
        "colab": {
          "base_uri": "https://localhost:8080/"
        },
        "id": "Qu4ifp2VdDIH",
        "outputId": "a5fbb712-2599-46b0-cb05-dc1d4d77cb3c"
      },
      "execution_count": 104,
      "outputs": [
        {
          "output_type": "stream",
          "name": "stdout",
          "text": [
            "              precision    recall  f1-score   support\n",
            "\n",
            "         0.0       0.96      1.00      0.98       986\n",
            "         1.0       0.99      0.92      0.95       550\n",
            "\n",
            "    accuracy                           0.97      1536\n",
            "   macro avg       0.97      0.96      0.96      1536\n",
            "weighted avg       0.97      0.97      0.97      1536\n",
            "\n"
          ]
        }
      ]
    },
    {
      "cell_type": "code",
      "source": [],
      "metadata": {
        "id": "tylX2o5ncUTY"
      },
      "execution_count": null,
      "outputs": []
    },
    {
      "cell_type": "code",
      "source": [],
      "metadata": {
        "id": "Xq3QWtzWcUNC"
      },
      "execution_count": null,
      "outputs": []
    },
    {
      "cell_type": "code",
      "source": [],
      "metadata": {
        "id": "x28LRKQacUB_"
      },
      "execution_count": null,
      "outputs": []
    }
  ]
}